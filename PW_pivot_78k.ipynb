{
 "cells": [
  {
   "cell_type": "code",
   "execution_count": 1,
   "metadata": {},
   "outputs": [
    {
     "name": "stdout",
     "output_type": "stream",
     "text": [
      "<class 'pandas.core.frame.DataFrame'>\n",
      "RangeIndex: 11749 entries, 0 to 11748\n",
      "Data columns (total 8 columns):\n",
      "matched word       11748 non-null object\n",
      "freq in pws        11749 non-null int64\n",
      "freq in web        11749 non-null int64\n",
      "individual freq    11749 non-null int64\n",
      "POS                11749 non-null object\n",
      "analysis           11749 non-null object\n",
      "finnish word       11749 non-null bool\n",
      "finnish name       11749 non-null bool\n",
      "dtypes: bool(2), int64(3), object(3)\n",
      "memory usage: 573.8+ KB\n"
     ]
    }
   ],
   "source": [
    "import pandas as pd\n",
    "import numpy as np\n",
    "import matplotlib.pyplot as plt\n",
    "%matplotlib inline\n",
    "\n",
    "# give the datafile name\n",
    "#datafile= 'all_words_pivot.xlsx'\n",
    "datafile= 'C:\\Users\\elmasyr\\Seafile\\PW Project\\PW Proj Shared Docs\\data\\matched word pivot files/78k_word_pivot.xlsx'\n",
    "\n",
    "df = pd.read_excel(datafile, header=0, sep=',', encoding='utf-8', sheet_name='matchfreqfinnw_names')\n",
    "#df = pd.read_excel(datafile, header=0, sep=',', encoding='utf-8')\n",
    "df.info() # could also use df_final.dtypes"
   ]
  },
  {
   "cell_type": "code",
   "execution_count": 2,
   "metadata": {},
   "outputs": [
    {
     "data": {
      "text/html": [
       "<div>\n",
       "<style scoped>\n",
       "    .dataframe tbody tr th:only-of-type {\n",
       "        vertical-align: middle;\n",
       "    }\n",
       "\n",
       "    .dataframe tbody tr th {\n",
       "        vertical-align: top;\n",
       "    }\n",
       "\n",
       "    .dataframe thead th {\n",
       "        text-align: right;\n",
       "    }\n",
       "</style>\n",
       "<table border=\"1\" class=\"dataframe\">\n",
       "  <thead>\n",
       "    <tr style=\"text-align: right;\">\n",
       "      <th></th>\n",
       "      <th>matched word</th>\n",
       "      <th>freq in pws</th>\n",
       "      <th>freq in web</th>\n",
       "      <th>individual freq</th>\n",
       "      <th>POS</th>\n",
       "      <th>analysis</th>\n",
       "      <th>finnish word</th>\n",
       "      <th>finnish name</th>\n",
       "    </tr>\n",
       "  </thead>\n",
       "  <tbody>\n",
       "    <tr>\n",
       "      <th>0</th>\n",
       "      <td>salasana</td>\n",
       "      <td>224</td>\n",
       "      <td>16553</td>\n",
       "      <td>16173</td>\n",
       "      <td>NOUN</td>\n",
       "      <td>Case=Nom|Number=Sing</td>\n",
       "      <td>True</td>\n",
       "      <td>False</td>\n",
       "    </tr>\n",
       "    <tr>\n",
       "      <th>1</th>\n",
       "      <td>perkele</td>\n",
       "      <td>167</td>\n",
       "      <td>13111</td>\n",
       "      <td>4304</td>\n",
       "      <td>NOUN</td>\n",
       "      <td>Case=Nom|Number=Sing</td>\n",
       "      <td>True</td>\n",
       "      <td>False</td>\n",
       "    </tr>\n",
       "    <tr>\n",
       "      <th>2</th>\n",
       "      <td>paska</td>\n",
       "      <td>121</td>\n",
       "      <td>21359</td>\n",
       "      <td>20343</td>\n",
       "      <td>NOUN</td>\n",
       "      <td>Case=Nom|Number=Sing</td>\n",
       "      <td>True</td>\n",
       "      <td>False</td>\n",
       "    </tr>\n",
       "    <tr>\n",
       "      <th>3</th>\n",
       "      <td>kakka</td>\n",
       "      <td>110</td>\n",
       "      <td>2820</td>\n",
       "      <td>2786</td>\n",
       "      <td>NOUN</td>\n",
       "      <td>Case=Nom|Number=Sing</td>\n",
       "      <td>True</td>\n",
       "      <td>False</td>\n",
       "    </tr>\n",
       "    <tr>\n",
       "      <th>4</th>\n",
       "      <td>qwerty</td>\n",
       "      <td>109</td>\n",
       "      <td>774</td>\n",
       "      <td>283</td>\n",
       "      <td>NOUN</td>\n",
       "      <td>Case=Nom|Number=Sing</td>\n",
       "      <td>False</td>\n",
       "      <td>False</td>\n",
       "    </tr>\n",
       "  </tbody>\n",
       "</table>\n",
       "</div>"
      ],
      "text/plain": [
       "  matched word  freq in pws  freq in web  individual freq   POS  \\\n",
       "0     salasana          224        16553            16173  NOUN   \n",
       "1      perkele          167        13111             4304  NOUN   \n",
       "2        paska          121        21359            20343  NOUN   \n",
       "3        kakka          110         2820             2786  NOUN   \n",
       "4       qwerty          109          774              283  NOUN   \n",
       "\n",
       "               analysis  finnish word  finnish name  \n",
       "0  Case=Nom|Number=Sing          True         False  \n",
       "1  Case=Nom|Number=Sing          True         False  \n",
       "2  Case=Nom|Number=Sing          True         False  \n",
       "3  Case=Nom|Number=Sing          True         False  \n",
       "4  Case=Nom|Number=Sing         False         False  "
      ]
     },
     "execution_count": 2,
     "metadata": {},
     "output_type": "execute_result"
    }
   ],
   "source": [
    "df.head()"
   ]
  },
  {
   "cell_type": "code",
   "execution_count": 3,
   "metadata": {
    "collapsed": true
   },
   "outputs": [],
   "source": [
    "# df['mypos'] = pd.DataFrame([str(val) for i, val in enumerate(df.POS)])\n",
    "# df['myanalysis'] = pd.DataFrame([str(val) for i, val in enumerate(df.analysis)])\n",
    "# df['mymy'] = df['mypos'] + ' ' +  df['myanalysis']"
   ]
  },
  {
   "cell_type": "code",
   "execution_count": 4,
   "metadata": {
    "collapsed": true
   },
   "outputs": [],
   "source": [
    "mypos = pd.DataFrame([str(val) for i, val in enumerate(df.POS)])\n",
    "myanalysis = pd.DataFrame([str(val) for i, val in enumerate(df.analysis)])\n",
    "df['label'] = mypos + ' ' +  myanalysis"
   ]
  },
  {
   "cell_type": "code",
   "execution_count": 5,
   "metadata": {},
   "outputs": [
    {
     "data": {
      "text/html": [
       "<div>\n",
       "<style scoped>\n",
       "    .dataframe tbody tr th:only-of-type {\n",
       "        vertical-align: middle;\n",
       "    }\n",
       "\n",
       "    .dataframe tbody tr th {\n",
       "        vertical-align: top;\n",
       "    }\n",
       "\n",
       "    .dataframe thead th {\n",
       "        text-align: right;\n",
       "    }\n",
       "</style>\n",
       "<table border=\"1\" class=\"dataframe\">\n",
       "  <thead>\n",
       "    <tr style=\"text-align: right;\">\n",
       "      <th></th>\n",
       "      <th>matched word</th>\n",
       "      <th>freq in pws</th>\n",
       "      <th>freq in web</th>\n",
       "      <th>individual freq</th>\n",
       "      <th>POS</th>\n",
       "      <th>analysis</th>\n",
       "      <th>finnish word</th>\n",
       "      <th>finnish name</th>\n",
       "      <th>label</th>\n",
       "    </tr>\n",
       "  </thead>\n",
       "  <tbody>\n",
       "    <tr>\n",
       "      <th>0</th>\n",
       "      <td>salasana</td>\n",
       "      <td>224</td>\n",
       "      <td>16553</td>\n",
       "      <td>16173</td>\n",
       "      <td>NOUN</td>\n",
       "      <td>Case=Nom|Number=Sing</td>\n",
       "      <td>True</td>\n",
       "      <td>False</td>\n",
       "      <td>NOUN Case=Nom|Number=Sing</td>\n",
       "    </tr>\n",
       "    <tr>\n",
       "      <th>1</th>\n",
       "      <td>perkele</td>\n",
       "      <td>167</td>\n",
       "      <td>13111</td>\n",
       "      <td>4304</td>\n",
       "      <td>NOUN</td>\n",
       "      <td>Case=Nom|Number=Sing</td>\n",
       "      <td>True</td>\n",
       "      <td>False</td>\n",
       "      <td>NOUN Case=Nom|Number=Sing</td>\n",
       "    </tr>\n",
       "    <tr>\n",
       "      <th>2</th>\n",
       "      <td>paska</td>\n",
       "      <td>121</td>\n",
       "      <td>21359</td>\n",
       "      <td>20343</td>\n",
       "      <td>NOUN</td>\n",
       "      <td>Case=Nom|Number=Sing</td>\n",
       "      <td>True</td>\n",
       "      <td>False</td>\n",
       "      <td>NOUN Case=Nom|Number=Sing</td>\n",
       "    </tr>\n",
       "    <tr>\n",
       "      <th>3</th>\n",
       "      <td>kakka</td>\n",
       "      <td>110</td>\n",
       "      <td>2820</td>\n",
       "      <td>2786</td>\n",
       "      <td>NOUN</td>\n",
       "      <td>Case=Nom|Number=Sing</td>\n",
       "      <td>True</td>\n",
       "      <td>False</td>\n",
       "      <td>NOUN Case=Nom|Number=Sing</td>\n",
       "    </tr>\n",
       "    <tr>\n",
       "      <th>4</th>\n",
       "      <td>qwerty</td>\n",
       "      <td>109</td>\n",
       "      <td>774</td>\n",
       "      <td>283</td>\n",
       "      <td>NOUN</td>\n",
       "      <td>Case=Nom|Number=Sing</td>\n",
       "      <td>False</td>\n",
       "      <td>False</td>\n",
       "      <td>NOUN Case=Nom|Number=Sing</td>\n",
       "    </tr>\n",
       "  </tbody>\n",
       "</table>\n",
       "</div>"
      ],
      "text/plain": [
       "  matched word  freq in pws  freq in web  individual freq   POS  \\\n",
       "0     salasana          224        16553            16173  NOUN   \n",
       "1      perkele          167        13111             4304  NOUN   \n",
       "2        paska          121        21359            20343  NOUN   \n",
       "3        kakka          110         2820             2786  NOUN   \n",
       "4       qwerty          109          774              283  NOUN   \n",
       "\n",
       "               analysis  finnish word  finnish name                      label  \n",
       "0  Case=Nom|Number=Sing          True         False  NOUN Case=Nom|Number=Sing  \n",
       "1  Case=Nom|Number=Sing          True         False  NOUN Case=Nom|Number=Sing  \n",
       "2  Case=Nom|Number=Sing          True         False  NOUN Case=Nom|Number=Sing  \n",
       "3  Case=Nom|Number=Sing          True         False  NOUN Case=Nom|Number=Sing  \n",
       "4  Case=Nom|Number=Sing         False         False  NOUN Case=Nom|Number=Sing  "
      ]
     },
     "execution_count": 5,
     "metadata": {},
     "output_type": "execute_result"
    }
   ],
   "source": [
    "df.head()"
   ]
  },
  {
   "cell_type": "code",
   "execution_count": 6,
   "metadata": {
    "collapsed": true
   },
   "outputs": [],
   "source": [
    "mycols = ['label','freq in pws','freq in web']\n",
    "df2 = df[mycols]"
   ]
  },
  {
   "cell_type": "code",
   "execution_count": 7,
   "metadata": {},
   "outputs": [
    {
     "data": {
      "text/html": [
       "<div>\n",
       "<style scoped>\n",
       "    .dataframe tbody tr th:only-of-type {\n",
       "        vertical-align: middle;\n",
       "    }\n",
       "\n",
       "    .dataframe tbody tr th {\n",
       "        vertical-align: top;\n",
       "    }\n",
       "\n",
       "    .dataframe thead th {\n",
       "        text-align: right;\n",
       "    }\n",
       "</style>\n",
       "<table border=\"1\" class=\"dataframe\">\n",
       "  <thead>\n",
       "    <tr style=\"text-align: right;\">\n",
       "      <th></th>\n",
       "      <th>label</th>\n",
       "      <th>freq in pws</th>\n",
       "      <th>freq in web</th>\n",
       "    </tr>\n",
       "  </thead>\n",
       "  <tbody>\n",
       "    <tr>\n",
       "      <th>0</th>\n",
       "      <td>NOUN Case=Nom|Number=Sing</td>\n",
       "      <td>224</td>\n",
       "      <td>16553</td>\n",
       "    </tr>\n",
       "    <tr>\n",
       "      <th>1</th>\n",
       "      <td>NOUN Case=Nom|Number=Sing</td>\n",
       "      <td>167</td>\n",
       "      <td>13111</td>\n",
       "    </tr>\n",
       "    <tr>\n",
       "      <th>2</th>\n",
       "      <td>NOUN Case=Nom|Number=Sing</td>\n",
       "      <td>121</td>\n",
       "      <td>21359</td>\n",
       "    </tr>\n",
       "    <tr>\n",
       "      <th>3</th>\n",
       "      <td>NOUN Case=Nom|Number=Sing</td>\n",
       "      <td>110</td>\n",
       "      <td>2820</td>\n",
       "    </tr>\n",
       "    <tr>\n",
       "      <th>4</th>\n",
       "      <td>NOUN Case=Nom|Number=Sing</td>\n",
       "      <td>109</td>\n",
       "      <td>774</td>\n",
       "    </tr>\n",
       "  </tbody>\n",
       "</table>\n",
       "</div>"
      ],
      "text/plain": [
       "                       label  freq in pws  freq in web\n",
       "0  NOUN Case=Nom|Number=Sing          224        16553\n",
       "1  NOUN Case=Nom|Number=Sing          167        13111\n",
       "2  NOUN Case=Nom|Number=Sing          121        21359\n",
       "3  NOUN Case=Nom|Number=Sing          110         2820\n",
       "4  NOUN Case=Nom|Number=Sing          109          774"
      ]
     },
     "execution_count": 7,
     "metadata": {},
     "output_type": "execute_result"
    }
   ],
   "source": [
    "df2.head()"
   ]
  },
  {
   "cell_type": "code",
   "execution_count": 8,
   "metadata": {
    "collapsed": true
   },
   "outputs": [],
   "source": [
    "percentpws = (df2['freq in pws']/df2['freq in pws'].sum())*100\n",
    "df2.insert(2, 'percent in pws', percentpws)"
   ]
  },
  {
   "cell_type": "code",
   "execution_count": 9,
   "metadata": {},
   "outputs": [
    {
     "data": {
      "text/html": [
       "<div>\n",
       "<style scoped>\n",
       "    .dataframe tbody tr th:only-of-type {\n",
       "        vertical-align: middle;\n",
       "    }\n",
       "\n",
       "    .dataframe tbody tr th {\n",
       "        vertical-align: top;\n",
       "    }\n",
       "\n",
       "    .dataframe thead th {\n",
       "        text-align: right;\n",
       "    }\n",
       "</style>\n",
       "<table border=\"1\" class=\"dataframe\">\n",
       "  <thead>\n",
       "    <tr style=\"text-align: right;\">\n",
       "      <th></th>\n",
       "      <th>label</th>\n",
       "      <th>freq in pws</th>\n",
       "      <th>percent in pws</th>\n",
       "      <th>freq in web</th>\n",
       "    </tr>\n",
       "  </thead>\n",
       "  <tbody>\n",
       "    <tr>\n",
       "      <th>0</th>\n",
       "      <td>NOUN Case=Nom|Number=Sing</td>\n",
       "      <td>224</td>\n",
       "      <td>0.594843</td>\n",
       "      <td>16553</td>\n",
       "    </tr>\n",
       "    <tr>\n",
       "      <th>1</th>\n",
       "      <td>NOUN Case=Nom|Number=Sing</td>\n",
       "      <td>167</td>\n",
       "      <td>0.443477</td>\n",
       "      <td>13111</td>\n",
       "    </tr>\n",
       "    <tr>\n",
       "      <th>2</th>\n",
       "      <td>NOUN Case=Nom|Number=Sing</td>\n",
       "      <td>121</td>\n",
       "      <td>0.321321</td>\n",
       "      <td>21359</td>\n",
       "    </tr>\n",
       "  </tbody>\n",
       "</table>\n",
       "</div>"
      ],
      "text/plain": [
       "                       label  freq in pws  percent in pws  freq in web\n",
       "0  NOUN Case=Nom|Number=Sing          224        0.594843        16553\n",
       "1  NOUN Case=Nom|Number=Sing          167        0.443477        13111\n",
       "2  NOUN Case=Nom|Number=Sing          121        0.321321        21359"
      ]
     },
     "execution_count": 9,
     "metadata": {},
     "output_type": "execute_result"
    }
   ],
   "source": [
    "df2.head(3)"
   ]
  },
  {
   "cell_type": "code",
   "execution_count": 10,
   "metadata": {
    "collapsed": true
   },
   "outputs": [],
   "source": [
    "percentweb = df2['freq in pws']/df2['freq in web'].sum()*100\n",
    "df2.insert(4, 'percent in web', percentweb)"
   ]
  },
  {
   "cell_type": "code",
   "execution_count": 11,
   "metadata": {},
   "outputs": [
    {
     "data": {
      "text/plain": [
       "(0.022552141068783796, 100.0)"
      ]
     },
     "execution_count": 11,
     "metadata": {},
     "output_type": "execute_result"
    }
   ],
   "source": [
    "df2['percent in web'].sum(), df2['percent in pws'].sum()"
   ]
  },
  {
   "cell_type": "code",
   "execution_count": 12,
   "metadata": {
    "collapsed": true
   },
   "outputs": [],
   "source": [
    "#df2['percent in web'] = df2['percent in web'].map(lambda x: '{0:.3}'.format(x))\n",
    "# df2['percent in pws'] = df2['percent in pws'].map(lambda x: '{0:.2}'.format(x))"
   ]
  },
  {
   "cell_type": "code",
   "execution_count": 13,
   "metadata": {},
   "outputs": [
    {
     "data": {
      "text/html": [
       "<div>\n",
       "<style scoped>\n",
       "    .dataframe tbody tr th:only-of-type {\n",
       "        vertical-align: middle;\n",
       "    }\n",
       "\n",
       "    .dataframe tbody tr th {\n",
       "        vertical-align: top;\n",
       "    }\n",
       "\n",
       "    .dataframe thead th {\n",
       "        text-align: right;\n",
       "    }\n",
       "</style>\n",
       "<table border=\"1\" class=\"dataframe\">\n",
       "  <thead>\n",
       "    <tr style=\"text-align: right;\">\n",
       "      <th></th>\n",
       "      <th>label</th>\n",
       "      <th>freq in pws</th>\n",
       "      <th>percent in pws</th>\n",
       "      <th>freq in web</th>\n",
       "      <th>percent in web</th>\n",
       "    </tr>\n",
       "  </thead>\n",
       "  <tbody>\n",
       "    <tr>\n",
       "      <th>0</th>\n",
       "      <td>NOUN Case=Nom|Number=Sing</td>\n",
       "      <td>224</td>\n",
       "      <td>0.594843</td>\n",
       "      <td>16553</td>\n",
       "      <td>0.000134</td>\n",
       "    </tr>\n",
       "    <tr>\n",
       "      <th>1</th>\n",
       "      <td>NOUN Case=Nom|Number=Sing</td>\n",
       "      <td>167</td>\n",
       "      <td>0.443477</td>\n",
       "      <td>13111</td>\n",
       "      <td>0.000100</td>\n",
       "    </tr>\n",
       "    <tr>\n",
       "      <th>2</th>\n",
       "      <td>NOUN Case=Nom|Number=Sing</td>\n",
       "      <td>121</td>\n",
       "      <td>0.321321</td>\n",
       "      <td>21359</td>\n",
       "      <td>0.000072</td>\n",
       "    </tr>\n",
       "    <tr>\n",
       "      <th>3</th>\n",
       "      <td>NOUN Case=Nom|Number=Sing</td>\n",
       "      <td>110</td>\n",
       "      <td>0.292110</td>\n",
       "      <td>2820</td>\n",
       "      <td>0.000066</td>\n",
       "    </tr>\n",
       "    <tr>\n",
       "      <th>4</th>\n",
       "      <td>NOUN Case=Nom|Number=Sing</td>\n",
       "      <td>109</td>\n",
       "      <td>0.289455</td>\n",
       "      <td>774</td>\n",
       "      <td>0.000065</td>\n",
       "    </tr>\n",
       "  </tbody>\n",
       "</table>\n",
       "</div>"
      ],
      "text/plain": [
       "                       label  freq in pws  percent in pws  freq in web  \\\n",
       "0  NOUN Case=Nom|Number=Sing          224        0.594843        16553   \n",
       "1  NOUN Case=Nom|Number=Sing          167        0.443477        13111   \n",
       "2  NOUN Case=Nom|Number=Sing          121        0.321321        21359   \n",
       "3  NOUN Case=Nom|Number=Sing          110        0.292110         2820   \n",
       "4  NOUN Case=Nom|Number=Sing          109        0.289455          774   \n",
       "\n",
       "   percent in web  \n",
       "0        0.000134  \n",
       "1        0.000100  \n",
       "2        0.000072  \n",
       "3        0.000066  \n",
       "4        0.000065  "
      ]
     },
     "execution_count": 13,
     "metadata": {},
     "output_type": "execute_result"
    }
   ],
   "source": [
    "df2.head()"
   ]
  },
  {
   "cell_type": "code",
   "execution_count": 14,
   "metadata": {
    "collapsed": true
   },
   "outputs": [],
   "source": [
    "dfa = df2.groupby(['label']).sum().sort_values(['freq in pws'],ascending=False)\n",
    "dfw = df2.groupby(['label']).sum().sort_values(['freq in web'],ascending=False)"
   ]
  },
  {
   "cell_type": "code",
   "execution_count": 15,
   "metadata": {},
   "outputs": [
    {
     "data": {
      "text/html": [
       "<div>\n",
       "<style scoped>\n",
       "    .dataframe tbody tr th:only-of-type {\n",
       "        vertical-align: middle;\n",
       "    }\n",
       "\n",
       "    .dataframe tbody tr th {\n",
       "        vertical-align: top;\n",
       "    }\n",
       "\n",
       "    .dataframe thead th {\n",
       "        text-align: right;\n",
       "    }\n",
       "</style>\n",
       "<table border=\"1\" class=\"dataframe\">\n",
       "  <thead>\n",
       "    <tr style=\"text-align: right;\">\n",
       "      <th></th>\n",
       "      <th>freq in pws</th>\n",
       "      <th>percent in pws</th>\n",
       "      <th>freq in web</th>\n",
       "      <th>percent in web</th>\n",
       "    </tr>\n",
       "    <tr>\n",
       "      <th>label</th>\n",
       "      <th></th>\n",
       "      <th></th>\n",
       "      <th></th>\n",
       "      <th></th>\n",
       "    </tr>\n",
       "  </thead>\n",
       "  <tbody>\n",
       "    <tr>\n",
       "      <th>PROPN Case=Nom|Number=Sing</th>\n",
       "      <td>18063</td>\n",
       "      <td>47.967177</td>\n",
       "      <td>18343344</td>\n",
       "      <td>0.010818</td>\n",
       "    </tr>\n",
       "    <tr>\n",
       "      <th>NOUN Case=Nom|Number=Sing</th>\n",
       "      <td>11544</td>\n",
       "      <td>30.655655</td>\n",
       "      <td>27855260</td>\n",
       "      <td>0.006914</td>\n",
       "    </tr>\n",
       "    <tr>\n",
       "      <th>PROPN _</th>\n",
       "      <td>2455</td>\n",
       "      <td>6.519372</td>\n",
       "      <td>4517828</td>\n",
       "      <td>0.001470</td>\n",
       "    </tr>\n",
       "    <tr>\n",
       "      <th>PROPN Case=Gen|Number=Sing</th>\n",
       "      <td>848</td>\n",
       "      <td>2.251905</td>\n",
       "      <td>3003067</td>\n",
       "      <td>0.000508</td>\n",
       "    </tr>\n",
       "    <tr>\n",
       "      <th>ADJ Case=Nom|Degree=Pos|Number=Sing</th>\n",
       "      <td>564</td>\n",
       "      <td>1.497730</td>\n",
       "      <td>7662995</td>\n",
       "      <td>0.000338</td>\n",
       "    </tr>\n",
       "  </tbody>\n",
       "</table>\n",
       "</div>"
      ],
      "text/plain": [
       "                                     freq in pws  percent in pws  freq in web  \\\n",
       "label                                                                           \n",
       "PROPN Case=Nom|Number=Sing                 18063       47.967177     18343344   \n",
       "NOUN Case=Nom|Number=Sing                  11544       30.655655     27855260   \n",
       "PROPN _                                     2455        6.519372      4517828   \n",
       "PROPN Case=Gen|Number=Sing                   848        2.251905      3003067   \n",
       "ADJ Case=Nom|Degree=Pos|Number=Sing          564        1.497730      7662995   \n",
       "\n",
       "                                     percent in web  \n",
       "label                                                \n",
       "PROPN Case=Nom|Number=Sing                 0.010818  \n",
       "NOUN Case=Nom|Number=Sing                  0.006914  \n",
       "PROPN _                                    0.001470  \n",
       "PROPN Case=Gen|Number=Sing                 0.000508  \n",
       "ADJ Case=Nom|Degree=Pos|Number=Sing        0.000338  "
      ]
     },
     "execution_count": 15,
     "metadata": {},
     "output_type": "execute_result"
    }
   ],
   "source": [
    "dfa.head()"
   ]
  },
  {
   "cell_type": "code",
   "execution_count": 16,
   "metadata": {
    "collapsed": true
   },
   "outputs": [],
   "source": [
    "dfa['percent in web'] = dfa['percent in web'].map(lambda x: '{0:.3}'.format(x))\n",
    "dfa['percent in pws'] = dfa['percent in pws'].map(lambda x: '{0:.3}'.format(x))"
   ]
  },
  {
   "cell_type": "code",
   "execution_count": 17,
   "metadata": {},
   "outputs": [
    {
     "data": {
      "text/html": [
       "<div>\n",
       "<style scoped>\n",
       "    .dataframe tbody tr th:only-of-type {\n",
       "        vertical-align: middle;\n",
       "    }\n",
       "\n",
       "    .dataframe tbody tr th {\n",
       "        vertical-align: top;\n",
       "    }\n",
       "\n",
       "    .dataframe thead th {\n",
       "        text-align: right;\n",
       "    }\n",
       "</style>\n",
       "<table border=\"1\" class=\"dataframe\">\n",
       "  <thead>\n",
       "    <tr style=\"text-align: right;\">\n",
       "      <th></th>\n",
       "      <th>freq in pws</th>\n",
       "      <th>percent in pws</th>\n",
       "      <th>freq in web</th>\n",
       "      <th>percent in web</th>\n",
       "    </tr>\n",
       "    <tr>\n",
       "      <th>label</th>\n",
       "      <th></th>\n",
       "      <th></th>\n",
       "      <th></th>\n",
       "      <th></th>\n",
       "    </tr>\n",
       "  </thead>\n",
       "  <tbody>\n",
       "    <tr>\n",
       "      <th>PROPN Case=Nom|Number=Sing</th>\n",
       "      <td>18063</td>\n",
       "      <td>48.0</td>\n",
       "      <td>18343344</td>\n",
       "      <td>0.0108</td>\n",
       "    </tr>\n",
       "    <tr>\n",
       "      <th>NOUN Case=Nom|Number=Sing</th>\n",
       "      <td>11544</td>\n",
       "      <td>30.7</td>\n",
       "      <td>27855260</td>\n",
       "      <td>0.00691</td>\n",
       "    </tr>\n",
       "    <tr>\n",
       "      <th>PROPN _</th>\n",
       "      <td>2455</td>\n",
       "      <td>6.52</td>\n",
       "      <td>4517828</td>\n",
       "      <td>0.00147</td>\n",
       "    </tr>\n",
       "    <tr>\n",
       "      <th>PROPN Case=Gen|Number=Sing</th>\n",
       "      <td>848</td>\n",
       "      <td>2.25</td>\n",
       "      <td>3003067</td>\n",
       "      <td>0.000508</td>\n",
       "    </tr>\n",
       "    <tr>\n",
       "      <th>ADJ Case=Nom|Degree=Pos|Number=Sing</th>\n",
       "      <td>564</td>\n",
       "      <td>1.5</td>\n",
       "      <td>7662995</td>\n",
       "      <td>0.000338</td>\n",
       "    </tr>\n",
       "  </tbody>\n",
       "</table>\n",
       "</div>"
      ],
      "text/plain": [
       "                                     freq in pws percent in pws  freq in web  \\\n",
       "label                                                                          \n",
       "PROPN Case=Nom|Number=Sing                 18063           48.0     18343344   \n",
       "NOUN Case=Nom|Number=Sing                  11544           30.7     27855260   \n",
       "PROPN _                                     2455           6.52      4517828   \n",
       "PROPN Case=Gen|Number=Sing                   848           2.25      3003067   \n",
       "ADJ Case=Nom|Degree=Pos|Number=Sing          564            1.5      7662995   \n",
       "\n",
       "                                    percent in web  \n",
       "label                                               \n",
       "PROPN Case=Nom|Number=Sing                  0.0108  \n",
       "NOUN Case=Nom|Number=Sing                  0.00691  \n",
       "PROPN _                                    0.00147  \n",
       "PROPN Case=Gen|Number=Sing                0.000508  \n",
       "ADJ Case=Nom|Degree=Pos|Number=Sing       0.000338  "
      ]
     },
     "execution_count": 17,
     "metadata": {},
     "output_type": "execute_result"
    }
   ],
   "source": [
    "dfa.head()"
   ]
  },
  {
   "cell_type": "code",
   "execution_count": 18,
   "metadata": {},
   "outputs": [
    {
     "data": {
      "text/html": [
       "<div>\n",
       "<style scoped>\n",
       "    .dataframe tbody tr th:only-of-type {\n",
       "        vertical-align: middle;\n",
       "    }\n",
       "\n",
       "    .dataframe tbody tr th {\n",
       "        vertical-align: top;\n",
       "    }\n",
       "\n",
       "    .dataframe thead th {\n",
       "        text-align: right;\n",
       "    }\n",
       "</style>\n",
       "<table border=\"1\" class=\"dataframe\">\n",
       "  <thead>\n",
       "    <tr style=\"text-align: right;\">\n",
       "      <th></th>\n",
       "      <th>matched word</th>\n",
       "      <th>freq in pws</th>\n",
       "      <th>freq in web</th>\n",
       "      <th>individual freq</th>\n",
       "      <th>POS</th>\n",
       "      <th>analysis</th>\n",
       "      <th>finnish word</th>\n",
       "      <th>finnish name</th>\n",
       "      <th>label</th>\n",
       "    </tr>\n",
       "  </thead>\n",
       "  <tbody>\n",
       "    <tr>\n",
       "      <th>0</th>\n",
       "      <td>salasana</td>\n",
       "      <td>224</td>\n",
       "      <td>16553</td>\n",
       "      <td>16173</td>\n",
       "      <td>NOUN</td>\n",
       "      <td>Case=Nom|Number=Sing</td>\n",
       "      <td>True</td>\n",
       "      <td>False</td>\n",
       "      <td>NOUN Case=Nom|Number=Sing</td>\n",
       "    </tr>\n",
       "    <tr>\n",
       "      <th>1</th>\n",
       "      <td>perkele</td>\n",
       "      <td>167</td>\n",
       "      <td>13111</td>\n",
       "      <td>4304</td>\n",
       "      <td>NOUN</td>\n",
       "      <td>Case=Nom|Number=Sing</td>\n",
       "      <td>True</td>\n",
       "      <td>False</td>\n",
       "      <td>NOUN Case=Nom|Number=Sing</td>\n",
       "    </tr>\n",
       "    <tr>\n",
       "      <th>2</th>\n",
       "      <td>paska</td>\n",
       "      <td>121</td>\n",
       "      <td>21359</td>\n",
       "      <td>20343</td>\n",
       "      <td>NOUN</td>\n",
       "      <td>Case=Nom|Number=Sing</td>\n",
       "      <td>True</td>\n",
       "      <td>False</td>\n",
       "      <td>NOUN Case=Nom|Number=Sing</td>\n",
       "    </tr>\n",
       "    <tr>\n",
       "      <th>3</th>\n",
       "      <td>kakka</td>\n",
       "      <td>110</td>\n",
       "      <td>2820</td>\n",
       "      <td>2786</td>\n",
       "      <td>NOUN</td>\n",
       "      <td>Case=Nom|Number=Sing</td>\n",
       "      <td>True</td>\n",
       "      <td>False</td>\n",
       "      <td>NOUN Case=Nom|Number=Sing</td>\n",
       "    </tr>\n",
       "    <tr>\n",
       "      <th>4</th>\n",
       "      <td>qwerty</td>\n",
       "      <td>109</td>\n",
       "      <td>774</td>\n",
       "      <td>283</td>\n",
       "      <td>NOUN</td>\n",
       "      <td>Case=Nom|Number=Sing</td>\n",
       "      <td>False</td>\n",
       "      <td>False</td>\n",
       "      <td>NOUN Case=Nom|Number=Sing</td>\n",
       "    </tr>\n",
       "  </tbody>\n",
       "</table>\n",
       "</div>"
      ],
      "text/plain": [
       "  matched word  freq in pws  freq in web  individual freq   POS  \\\n",
       "0     salasana          224        16553            16173  NOUN   \n",
       "1      perkele          167        13111             4304  NOUN   \n",
       "2        paska          121        21359            20343  NOUN   \n",
       "3        kakka          110         2820             2786  NOUN   \n",
       "4       qwerty          109          774              283  NOUN   \n",
       "\n",
       "               analysis  finnish word  finnish name                      label  \n",
       "0  Case=Nom|Number=Sing          True         False  NOUN Case=Nom|Number=Sing  \n",
       "1  Case=Nom|Number=Sing          True         False  NOUN Case=Nom|Number=Sing  \n",
       "2  Case=Nom|Number=Sing          True         False  NOUN Case=Nom|Number=Sing  \n",
       "3  Case=Nom|Number=Sing          True         False  NOUN Case=Nom|Number=Sing  \n",
       "4  Case=Nom|Number=Sing         False         False  NOUN Case=Nom|Number=Sing  "
      ]
     },
     "execution_count": 18,
     "metadata": {},
     "output_type": "execute_result"
    }
   ],
   "source": [
    "df.sort_values(['freq in pws'],ascending=False).head()"
   ]
  },
  {
   "cell_type": "code",
   "execution_count": null,
   "metadata": {
    "collapsed": true
   },
   "outputs": [],
   "source": []
  },
  {
   "cell_type": "code",
   "execution_count": 19,
   "metadata": {},
   "outputs": [
    {
     "data": {
      "text/html": [
       "<div>\n",
       "<style scoped>\n",
       "    .dataframe tbody tr th:only-of-type {\n",
       "        vertical-align: middle;\n",
       "    }\n",
       "\n",
       "    .dataframe tbody tr th {\n",
       "        vertical-align: top;\n",
       "    }\n",
       "\n",
       "    .dataframe thead th {\n",
       "        text-align: right;\n",
       "    }\n",
       "</style>\n",
       "<table border=\"1\" class=\"dataframe\">\n",
       "  <thead>\n",
       "    <tr style=\"text-align: right;\">\n",
       "      <th></th>\n",
       "      <th>matched word</th>\n",
       "      <th>freq in pws</th>\n",
       "    </tr>\n",
       "  </thead>\n",
       "  <tbody>\n",
       "    <tr>\n",
       "      <th>0</th>\n",
       "      <td>salasana</td>\n",
       "      <td>224</td>\n",
       "    </tr>\n",
       "    <tr>\n",
       "      <th>1</th>\n",
       "      <td>perkele</td>\n",
       "      <td>167</td>\n",
       "    </tr>\n",
       "    <tr>\n",
       "      <th>2</th>\n",
       "      <td>paska</td>\n",
       "      <td>121</td>\n",
       "    </tr>\n",
       "    <tr>\n",
       "      <th>3</th>\n",
       "      <td>kakka</td>\n",
       "      <td>110</td>\n",
       "    </tr>\n",
       "    <tr>\n",
       "      <th>4</th>\n",
       "      <td>qwerty</td>\n",
       "      <td>109</td>\n",
       "    </tr>\n",
       "  </tbody>\n",
       "</table>\n",
       "</div>"
      ],
      "text/plain": [
       "  matched word  freq in pws\n",
       "0     salasana          224\n",
       "1      perkele          167\n",
       "2        paska          121\n",
       "3        kakka          110\n",
       "4       qwerty          109"
      ]
     },
     "execution_count": 19,
     "metadata": {},
     "output_type": "execute_result"
    }
   ],
   "source": [
    "df[['matched word','freq in pws']][df['label']=='NOUN Case=Nom|Number=Sing'].sort_values(['freq in pws'],ascending=False).head()"
   ]
  },
  {
   "cell_type": "code",
   "execution_count": 20,
   "metadata": {},
   "outputs": [
    {
     "data": {
      "text/html": [
       "<div>\n",
       "<style scoped>\n",
       "    .dataframe tbody tr th:only-of-type {\n",
       "        vertical-align: middle;\n",
       "    }\n",
       "\n",
       "    .dataframe tbody tr th {\n",
       "        vertical-align: top;\n",
       "    }\n",
       "\n",
       "    .dataframe thead th {\n",
       "        text-align: right;\n",
       "    }\n",
       "</style>\n",
       "<table border=\"1\" class=\"dataframe\">\n",
       "  <thead>\n",
       "    <tr style=\"text-align: right;\">\n",
       "      <th></th>\n",
       "      <th>matched word</th>\n",
       "      <th>freq in pws</th>\n",
       "    </tr>\n",
       "  </thead>\n",
       "  <tbody>\n",
       "    <tr>\n",
       "      <th>9</th>\n",
       "      <td>ville</td>\n",
       "      <td>76</td>\n",
       "    </tr>\n",
       "    <tr>\n",
       "      <th>12</th>\n",
       "      <td>antti</td>\n",
       "      <td>73</td>\n",
       "    </tr>\n",
       "    <tr>\n",
       "      <th>14</th>\n",
       "      <td>killer</td>\n",
       "      <td>69</td>\n",
       "    </tr>\n",
       "    <tr>\n",
       "      <th>15</th>\n",
       "      <td>sami</td>\n",
       "      <td>68</td>\n",
       "    </tr>\n",
       "    <tr>\n",
       "      <th>17</th>\n",
       "      <td>mikko</td>\n",
       "      <td>66</td>\n",
       "    </tr>\n",
       "  </tbody>\n",
       "</table>\n",
       "</div>"
      ],
      "text/plain": [
       "   matched word  freq in pws\n",
       "9         ville           76\n",
       "12        antti           73\n",
       "14       killer           69\n",
       "15         sami           68\n",
       "17        mikko           66"
      ]
     },
     "execution_count": 20,
     "metadata": {},
     "output_type": "execute_result"
    }
   ],
   "source": [
    "df[['matched word','freq in pws']][df['label']=='PROPN Case=Nom|Number=Sing'].sort_values(['freq in pws'],ascending=False).head()"
   ]
  },
  {
   "cell_type": "code",
   "execution_count": 21,
   "metadata": {},
   "outputs": [
    {
     "data": {
      "text/html": [
       "<div>\n",
       "<style scoped>\n",
       "    .dataframe tbody tr th:only-of-type {\n",
       "        vertical-align: middle;\n",
       "    }\n",
       "\n",
       "    .dataframe tbody tr th {\n",
       "        vertical-align: top;\n",
       "    }\n",
       "\n",
       "    .dataframe thead th {\n",
       "        text-align: right;\n",
       "    }\n",
       "</style>\n",
       "<table border=\"1\" class=\"dataframe\">\n",
       "  <thead>\n",
       "    <tr style=\"text-align: right;\">\n",
       "      <th></th>\n",
       "      <th>matched word</th>\n",
       "      <th>freq in pws</th>\n",
       "    </tr>\n",
       "  </thead>\n",
       "  <tbody>\n",
       "    <tr>\n",
       "      <th>18</th>\n",
       "      <td>love</td>\n",
       "      <td>65</td>\n",
       "    </tr>\n",
       "    <tr>\n",
       "      <th>24</th>\n",
       "      <td>master</td>\n",
       "      <td>58</td>\n",
       "    </tr>\n",
       "    <tr>\n",
       "      <th>29</th>\n",
       "      <td>dragon</td>\n",
       "      <td>56</td>\n",
       "    </tr>\n",
       "    <tr>\n",
       "      <th>45</th>\n",
       "      <td>the</td>\n",
       "      <td>48</td>\n",
       "    </tr>\n",
       "    <tr>\n",
       "      <th>70</th>\n",
       "      <td>dark</td>\n",
       "      <td>38</td>\n",
       "    </tr>\n",
       "  </tbody>\n",
       "</table>\n",
       "</div>"
      ],
      "text/plain": [
       "   matched word  freq in pws\n",
       "18         love           65\n",
       "24       master           58\n",
       "29       dragon           56\n",
       "45          the           48\n",
       "70         dark           38"
      ]
     },
     "execution_count": 21,
     "metadata": {},
     "output_type": "execute_result"
    }
   ],
   "source": [
    "df[['matched word','freq in pws']][df['label']=='PROPN _'].sort_values(['freq in pws'],ascending=False).head()"
   ]
  },
  {
   "cell_type": "code",
   "execution_count": 22,
   "metadata": {},
   "outputs": [
    {
     "data": {
      "text/html": [
       "<div>\n",
       "<style scoped>\n",
       "    .dataframe tbody tr th:only-of-type {\n",
       "        vertical-align: middle;\n",
       "    }\n",
       "\n",
       "    .dataframe tbody tr th {\n",
       "        vertical-align: top;\n",
       "    }\n",
       "\n",
       "    .dataframe thead th {\n",
       "        text-align: right;\n",
       "    }\n",
       "</style>\n",
       "<table border=\"1\" class=\"dataframe\">\n",
       "  <thead>\n",
       "    <tr style=\"text-align: right;\">\n",
       "      <th></th>\n",
       "      <th>matched word</th>\n",
       "      <th>freq in pws</th>\n",
       "    </tr>\n",
       "  </thead>\n",
       "  <tbody>\n",
       "    <tr>\n",
       "      <th>10</th>\n",
       "      <td>man</td>\n",
       "      <td>75</td>\n",
       "    </tr>\n",
       "    <tr>\n",
       "      <th>149</th>\n",
       "      <td>pokemon</td>\n",
       "      <td>27</td>\n",
       "    </tr>\n",
       "    <tr>\n",
       "      <th>332</th>\n",
       "      <td>iron</td>\n",
       "      <td>16</td>\n",
       "    </tr>\n",
       "    <tr>\n",
       "      <th>516</th>\n",
       "      <td>batman</td>\n",
       "      <td>12</td>\n",
       "    </tr>\n",
       "    <tr>\n",
       "      <th>745</th>\n",
       "      <td>plan</td>\n",
       "      <td>9</td>\n",
       "    </tr>\n",
       "  </tbody>\n",
       "</table>\n",
       "</div>"
      ],
      "text/plain": [
       "    matched word  freq in pws\n",
       "10           man           75\n",
       "149      pokemon           27\n",
       "332         iron           16\n",
       "516       batman           12\n",
       "745         plan            9"
      ]
     },
     "execution_count": 22,
     "metadata": {},
     "output_type": "execute_result"
    }
   ],
   "source": [
    "df[['matched word','freq in pws']][df['label']=='PROPN Case=Gen|Number=Sing'].sort_values(['freq in pws'],ascending=False).head()"
   ]
  },
  {
   "cell_type": "code",
   "execution_count": 23,
   "metadata": {},
   "outputs": [
    {
     "data": {
      "text/html": [
       "<div>\n",
       "<style scoped>\n",
       "    .dataframe tbody tr th:only-of-type {\n",
       "        vertical-align: middle;\n",
       "    }\n",
       "\n",
       "    .dataframe tbody tr th {\n",
       "        vertical-align: top;\n",
       "    }\n",
       "\n",
       "    .dataframe thead th {\n",
       "        text-align: right;\n",
       "    }\n",
       "</style>\n",
       "<table border=\"1\" class=\"dataframe\">\n",
       "  <thead>\n",
       "    <tr style=\"text-align: right;\">\n",
       "      <th></th>\n",
       "      <th>matched word</th>\n",
       "      <th>freq in pws</th>\n",
       "    </tr>\n",
       "  </thead>\n",
       "  <tbody>\n",
       "    <tr>\n",
       "      <th>6985</th>\n",
       "      <td>moron</td>\n",
       "      <td>1</td>\n",
       "    </tr>\n",
       "    <tr>\n",
       "      <th>9136</th>\n",
       "      <td>saigon</td>\n",
       "      <td>1</td>\n",
       "    </tr>\n",
       "    <tr>\n",
       "      <th>11358</th>\n",
       "      <td>anskun</td>\n",
       "      <td>1</td>\n",
       "    </tr>\n",
       "    <tr>\n",
       "      <th>10000</th>\n",
       "      <td>aldin</td>\n",
       "      <td>1</td>\n",
       "    </tr>\n",
       "    <tr>\n",
       "      <th>8454</th>\n",
       "      <td>semin</td>\n",
       "      <td>1</td>\n",
       "    </tr>\n",
       "    <tr>\n",
       "      <th>1889</th>\n",
       "      <td>bermudan</td>\n",
       "      <td>4</td>\n",
       "    </tr>\n",
       "    <tr>\n",
       "      <th>5168</th>\n",
       "      <td>frozen</td>\n",
       "      <td>2</td>\n",
       "    </tr>\n",
       "    <tr>\n",
       "      <th>3610</th>\n",
       "      <td>katrin</td>\n",
       "      <td>2</td>\n",
       "    </tr>\n",
       "    <tr>\n",
       "      <th>10842</th>\n",
       "      <td>satin</td>\n",
       "      <td>1</td>\n",
       "    </tr>\n",
       "    <tr>\n",
       "      <th>4532</th>\n",
       "      <td>malkin</td>\n",
       "      <td>2</td>\n",
       "    </tr>\n",
       "  </tbody>\n",
       "</table>\n",
       "</div>"
      ],
      "text/plain": [
       "      matched word  freq in pws\n",
       "6985         moron            1\n",
       "9136        saigon            1\n",
       "11358       anskun            1\n",
       "10000        aldin            1\n",
       "8454         semin            1\n",
       "1889      bermudan            4\n",
       "5168        frozen            2\n",
       "3610        katrin            2\n",
       "10842        satin            1\n",
       "4532        malkin            2"
      ]
     },
     "execution_count": 23,
     "metadata": {},
     "output_type": "execute_result"
    }
   ],
   "source": [
    "df[['matched word','freq in pws']][df['label']=='PROPN Case=Gen|Number=Sing'].sort_values(['freq in pws'],ascending=False).sample(10)"
   ]
  },
  {
   "cell_type": "code",
   "execution_count": 24,
   "metadata": {},
   "outputs": [
    {
     "data": {
      "text/html": [
       "<div>\n",
       "<style scoped>\n",
       "    .dataframe tbody tr th:only-of-type {\n",
       "        vertical-align: middle;\n",
       "    }\n",
       "\n",
       "    .dataframe tbody tr th {\n",
       "        vertical-align: top;\n",
       "    }\n",
       "\n",
       "    .dataframe thead th {\n",
       "        text-align: right;\n",
       "    }\n",
       "</style>\n",
       "<table border=\"1\" class=\"dataframe\">\n",
       "  <thead>\n",
       "    <tr style=\"text-align: right;\">\n",
       "      <th></th>\n",
       "      <th>matched word</th>\n",
       "      <th>freq in pws</th>\n",
       "    </tr>\n",
       "  </thead>\n",
       "  <tbody>\n",
       "    <tr>\n",
       "      <th>39</th>\n",
       "      <td>rakas</td>\n",
       "      <td>51</td>\n",
       "    </tr>\n",
       "    <tr>\n",
       "      <th>53</th>\n",
       "      <td>hullu</td>\n",
       "      <td>45</td>\n",
       "    </tr>\n",
       "    <tr>\n",
       "      <th>192</th>\n",
       "      <td>oma</td>\n",
       "      <td>23</td>\n",
       "    </tr>\n",
       "    <tr>\n",
       "      <th>193</th>\n",
       "      <td>salainen</td>\n",
       "      <td>23</td>\n",
       "    </tr>\n",
       "    <tr>\n",
       "      <th>264</th>\n",
       "      <td>musta</td>\n",
       "      <td>19</td>\n",
       "    </tr>\n",
       "  </tbody>\n",
       "</table>\n",
       "</div>"
      ],
      "text/plain": [
       "    matched word  freq in pws\n",
       "39         rakas           51\n",
       "53         hullu           45\n",
       "192          oma           23\n",
       "193     salainen           23\n",
       "264        musta           19"
      ]
     },
     "execution_count": 24,
     "metadata": {},
     "output_type": "execute_result"
    }
   ],
   "source": [
    "df[['matched word','freq in pws']][df['label']=='ADJ Case=Nom|Degree=Pos|Number=Sing'].sort_values(['freq in pws'],ascending=False).head()"
   ]
  },
  {
   "cell_type": "code",
   "execution_count": 25,
   "metadata": {},
   "outputs": [
    {
     "data": {
      "text/html": [
       "<div>\n",
       "<style scoped>\n",
       "    .dataframe tbody tr th:only-of-type {\n",
       "        vertical-align: middle;\n",
       "    }\n",
       "\n",
       "    .dataframe tbody tr th {\n",
       "        vertical-align: top;\n",
       "    }\n",
       "\n",
       "    .dataframe thead th {\n",
       "        text-align: right;\n",
       "    }\n",
       "</style>\n",
       "<table border=\"1\" class=\"dataframe\">\n",
       "  <thead>\n",
       "    <tr style=\"text-align: right;\">\n",
       "      <th></th>\n",
       "      <th>freq in pws</th>\n",
       "      <th>percent in pws</th>\n",
       "      <th>freq in web</th>\n",
       "      <th>percent in web</th>\n",
       "    </tr>\n",
       "    <tr>\n",
       "      <th>label</th>\n",
       "      <th></th>\n",
       "      <th></th>\n",
       "      <th></th>\n",
       "      <th></th>\n",
       "    </tr>\n",
       "  </thead>\n",
       "  <tbody>\n",
       "    <tr>\n",
       "      <th>ADV _</th>\n",
       "      <td>290</td>\n",
       "      <td>0.770109</td>\n",
       "      <td>37083012</td>\n",
       "      <td>0.000174</td>\n",
       "    </tr>\n",
       "    <tr>\n",
       "      <th>NOUN Case=Nom|Number=Sing</th>\n",
       "      <td>11544</td>\n",
       "      <td>30.655655</td>\n",
       "      <td>27855260</td>\n",
       "      <td>0.006914</td>\n",
       "    </tr>\n",
       "    <tr>\n",
       "      <th>PROPN Case=Nom|Number=Sing</th>\n",
       "      <td>18063</td>\n",
       "      <td>47.967177</td>\n",
       "      <td>18343344</td>\n",
       "      <td>0.010818</td>\n",
       "    </tr>\n",
       "    <tr>\n",
       "      <th>VERB Mood=Ind|Number=Sing|Person=3|Tense=Past|VerbForm=Fin|Voice=Act</th>\n",
       "      <td>151</td>\n",
       "      <td>0.400988</td>\n",
       "      <td>8783623</td>\n",
       "      <td>0.000090</td>\n",
       "    </tr>\n",
       "    <tr>\n",
       "      <th>ADJ Case=Nom|Degree=Pos|Number=Sing</th>\n",
       "      <td>564</td>\n",
       "      <td>1.497730</td>\n",
       "      <td>7662995</td>\n",
       "      <td>0.000338</td>\n",
       "    </tr>\n",
       "  </tbody>\n",
       "</table>\n",
       "</div>"
      ],
      "text/plain": [
       "                                                    freq in pws  \\\n",
       "label                                                             \n",
       "ADV _                                                       290   \n",
       "NOUN Case=Nom|Number=Sing                                 11544   \n",
       "PROPN Case=Nom|Number=Sing                                18063   \n",
       "VERB Mood=Ind|Number=Sing|Person=3|Tense=Past|V...          151   \n",
       "ADJ Case=Nom|Degree=Pos|Number=Sing                         564   \n",
       "\n",
       "                                                    percent in pws  \\\n",
       "label                                                                \n",
       "ADV _                                                     0.770109   \n",
       "NOUN Case=Nom|Number=Sing                                30.655655   \n",
       "PROPN Case=Nom|Number=Sing                               47.967177   \n",
       "VERB Mood=Ind|Number=Sing|Person=3|Tense=Past|V...        0.400988   \n",
       "ADJ Case=Nom|Degree=Pos|Number=Sing                       1.497730   \n",
       "\n",
       "                                                    freq in web  \\\n",
       "label                                                             \n",
       "ADV _                                                  37083012   \n",
       "NOUN Case=Nom|Number=Sing                              27855260   \n",
       "PROPN Case=Nom|Number=Sing                             18343344   \n",
       "VERB Mood=Ind|Number=Sing|Person=3|Tense=Past|V...      8783623   \n",
       "ADJ Case=Nom|Degree=Pos|Number=Sing                     7662995   \n",
       "\n",
       "                                                    percent in web  \n",
       "label                                                               \n",
       "ADV _                                                     0.000174  \n",
       "NOUN Case=Nom|Number=Sing                                 0.006914  \n",
       "PROPN Case=Nom|Number=Sing                                0.010818  \n",
       "VERB Mood=Ind|Number=Sing|Person=3|Tense=Past|V...        0.000090  \n",
       "ADJ Case=Nom|Degree=Pos|Number=Sing                       0.000338  "
      ]
     },
     "execution_count": 25,
     "metadata": {},
     "output_type": "execute_result"
    }
   ],
   "source": [
    "dfw.head()"
   ]
  },
  {
   "cell_type": "code",
   "execution_count": 26,
   "metadata": {
    "collapsed": true
   },
   "outputs": [],
   "source": [
    "dfw['percent in web'] = dfw['percent in web'].map(lambda x: '{0:.3}'.format(x))\n",
    "dfw['percent in pws'] = dfw['percent in pws'].map(lambda x: '{0:.3}'.format(x))"
   ]
  },
  {
   "cell_type": "code",
   "execution_count": 27,
   "metadata": {},
   "outputs": [
    {
     "data": {
      "text/html": [
       "<div>\n",
       "<style scoped>\n",
       "    .dataframe tbody tr th:only-of-type {\n",
       "        vertical-align: middle;\n",
       "    }\n",
       "\n",
       "    .dataframe tbody tr th {\n",
       "        vertical-align: top;\n",
       "    }\n",
       "\n",
       "    .dataframe thead th {\n",
       "        text-align: right;\n",
       "    }\n",
       "</style>\n",
       "<table border=\"1\" class=\"dataframe\">\n",
       "  <thead>\n",
       "    <tr style=\"text-align: right;\">\n",
       "      <th></th>\n",
       "      <th>freq in pws</th>\n",
       "      <th>percent in pws</th>\n",
       "      <th>freq in web</th>\n",
       "      <th>percent in web</th>\n",
       "    </tr>\n",
       "    <tr>\n",
       "      <th>label</th>\n",
       "      <th></th>\n",
       "      <th></th>\n",
       "      <th></th>\n",
       "      <th></th>\n",
       "    </tr>\n",
       "  </thead>\n",
       "  <tbody>\n",
       "    <tr>\n",
       "      <th>ADV _</th>\n",
       "      <td>290</td>\n",
       "      <td>0.77</td>\n",
       "      <td>37083012</td>\n",
       "      <td>0.000174</td>\n",
       "    </tr>\n",
       "    <tr>\n",
       "      <th>NOUN Case=Nom|Number=Sing</th>\n",
       "      <td>11544</td>\n",
       "      <td>30.7</td>\n",
       "      <td>27855260</td>\n",
       "      <td>0.00691</td>\n",
       "    </tr>\n",
       "    <tr>\n",
       "      <th>PROPN Case=Nom|Number=Sing</th>\n",
       "      <td>18063</td>\n",
       "      <td>48.0</td>\n",
       "      <td>18343344</td>\n",
       "      <td>0.0108</td>\n",
       "    </tr>\n",
       "    <tr>\n",
       "      <th>VERB Mood=Ind|Number=Sing|Person=3|Tense=Past|VerbForm=Fin|Voice=Act</th>\n",
       "      <td>151</td>\n",
       "      <td>0.401</td>\n",
       "      <td>8783623</td>\n",
       "      <td>9.04e-05</td>\n",
       "    </tr>\n",
       "    <tr>\n",
       "      <th>ADJ Case=Nom|Degree=Pos|Number=Sing</th>\n",
       "      <td>564</td>\n",
       "      <td>1.5</td>\n",
       "      <td>7662995</td>\n",
       "      <td>0.000338</td>\n",
       "    </tr>\n",
       "  </tbody>\n",
       "</table>\n",
       "</div>"
      ],
      "text/plain": [
       "                                                    freq in pws  \\\n",
       "label                                                             \n",
       "ADV _                                                       290   \n",
       "NOUN Case=Nom|Number=Sing                                 11544   \n",
       "PROPN Case=Nom|Number=Sing                                18063   \n",
       "VERB Mood=Ind|Number=Sing|Person=3|Tense=Past|V...          151   \n",
       "ADJ Case=Nom|Degree=Pos|Number=Sing                         564   \n",
       "\n",
       "                                                   percent in pws  \\\n",
       "label                                                               \n",
       "ADV _                                                        0.77   \n",
       "NOUN Case=Nom|Number=Sing                                    30.7   \n",
       "PROPN Case=Nom|Number=Sing                                   48.0   \n",
       "VERB Mood=Ind|Number=Sing|Person=3|Tense=Past|V...          0.401   \n",
       "ADJ Case=Nom|Degree=Pos|Number=Sing                           1.5   \n",
       "\n",
       "                                                    freq in web percent in web  \n",
       "label                                                                           \n",
       "ADV _                                                  37083012       0.000174  \n",
       "NOUN Case=Nom|Number=Sing                              27855260        0.00691  \n",
       "PROPN Case=Nom|Number=Sing                             18343344         0.0108  \n",
       "VERB Mood=Ind|Number=Sing|Person=3|Tense=Past|V...      8783623       9.04e-05  \n",
       "ADJ Case=Nom|Degree=Pos|Number=Sing                     7662995       0.000338  "
      ]
     },
     "execution_count": 27,
     "metadata": {},
     "output_type": "execute_result"
    }
   ],
   "source": [
    "dfw.head()"
   ]
  },
  {
   "cell_type": "code",
   "execution_count": 28,
   "metadata": {},
   "outputs": [
    {
     "data": {
      "text/html": [
       "<div>\n",
       "<style scoped>\n",
       "    .dataframe tbody tr th:only-of-type {\n",
       "        vertical-align: middle;\n",
       "    }\n",
       "\n",
       "    .dataframe tbody tr th {\n",
       "        vertical-align: top;\n",
       "    }\n",
       "\n",
       "    .dataframe thead th {\n",
       "        text-align: right;\n",
       "    }\n",
       "</style>\n",
       "<table border=\"1\" class=\"dataframe\">\n",
       "  <thead>\n",
       "    <tr style=\"text-align: right;\">\n",
       "      <th></th>\n",
       "      <th>matched word</th>\n",
       "      <th>freq in pws</th>\n",
       "    </tr>\n",
       "  </thead>\n",
       "  <tbody>\n",
       "    <tr>\n",
       "      <th>2498</th>\n",
       "      <td>sen</td>\n",
       "      <td>3</td>\n",
       "    </tr>\n",
       "  </tbody>\n",
       "</table>\n",
       "</div>"
      ],
      "text/plain": [
       "     matched word  freq in pws\n",
       "2498          sen            3"
      ]
     },
     "execution_count": 28,
     "metadata": {},
     "output_type": "execute_result"
    }
   ],
   "source": [
    "df[['matched word','freq in pws']][df['label']=='PRON Case=Gen|Number=Sing|PronType=Dem'].sort_values(['freq in pws'],ascending=False).head()"
   ]
  },
  {
   "cell_type": "code",
   "execution_count": 29,
   "metadata": {},
   "outputs": [
    {
     "data": {
      "text/plain": [
       "Index([u'freq in pws', u'percent in pws', u'freq in web', u'percent in web'], dtype='object')"
      ]
     },
     "execution_count": 29,
     "metadata": {},
     "output_type": "execute_result"
    }
   ],
   "source": [
    "dfa.columns"
   ]
  },
  {
   "cell_type": "code",
   "execution_count": 30,
   "metadata": {},
   "outputs": [
    {
     "data": {
      "image/png": "[encoded data removed]",
      "text/plain": [
       "<matplotlib.figure.Figure at 0xd6c8cc0>"
      ]
     },
     "metadata": {},
     "output_type": "display_data"
    }
   ],
   "source": [
    "sample = 10\n",
    "title = 'Frequencies of top ' + str(sample) + ' morphological forms used in passwords'\n",
    "dfa['freq in pws'][:sample].plot(legend=True, title = title);\n",
    "dfa['freq in web'][:sample].plot(secondary_y=True, legend=True);"
   ]
  },
  {
   "cell_type": "code",
   "execution_count": 31,
   "metadata": {},
   "outputs": [
    {
     "data": {
      "image/png": "[encoded data removed]",
      "text/plain": [
       "<matplotlib.figure.Figure at 0xd6e13c8>"
      ]
     },
     "metadata": {},
     "output_type": "display_data"
    }
   ],
   "source": [
    "dfb = dfa[:5]\n",
    "dfb.plot(y = 'freq in pws',x=dfb.index,legend=True, title = title);"
   ]
  },
  {
   "cell_type": "code",
   "execution_count": 32,
   "metadata": {
    "collapsed": true
   },
   "outputs": [],
   "source": [
    "dfsort = df.sort_values(['freq in pws'],ascending=False).reset_index(drop=True)"
   ]
  },
  {
   "cell_type": "code",
   "execution_count": 33,
   "metadata": {},
   "outputs": [
    {
     "data": {
      "text/html": [
       "<div>\n",
       "<style scoped>\n",
       "    .dataframe tbody tr th:only-of-type {\n",
       "        vertical-align: middle;\n",
       "    }\n",
       "\n",
       "    .dataframe tbody tr th {\n",
       "        vertical-align: top;\n",
       "    }\n",
       "\n",
       "    .dataframe thead th {\n",
       "        text-align: right;\n",
       "    }\n",
       "</style>\n",
       "<table border=\"1\" class=\"dataframe\">\n",
       "  <thead>\n",
       "    <tr style=\"text-align: right;\">\n",
       "      <th></th>\n",
       "      <th>matched word</th>\n",
       "      <th>freq in pws</th>\n",
       "      <th>freq in web</th>\n",
       "      <th>individual freq</th>\n",
       "      <th>POS</th>\n",
       "      <th>analysis</th>\n",
       "      <th>finnish word</th>\n",
       "      <th>finnish name</th>\n",
       "      <th>label</th>\n",
       "    </tr>\n",
       "  </thead>\n",
       "  <tbody>\n",
       "    <tr>\n",
       "      <th>0</th>\n",
       "      <td>salasana</td>\n",
       "      <td>224</td>\n",
       "      <td>16553</td>\n",
       "      <td>16173</td>\n",
       "      <td>NOUN</td>\n",
       "      <td>Case=Nom|Number=Sing</td>\n",
       "      <td>True</td>\n",
       "      <td>False</td>\n",
       "      <td>NOUN Case=Nom|Number=Sing</td>\n",
       "    </tr>\n",
       "    <tr>\n",
       "      <th>1</th>\n",
       "      <td>perkele</td>\n",
       "      <td>167</td>\n",
       "      <td>13111</td>\n",
       "      <td>4304</td>\n",
       "      <td>NOUN</td>\n",
       "      <td>Case=Nom|Number=Sing</td>\n",
       "      <td>True</td>\n",
       "      <td>False</td>\n",
       "      <td>NOUN Case=Nom|Number=Sing</td>\n",
       "    </tr>\n",
       "    <tr>\n",
       "      <th>2</th>\n",
       "      <td>paska</td>\n",
       "      <td>121</td>\n",
       "      <td>21359</td>\n",
       "      <td>20343</td>\n",
       "      <td>NOUN</td>\n",
       "      <td>Case=Nom|Number=Sing</td>\n",
       "      <td>True</td>\n",
       "      <td>False</td>\n",
       "      <td>NOUN Case=Nom|Number=Sing</td>\n",
       "    </tr>\n",
       "    <tr>\n",
       "      <th>3</th>\n",
       "      <td>kakka</td>\n",
       "      <td>110</td>\n",
       "      <td>2820</td>\n",
       "      <td>2786</td>\n",
       "      <td>NOUN</td>\n",
       "      <td>Case=Nom|Number=Sing</td>\n",
       "      <td>True</td>\n",
       "      <td>False</td>\n",
       "      <td>NOUN Case=Nom|Number=Sing</td>\n",
       "    </tr>\n",
       "    <tr>\n",
       "      <th>4</th>\n",
       "      <td>qwerty</td>\n",
       "      <td>109</td>\n",
       "      <td>774</td>\n",
       "      <td>283</td>\n",
       "      <td>NOUN</td>\n",
       "      <td>Case=Nom|Number=Sing</td>\n",
       "      <td>False</td>\n",
       "      <td>False</td>\n",
       "      <td>NOUN Case=Nom|Number=Sing</td>\n",
       "    </tr>\n",
       "  </tbody>\n",
       "</table>\n",
       "</div>"
      ],
      "text/plain": [
       "  matched word  freq in pws  freq in web  individual freq   POS  \\\n",
       "0     salasana          224        16553            16173  NOUN   \n",
       "1      perkele          167        13111             4304  NOUN   \n",
       "2        paska          121        21359            20343  NOUN   \n",
       "3        kakka          110         2820             2786  NOUN   \n",
       "4       qwerty          109          774              283  NOUN   \n",
       "\n",
       "               analysis  finnish word  finnish name                      label  \n",
       "0  Case=Nom|Number=Sing          True         False  NOUN Case=Nom|Number=Sing  \n",
       "1  Case=Nom|Number=Sing          True         False  NOUN Case=Nom|Number=Sing  \n",
       "2  Case=Nom|Number=Sing          True         False  NOUN Case=Nom|Number=Sing  \n",
       "3  Case=Nom|Number=Sing          True         False  NOUN Case=Nom|Number=Sing  \n",
       "4  Case=Nom|Number=Sing         False         False  NOUN Case=Nom|Number=Sing  "
      ]
     },
     "execution_count": 33,
     "metadata": {},
     "output_type": "execute_result"
    }
   ],
   "source": [
    "dfsort.head()"
   ]
  },
  {
   "cell_type": "code",
   "execution_count": 34,
   "metadata": {},
   "outputs": [
    {
     "data": {
      "text/plain": [
       "array([u'salasana', u'perkele', u'paska', u'kakka', u'qwerty', u'koira',\n",
       "       u'kissa', u'enkeli', u'nalle', u'ville'], dtype=object)"
      ]
     },
     "execution_count": 34,
     "metadata": {},
     "output_type": "execute_result"
    }
   ],
   "source": [
    "dfsort['matched word'][:sample].values"
   ]
  },
  {
   "cell_type": "code",
   "execution_count": 35,
   "metadata": {},
   "outputs": [
    {
     "data": {
      "image/png": "[encoded data removed]",
      "text/plain": [
       "<matplotlib.figure.Figure at 0xddab358>"
      ]
     },
     "metadata": {},
     "output_type": "display_data"
    }
   ],
   "source": [
    "#https://stackoverflow.com/questions/11640243/pandas-plot-multiple-y-axes\n",
    "\n",
    "sample = 5\n",
    "title = 'Frequencies of top ' + str(sample) + ' words used in passwords'\n",
    "x = [str(i) for i in dfsort['matched word'][:sample]]\n",
    "dfsort['freq in pws'][:sample].plot(legend=True, title = title, x=x);\n",
    "dfsort['freq in web'][:sample].plot(secondary_y=True, legend=True, sharex = True);\n"
   ]
  },
  {
   "cell_type": "code",
   "execution_count": 36,
   "metadata": {},
   "outputs": [
    {
     "data": {
      "text/plain": [
       "['salasana', 'perkele', 'paska', 'kakka', 'qwerty']"
      ]
     },
     "execution_count": 36,
     "metadata": {},
     "output_type": "execute_result"
    }
   ],
   "source": [
    "x"
   ]
  },
  {
   "cell_type": "code",
   "execution_count": 37,
   "metadata": {},
   "outputs": [
    {
     "name": "stdout",
     "output_type": "stream",
     "text": [
      "15 15\n"
     ]
    },
    {
     "data": {
      "image/png": "[encoded data removed]",
      "text/plain": [
       "<matplotlib.figure.Figure at 0xd8d3978>"
      ]
     },
     "metadata": {},
     "output_type": "display_data"
    }
   ],
   "source": [
    "#https://matplotlib.org/gallery/api/two_scales.html\n",
    "\n",
    "sample = 15\n",
    "\n",
    "fig, ax1 = plt.subplots(figsize=(10,4))\n",
    "x = [i for i in dfsort[:sample].index]\n",
    "x_ticks_labels = [str(i) for i in dfsort['matched word'][:sample]]\n",
    "y1 = dfsort['freq in pws'][:sample]\n",
    "print len(x), len(y1)\n",
    "ax1.plot(x, y1, 'b-')\n",
    "ax1.set_xlabel('words')\n",
    "# Make the y-axis label, ticks and tick labels match the line color.\n",
    "ax1.set_ylabel('freq in pws', color='b')\n",
    "ax1.tick_params('y', colors='b')\n",
    "# Set number of ticks for x-axis\n",
    "ax1.set_xticks(x)\n",
    "# Set ticks labels for x-axis\n",
    "ax1.set_xticklabels(x_ticks_labels, rotation='vertical', fontsize=18)\n",
    "\n",
    "ax2 = ax1.twinx()\n",
    "y2 = dfsort['freq in web'][:sample]\n",
    "ax2.plot(x, y2, 'g--')\n",
    "ax2.set_ylabel('freq in web', color='g')\n",
    "ax2.tick_params('y', colors='g')\n",
    "\n",
    "#[str(i) for i in dfsort['matched word'][:sample]]\n",
    "\n",
    "fig.tight_layout()\n",
    "plt.show()"
   ]
  },
  {
   "cell_type": "code",
   "execution_count": 38,
   "metadata": {},
   "outputs": [
    {
     "name": "stdout",
     "output_type": "stream",
     "text": [
      "8 8\n"
     ]
    },
    {
     "data": {
      "image/png": "[encoded data removed]",
      "text/plain": [
       "<matplotlib.figure.Figure at 0xdec1a58>"
      ]
     },
     "metadata": {},
     "output_type": "display_data"
    }
   ],
   "source": [
    "#https://matplotlib.org/gallery/api/two_scales.html\n",
    "\n",
    "sample = 8\n",
    "title = 'Frequencies of top ' + str(sample) + ' words used in passwords'\n",
    "#x = [str(i) for i in dfsort['matched word'][:sample]]\n",
    "#dfsort['freq in pws'][:sample].plot(legend=True, title = title, x=x);\n",
    "#dfsort['freq in web'][:sample].plot(secondary_y=True, legend=True, sharex = True);\n",
    "\n",
    "fig, ax1 = plt.subplots(figsize=(10,4))\n",
    "x = [i for i, val in enumerate(dfa[:sample].index)]\n",
    "x_ticks_labels = [str(i) for i in dfa[:sample].index]\n",
    "y1 = dfa['freq in pws'][:sample]\n",
    "print len(x), len(y1)\n",
    "ax1.plot(x, y1, 'b-')\n",
    "ax1.set_xlabel('')\n",
    "# Make the y-axis label, ticks and tick labels match the line color.\n",
    "ax1.set_ylabel('freq in pws', color='b')\n",
    "ax1.tick_params('y', colors='b')\n",
    "# Set number of ticks for x-axis\n",
    "ax1.set_xticks(x)\n",
    "# Set ticks labels for x-axis\n",
    "ax1.set_xticklabels(x_ticks_labels, rotation='vertical', fontsize=18)\n",
    "\n",
    "ax2 = ax1.twinx()\n",
    "y2 = dfa['freq in web'][:sample]\n",
    "ax2.plot(x, y2, 'g--')\n",
    "ax2.set_ylabel('freq in web', color='g')\n",
    "ax2.tick_params('y', colors='g')\n",
    "\n",
    "#[str(i) for i in dfsort['matched word'][:sample]]\n",
    "\n",
    "#fig.tight_layout()\n",
    "plt.show()"
   ]
  },
  {
   "cell_type": "code",
   "execution_count": null,
   "metadata": {
    "collapsed": true
   },
   "outputs": [],
   "source": []
  }
 ],
 "metadata": {
  "kernelspec": {
   "display_name": "Python 2",
   "language": "python",
   "name": "python2"
  },
  "language_info": {
   "codemirror_mode": {
    "name": "ipython",
    "version": 2
   },
   "file_extension": ".py",
   "mimetype": "text/x-python",
   "name": "python",
   "nbconvert_exporter": "python",
   "pygments_lexer": "ipython2",
   "version": "2.7.14"
  }
 },
 "nbformat": 4,
 "nbformat_minor": 2
}
