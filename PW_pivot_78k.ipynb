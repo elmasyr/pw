{
 "cells": [
  {
   "cell_type": "code",
   "execution_count": 1,
   "metadata": {},
   "outputs": [
    {
     "name": "stdout",
     "output_type": "stream",
     "text": [
      "<class 'pandas.core.frame.DataFrame'>\n",
      "RangeIndex: 11749 entries, 0 to 11748\n",
      "Data columns (total 8 columns):\n",
      "matched word       11748 non-null object\n",
      "freq in pws        11749 non-null int64\n",
      "freq in web        11749 non-null int64\n",
      "individual freq    11749 non-null int64\n",
      "POS                11749 non-null object\n",
      "analysis           11749 non-null object\n",
      "finnish word       11749 non-null bool\n",
      "finnish name       11749 non-null bool\n",
      "dtypes: bool(2), int64(3), object(3)\n",
      "memory usage: 573.8+ KB\n"
     ]
    }
   ],
   "source": [
    "import pandas as pd\n",
    "import numpy as np\n",
    "import matplotlib.pyplot as plt\n",
    "%matplotlib inline\n",
    "\n",
    "# give the datafile name\n",
    "datafile= 'C:\\Users\\elmasyr\\Seafile\\PW Project\\PW Proj Shared Docs\\data\\matched word pivot files/78k_word_pivot.xlsx'\n",
    "addin = '_78k'\n",
    "\n",
    "#df = pd.read_csv(datafile, header=0, sep=',', encoding='utf-8')\n",
    "df = pd.read_excel(datafile, header=0, sep=',', encoding='utf-8', sheet_name='matchfreqfinnw_names')\n",
    "df.info() # could also use df_final.dtypes"
   ]
  },
  {
   "cell_type": "code",
   "execution_count": 2,
   "metadata": {},
   "outputs": [
    {
     "data": {
      "text/html": [
       "<div>\n",
       "<style scoped>\n",
       "    .dataframe tbody tr th:only-of-type {\n",
       "        vertical-align: middle;\n",
       "    }\n",
       "\n",
       "    .dataframe tbody tr th {\n",
       "        vertical-align: top;\n",
       "    }\n",
       "\n",
       "    .dataframe thead th {\n",
       "        text-align: right;\n",
       "    }\n",
       "</style>\n",
       "<table border=\"1\" class=\"dataframe\">\n",
       "  <thead>\n",
       "    <tr style=\"text-align: right;\">\n",
       "      <th></th>\n",
       "      <th>matched word</th>\n",
       "      <th>freq in pws</th>\n",
       "      <th>freq in web</th>\n",
       "      <th>individual freq</th>\n",
       "      <th>POS</th>\n",
       "      <th>analysis</th>\n",
       "      <th>finnish word</th>\n",
       "      <th>finnish name</th>\n",
       "    </tr>\n",
       "  </thead>\n",
       "  <tbody>\n",
       "    <tr>\n",
       "      <th>0</th>\n",
       "      <td>salasana</td>\n",
       "      <td>224</td>\n",
       "      <td>16553</td>\n",
       "      <td>16173</td>\n",
       "      <td>NOUN</td>\n",
       "      <td>Case=Nom|Number=Sing</td>\n",
       "      <td>True</td>\n",
       "      <td>False</td>\n",
       "    </tr>\n",
       "    <tr>\n",
       "      <th>1</th>\n",
       "      <td>perkele</td>\n",
       "      <td>167</td>\n",
       "      <td>13111</td>\n",
       "      <td>4304</td>\n",
       "      <td>NOUN</td>\n",
       "      <td>Case=Nom|Number=Sing</td>\n",
       "      <td>True</td>\n",
       "      <td>False</td>\n",
       "    </tr>\n",
       "    <tr>\n",
       "      <th>2</th>\n",
       "      <td>paska</td>\n",
       "      <td>121</td>\n",
       "      <td>21359</td>\n",
       "      <td>20343</td>\n",
       "      <td>NOUN</td>\n",
       "      <td>Case=Nom|Number=Sing</td>\n",
       "      <td>True</td>\n",
       "      <td>False</td>\n",
       "    </tr>\n",
       "    <tr>\n",
       "      <th>3</th>\n",
       "      <td>kakka</td>\n",
       "      <td>110</td>\n",
       "      <td>2820</td>\n",
       "      <td>2786</td>\n",
       "      <td>NOUN</td>\n",
       "      <td>Case=Nom|Number=Sing</td>\n",
       "      <td>True</td>\n",
       "      <td>False</td>\n",
       "    </tr>\n",
       "    <tr>\n",
       "      <th>4</th>\n",
       "      <td>qwerty</td>\n",
       "      <td>109</td>\n",
       "      <td>774</td>\n",
       "      <td>283</td>\n",
       "      <td>NOUN</td>\n",
       "      <td>Case=Nom|Number=Sing</td>\n",
       "      <td>False</td>\n",
       "      <td>False</td>\n",
       "    </tr>\n",
       "  </tbody>\n",
       "</table>\n",
       "</div>"
      ],
      "text/plain": [
       "  matched word  freq in pws  freq in web  individual freq   POS  \\\n",
       "0     salasana          224        16553            16173  NOUN   \n",
       "1      perkele          167        13111             4304  NOUN   \n",
       "2        paska          121        21359            20343  NOUN   \n",
       "3        kakka          110         2820             2786  NOUN   \n",
       "4       qwerty          109          774              283  NOUN   \n",
       "\n",
       "               analysis  finnish word  finnish name  \n",
       "0  Case=Nom|Number=Sing          True         False  \n",
       "1  Case=Nom|Number=Sing          True         False  \n",
       "2  Case=Nom|Number=Sing          True         False  \n",
       "3  Case=Nom|Number=Sing          True         False  \n",
       "4  Case=Nom|Number=Sing         False         False  "
      ]
     },
     "execution_count": 2,
     "metadata": {},
     "output_type": "execute_result"
    }
   ],
   "source": [
    "df.head()"
   ]
  },
  {
   "cell_type": "code",
   "execution_count": 3,
   "metadata": {
    "collapsed": true
   },
   "outputs": [],
   "source": [
    "df = df.rename(columns={'matched word': 'word', 'finnish word': 'Finnish word', 'finnish name': 'Finnish name'})"
   ]
  },
  {
   "cell_type": "markdown",
   "metadata": {},
   "source": [
    "### Function for rendering dataframe table to figure"
   ]
  },
  {
   "cell_type": "code",
   "execution_count": 4,
   "metadata": {
    "collapsed": true
   },
   "outputs": [],
   "source": [
    "#https://stackoverflow.com/questions/19726663/how-to-save-the-pandas-dataframe-series-data-as-a-figure\n",
    "\n",
    "import pandas as pd\n",
    "import numpy as np\n",
    "import matplotlib.pyplot as plt\n",
    "import six\n",
    "\n",
    "\n",
    "def render_mpl_table(data, rows=None, col_width=3.0, row_height=0.625, font_size=14,\n",
    "                     header_color='#40466e', row_colors=['#f1f1f2', 'w'], edge_color='#40466e',\n",
    "                     bbox=[0, 0, 1, 1], header_columns=0,\n",
    "                     ax=None, **kwargs):\n",
    "    if ax is None:\n",
    "        size = (np.array(data.shape[::-1]) + np.array([0, 1])) * np.array([col_width, row_height])#+np.array([8, 0])\n",
    "        fig, ax = plt.subplots(figsize=size)\n",
    "        ax.axis('off')\n",
    "\n",
    "    mpl_table = ax.table(cellText=data.values, bbox=bbox, colLabels=data.columns, rowLabels=rows, **kwargs)\n",
    "\n",
    "    mpl_table.auto_set_font_size(False)\n",
    "    mpl_table.set_fontsize(font_size)\n",
    "\n",
    "    for k, cell in six.iteritems(mpl_table._cells):\n",
    "        cell.set_edgecolor(edge_color)\n",
    "        if k[0] == 0 or k[1] < header_columns:\n",
    "            cell.set_text_props(weight='bold', color='w')\n",
    "            cell.set_facecolor(header_color)\n",
    "        else:\n",
    "            cell.set_facecolor(row_colors[k[0]%len(row_colors) ])\n",
    "    return ax\n"
   ]
  },
  {
   "cell_type": "markdown",
   "metadata": {},
   "source": [
    "### Finnish names and words"
   ]
  },
  {
   "cell_type": "markdown",
   "metadata": {},
   "source": [
    "#### freq in pws"
   ]
  },
  {
   "cell_type": "code",
   "execution_count": 5,
   "metadata": {},
   "outputs": [
    {
     "data": {
      "text/plain": [
       "44.509652919775874"
      ]
     },
     "execution_count": 5,
     "metadata": {},
     "output_type": "execute_result"
    }
   ],
   "source": [
    "'''Finnish name, percentage of all words used in passwords'''\n",
    "(df[df['Finnish name']==True]['freq in pws'].sum()/float(df['freq in pws'].sum()))*100"
   ]
  },
  {
   "cell_type": "code",
   "execution_count": 6,
   "metadata": {},
   "outputs": [
    {
     "data": {
      "text/plain": [
       "36.249893607966641"
      ]
     },
     "execution_count": 6,
     "metadata": {},
     "output_type": "execute_result"
    }
   ],
   "source": [
    "'''Finnish name, percentage of unique words used in passwords'''\n",
    "(df[df['Finnish name']==True]['freq in pws'].count()/float(df['freq in pws'].count()))*100"
   ]
  },
  {
   "cell_type": "code",
   "execution_count": 7,
   "metadata": {},
   "outputs": [
    {
     "data": {
      "text/plain": [
       "43.381044692885787"
      ]
     },
     "execution_count": 7,
     "metadata": {},
     "output_type": "execute_result"
    }
   ],
   "source": [
    "'''Finnish word, percentage of all words used in passwords'''\n",
    "(df[df['Finnish word']==True]['freq in pws'].sum()/float(df['freq in pws'].sum()))*100"
   ]
  },
  {
   "cell_type": "code",
   "execution_count": 8,
   "metadata": {},
   "outputs": [
    {
     "data": {
      "text/plain": [
       "42.020597497659374"
      ]
     },
     "execution_count": 8,
     "metadata": {},
     "output_type": "execute_result"
    }
   ],
   "source": [
    "'''Finnish word, percentage of unique words used in passwords'''\n",
    "(df[df['Finnish word']==True]['freq in pws'].count()/float(df['freq in pws'].count()))*100"
   ]
  },
  {
   "cell_type": "code",
   "execution_count": 9,
   "metadata": {
    "collapsed": true
   },
   "outputs": [],
   "source": [
    "dff = pd.DataFrame()"
   ]
  },
  {
   "cell_type": "markdown",
   "metadata": {},
   "source": [
    "#### freq in web"
   ]
  },
  {
   "cell_type": "code",
   "execution_count": 10,
   "metadata": {},
   "outputs": [
    {
     "data": {
      "text/plain": [
       "24.898478234437992"
      ]
     },
     "execution_count": 10,
     "metadata": {},
     "output_type": "execute_result"
    }
   ],
   "source": [
    "'''Finnish name, percentage of all words used in web'''\n",
    "(df[df['Finnish name']==True]['freq in web'].sum()/float(df['freq in web'].sum()))*100"
   ]
  },
  {
   "cell_type": "code",
   "execution_count": 11,
   "metadata": {},
   "outputs": [
    {
     "data": {
      "text/plain": [
       "36.249893607966641"
      ]
     },
     "execution_count": 11,
     "metadata": {},
     "output_type": "execute_result"
    }
   ],
   "source": [
    "'''Finnish name, percentage of unique words used in web'''\n",
    "(df[df['Finnish name']==True]['freq in web'].count()/float(df['freq in web'].count()))*100"
   ]
  },
  {
   "cell_type": "code",
   "execution_count": 12,
   "metadata": {},
   "outputs": [
    {
     "data": {
      "text/plain": [
       "86.26527536699048"
      ]
     },
     "execution_count": 12,
     "metadata": {},
     "output_type": "execute_result"
    }
   ],
   "source": [
    "'''Finnish word, percentage of all words used in web'''\n",
    "(df[df['Finnish word']==True]['freq in web'].sum()/float(df['freq in web'].sum()))*100"
   ]
  },
  {
   "cell_type": "code",
   "execution_count": 13,
   "metadata": {},
   "outputs": [
    {
     "data": {
      "text/plain": [
       "42.020597497659374"
      ]
     },
     "execution_count": 13,
     "metadata": {},
     "output_type": "execute_result"
    }
   ],
   "source": [
    "'''Finnish word, percentage of unique words used in web'''\n",
    "(df[df['Finnish word']==True]['freq in web'].count()/float(df['freq in web'].count()))*100"
   ]
  },
  {
   "cell_type": "markdown",
   "metadata": {},
   "source": [
    "#### As a small dataframe"
   ]
  },
  {
   "cell_type": "code",
   "execution_count": 14,
   "metadata": {},
   "outputs": [
    {
     "data": {
      "text/html": [
       "<div>\n",
       "<style scoped>\n",
       "    .dataframe tbody tr th:only-of-type {\n",
       "        vertical-align: middle;\n",
       "    }\n",
       "\n",
       "    .dataframe tbody tr th {\n",
       "        vertical-align: top;\n",
       "    }\n",
       "\n",
       "    .dataframe thead th {\n",
       "        text-align: right;\n",
       "    }\n",
       "</style>\n",
       "<table border=\"1\" class=\"dataframe\">\n",
       "  <thead>\n",
       "    <tr style=\"text-align: right;\">\n",
       "      <th></th>\n",
       "      <th>percent in pws</th>\n",
       "      <th>percent in web</th>\n",
       "    </tr>\n",
       "  </thead>\n",
       "  <tbody>\n",
       "    <tr>\n",
       "      <th>Finnish word</th>\n",
       "      <td>43.4</td>\n",
       "      <td>86.3</td>\n",
       "    </tr>\n",
       "    <tr>\n",
       "      <th>Finnish name</th>\n",
       "      <td>44.5</td>\n",
       "      <td>24.9</td>\n",
       "    </tr>\n",
       "  </tbody>\n",
       "</table>\n",
       "</div>"
      ],
      "text/plain": [
       "             percent in pws percent in web\n",
       "Finnish word           43.4           86.3\n",
       "Finnish name           44.5           24.9"
      ]
     },
     "execution_count": 14,
     "metadata": {},
     "output_type": "execute_result"
    }
   ],
   "source": [
    "dff.loc['Finnish word','percent in pws'] = \\\n",
    "'{0:.3}'.format(float((df[df['Finnish word']==True]['freq in pws'].sum()/float(df['freq in pws'].sum()))*100))\n",
    "dff.loc['Finnish word','percent in web'] = \\\n",
    "'{0:.3}'.format(float((df[df['Finnish word']==True]['freq in web'].sum()/float(df['freq in web'].sum()))*100))\n",
    "dff.loc['Finnish name','percent in pws'] = \\\n",
    "'{0:.3}'.format(float((df[df['Finnish name']==True]['freq in pws'].sum()/float(df['freq in pws'].sum()))*100))\n",
    "dff.loc['Finnish name','percent in web'] = \\\n",
    "'{0:.3}'.format(float((df[df['Finnish name']==True]['freq in web'].sum()/float(df['freq in web'].sum()))*100))\n",
    "\n",
    "dff"
   ]
  },
  {
   "cell_type": "code",
   "execution_count": 15,
   "metadata": {},
   "outputs": [
    {
     "data": {
      "image/png": "[encoded data removed]",
      "text/plain": [
       "<matplotlib.figure.Figure at 0xe19e518>"
      ]
     },
     "metadata": {},
     "output_type": "display_data"
    },
    {
     "data": {
      "image/png": "[encoded data removed]",
      "text/plain": [
       "<matplotlib.figure.Figure at 0x3aa7438>"
      ]
     },
     "metadata": {},
     "output_type": "display_data"
    }
   ],
   "source": [
    "dft=dff\n",
    "rows = [i for i in dft.index]\n",
    "fign = 'finnish_percent'\n",
    "pngfile = fign + '_' + addin + '.png'\n",
    "epsfile = fign + '_' + addin + '.eps'\n",
    "\n",
    "ax = plt.subplot(111, frame_on=False) # no visible frame\n",
    "ax.xaxis.set_visible(False)  # hide the x axis\n",
    "ax.yaxis.set_visible(False)  # hide the y axis\n",
    "\n",
    "render_mpl_table(dft, header_columns=0, col_width=2.5, rows = rows, header_color='grey',  edge_color='w')\n",
    "\n",
    "#plt.tight_layout()\n",
    "#plt.savefig('posmorphtable_grey.png')\n",
    "plt.savefig(pngfile, format='png', dpi=300, bbox_inches='tight')\n",
    "plt.savefig(epsfile, format='eps', dpi=300, bbox_inches='tight');"
   ]
  },
  {
   "cell_type": "code",
   "execution_count": 16,
   "metadata": {},
   "outputs": [
    {
     "data": {
      "text/html": [
       "<div>\n",
       "<style scoped>\n",
       "    .dataframe tbody tr th:only-of-type {\n",
       "        vertical-align: middle;\n",
       "    }\n",
       "\n",
       "    .dataframe tbody tr th {\n",
       "        vertical-align: top;\n",
       "    }\n",
       "\n",
       "    .dataframe thead th {\n",
       "        text-align: right;\n",
       "    }\n",
       "</style>\n",
       "<table border=\"1\" class=\"dataframe\">\n",
       "  <thead>\n",
       "    <tr style=\"text-align: right;\">\n",
       "      <th></th>\n",
       "      <th>word</th>\n",
       "      <th>freq in pws</th>\n",
       "      <th>freq in web</th>\n",
       "      <th>individual freq</th>\n",
       "      <th>POS</th>\n",
       "      <th>analysis</th>\n",
       "      <th>Finnish word</th>\n",
       "      <th>Finnish name</th>\n",
       "    </tr>\n",
       "  </thead>\n",
       "  <tbody>\n",
       "    <tr>\n",
       "      <th>95</th>\n",
       "      <td>aurinko</td>\n",
       "      <td>33</td>\n",
       "      <td>84299</td>\n",
       "      <td>71522</td>\n",
       "      <td>NOUN</td>\n",
       "      <td>Case=Nom|Number=Sing</td>\n",
       "      <td>True</td>\n",
       "      <td>True</td>\n",
       "    </tr>\n",
       "    <tr>\n",
       "      <th>516</th>\n",
       "      <td>batman</td>\n",
       "      <td>12</td>\n",
       "      <td>5080</td>\n",
       "      <td>3027</td>\n",
       "      <td>PROPN</td>\n",
       "      <td>Case=Gen|Number=Sing</td>\n",
       "      <td>False</td>\n",
       "      <td>False</td>\n",
       "    </tr>\n",
       "  </tbody>\n",
       "</table>\n",
       "</div>"
      ],
      "text/plain": [
       "        word  freq in pws  freq in web  individual freq    POS  \\\n",
       "95   aurinko           33        84299            71522   NOUN   \n",
       "516   batman           12         5080             3027  PROPN   \n",
       "\n",
       "                 analysis  Finnish word  Finnish name  \n",
       "95   Case=Nom|Number=Sing          True          True  \n",
       "516  Case=Gen|Number=Sing         False         False  "
      ]
     },
     "execution_count": 16,
     "metadata": {},
     "output_type": "execute_result"
    }
   ],
   "source": [
    "df[df['word'].isin(['batman','aurinko'])]"
   ]
  },
  {
   "cell_type": "markdown",
   "metadata": {},
   "source": [
    "### POS and morph frequencies"
   ]
  },
  {
   "cell_type": "code",
   "execution_count": 17,
   "metadata": {
    "collapsed": true
   },
   "outputs": [],
   "source": [
    "mypos = pd.DataFrame([str(val) for i, val in enumerate(df.POS)])\n",
    "myanalysis = pd.DataFrame([str(val) for i, val in enumerate(df.analysis)])\n",
    "df['label'] = mypos + ' ' +  myanalysis"
   ]
  },
  {
   "cell_type": "code",
   "execution_count": 18,
   "metadata": {},
   "outputs": [
    {
     "data": {
      "text/html": [
       "<div>\n",
       "<style scoped>\n",
       "    .dataframe tbody tr th:only-of-type {\n",
       "        vertical-align: middle;\n",
       "    }\n",
       "\n",
       "    .dataframe tbody tr th {\n",
       "        vertical-align: top;\n",
       "    }\n",
       "\n",
       "    .dataframe thead th {\n",
       "        text-align: right;\n",
       "    }\n",
       "</style>\n",
       "<table border=\"1\" class=\"dataframe\">\n",
       "  <thead>\n",
       "    <tr style=\"text-align: right;\">\n",
       "      <th></th>\n",
       "      <th>word</th>\n",
       "      <th>freq in pws</th>\n",
       "      <th>freq in web</th>\n",
       "      <th>individual freq</th>\n",
       "      <th>POS</th>\n",
       "      <th>analysis</th>\n",
       "      <th>Finnish word</th>\n",
       "      <th>Finnish name</th>\n",
       "      <th>label</th>\n",
       "    </tr>\n",
       "  </thead>\n",
       "  <tbody>\n",
       "    <tr>\n",
       "      <th>0</th>\n",
       "      <td>salasana</td>\n",
       "      <td>224</td>\n",
       "      <td>16553</td>\n",
       "      <td>16173</td>\n",
       "      <td>NOUN</td>\n",
       "      <td>Case=Nom|Number=Sing</td>\n",
       "      <td>True</td>\n",
       "      <td>False</td>\n",
       "      <td>NOUN Case=Nom|Number=Sing</td>\n",
       "    </tr>\n",
       "    <tr>\n",
       "      <th>1</th>\n",
       "      <td>perkele</td>\n",
       "      <td>167</td>\n",
       "      <td>13111</td>\n",
       "      <td>4304</td>\n",
       "      <td>NOUN</td>\n",
       "      <td>Case=Nom|Number=Sing</td>\n",
       "      <td>True</td>\n",
       "      <td>False</td>\n",
       "      <td>NOUN Case=Nom|Number=Sing</td>\n",
       "    </tr>\n",
       "    <tr>\n",
       "      <th>2</th>\n",
       "      <td>paska</td>\n",
       "      <td>121</td>\n",
       "      <td>21359</td>\n",
       "      <td>20343</td>\n",
       "      <td>NOUN</td>\n",
       "      <td>Case=Nom|Number=Sing</td>\n",
       "      <td>True</td>\n",
       "      <td>False</td>\n",
       "      <td>NOUN Case=Nom|Number=Sing</td>\n",
       "    </tr>\n",
       "    <tr>\n",
       "      <th>3</th>\n",
       "      <td>kakka</td>\n",
       "      <td>110</td>\n",
       "      <td>2820</td>\n",
       "      <td>2786</td>\n",
       "      <td>NOUN</td>\n",
       "      <td>Case=Nom|Number=Sing</td>\n",
       "      <td>True</td>\n",
       "      <td>False</td>\n",
       "      <td>NOUN Case=Nom|Number=Sing</td>\n",
       "    </tr>\n",
       "    <tr>\n",
       "      <th>4</th>\n",
       "      <td>qwerty</td>\n",
       "      <td>109</td>\n",
       "      <td>774</td>\n",
       "      <td>283</td>\n",
       "      <td>NOUN</td>\n",
       "      <td>Case=Nom|Number=Sing</td>\n",
       "      <td>False</td>\n",
       "      <td>False</td>\n",
       "      <td>NOUN Case=Nom|Number=Sing</td>\n",
       "    </tr>\n",
       "  </tbody>\n",
       "</table>\n",
       "</div>"
      ],
      "text/plain": [
       "       word  freq in pws  freq in web  individual freq   POS  \\\n",
       "0  salasana          224        16553            16173  NOUN   \n",
       "1   perkele          167        13111             4304  NOUN   \n",
       "2     paska          121        21359            20343  NOUN   \n",
       "3     kakka          110         2820             2786  NOUN   \n",
       "4    qwerty          109          774              283  NOUN   \n",
       "\n",
       "               analysis  Finnish word  Finnish name                      label  \n",
       "0  Case=Nom|Number=Sing          True         False  NOUN Case=Nom|Number=Sing  \n",
       "1  Case=Nom|Number=Sing          True         False  NOUN Case=Nom|Number=Sing  \n",
       "2  Case=Nom|Number=Sing          True         False  NOUN Case=Nom|Number=Sing  \n",
       "3  Case=Nom|Number=Sing          True         False  NOUN Case=Nom|Number=Sing  \n",
       "4  Case=Nom|Number=Sing         False         False  NOUN Case=Nom|Number=Sing  "
      ]
     },
     "execution_count": 18,
     "metadata": {},
     "output_type": "execute_result"
    }
   ],
   "source": [
    "df.head()"
   ]
  },
  {
   "cell_type": "code",
   "execution_count": 19,
   "metadata": {
    "collapsed": true
   },
   "outputs": [],
   "source": [
    "mycols = ['label','freq in pws','freq in web']\n",
    "df2 = df[mycols]"
   ]
  },
  {
   "cell_type": "code",
   "execution_count": 20,
   "metadata": {},
   "outputs": [
    {
     "data": {
      "text/html": [
       "<div>\n",
       "<style scoped>\n",
       "    .dataframe tbody tr th:only-of-type {\n",
       "        vertical-align: middle;\n",
       "    }\n",
       "\n",
       "    .dataframe tbody tr th {\n",
       "        vertical-align: top;\n",
       "    }\n",
       "\n",
       "    .dataframe thead th {\n",
       "        text-align: right;\n",
       "    }\n",
       "</style>\n",
       "<table border=\"1\" class=\"dataframe\">\n",
       "  <thead>\n",
       "    <tr style=\"text-align: right;\">\n",
       "      <th></th>\n",
       "      <th>label</th>\n",
       "      <th>freq in pws</th>\n",
       "      <th>freq in web</th>\n",
       "    </tr>\n",
       "  </thead>\n",
       "  <tbody>\n",
       "    <tr>\n",
       "      <th>0</th>\n",
       "      <td>NOUN Case=Nom|Number=Sing</td>\n",
       "      <td>224</td>\n",
       "      <td>16553</td>\n",
       "    </tr>\n",
       "    <tr>\n",
       "      <th>1</th>\n",
       "      <td>NOUN Case=Nom|Number=Sing</td>\n",
       "      <td>167</td>\n",
       "      <td>13111</td>\n",
       "    </tr>\n",
       "    <tr>\n",
       "      <th>2</th>\n",
       "      <td>NOUN Case=Nom|Number=Sing</td>\n",
       "      <td>121</td>\n",
       "      <td>21359</td>\n",
       "    </tr>\n",
       "    <tr>\n",
       "      <th>3</th>\n",
       "      <td>NOUN Case=Nom|Number=Sing</td>\n",
       "      <td>110</td>\n",
       "      <td>2820</td>\n",
       "    </tr>\n",
       "    <tr>\n",
       "      <th>4</th>\n",
       "      <td>NOUN Case=Nom|Number=Sing</td>\n",
       "      <td>109</td>\n",
       "      <td>774</td>\n",
       "    </tr>\n",
       "  </tbody>\n",
       "</table>\n",
       "</div>"
      ],
      "text/plain": [
       "                       label  freq in pws  freq in web\n",
       "0  NOUN Case=Nom|Number=Sing          224        16553\n",
       "1  NOUN Case=Nom|Number=Sing          167        13111\n",
       "2  NOUN Case=Nom|Number=Sing          121        21359\n",
       "3  NOUN Case=Nom|Number=Sing          110         2820\n",
       "4  NOUN Case=Nom|Number=Sing          109          774"
      ]
     },
     "execution_count": 20,
     "metadata": {},
     "output_type": "execute_result"
    }
   ],
   "source": [
    "df2.head()"
   ]
  },
  {
   "cell_type": "code",
   "execution_count": 21,
   "metadata": {
    "collapsed": true
   },
   "outputs": [],
   "source": [
    "percentpws = (df2['freq in pws']/df2['freq in pws'].sum())*100\n",
    "df2.insert(2, 'percent in pws', percentpws)"
   ]
  },
  {
   "cell_type": "code",
   "execution_count": 22,
   "metadata": {},
   "outputs": [
    {
     "data": {
      "text/html": [
       "<div>\n",
       "<style scoped>\n",
       "    .dataframe tbody tr th:only-of-type {\n",
       "        vertical-align: middle;\n",
       "    }\n",
       "\n",
       "    .dataframe tbody tr th {\n",
       "        vertical-align: top;\n",
       "    }\n",
       "\n",
       "    .dataframe thead th {\n",
       "        text-align: right;\n",
       "    }\n",
       "</style>\n",
       "<table border=\"1\" class=\"dataframe\">\n",
       "  <thead>\n",
       "    <tr style=\"text-align: right;\">\n",
       "      <th></th>\n",
       "      <th>label</th>\n",
       "      <th>freq in pws</th>\n",
       "      <th>percent in pws</th>\n",
       "      <th>freq in web</th>\n",
       "    </tr>\n",
       "  </thead>\n",
       "  <tbody>\n",
       "    <tr>\n",
       "      <th>0</th>\n",
       "      <td>NOUN Case=Nom|Number=Sing</td>\n",
       "      <td>224</td>\n",
       "      <td>0.594843</td>\n",
       "      <td>16553</td>\n",
       "    </tr>\n",
       "    <tr>\n",
       "      <th>1</th>\n",
       "      <td>NOUN Case=Nom|Number=Sing</td>\n",
       "      <td>167</td>\n",
       "      <td>0.443477</td>\n",
       "      <td>13111</td>\n",
       "    </tr>\n",
       "    <tr>\n",
       "      <th>2</th>\n",
       "      <td>NOUN Case=Nom|Number=Sing</td>\n",
       "      <td>121</td>\n",
       "      <td>0.321321</td>\n",
       "      <td>21359</td>\n",
       "    </tr>\n",
       "  </tbody>\n",
       "</table>\n",
       "</div>"
      ],
      "text/plain": [
       "                       label  freq in pws  percent in pws  freq in web\n",
       "0  NOUN Case=Nom|Number=Sing          224        0.594843        16553\n",
       "1  NOUN Case=Nom|Number=Sing          167        0.443477        13111\n",
       "2  NOUN Case=Nom|Number=Sing          121        0.321321        21359"
      ]
     },
     "execution_count": 22,
     "metadata": {},
     "output_type": "execute_result"
    }
   ],
   "source": [
    "df2.head(3)"
   ]
  },
  {
   "cell_type": "code",
   "execution_count": 23,
   "metadata": {
    "collapsed": true
   },
   "outputs": [],
   "source": [
    "percentweb = df2['freq in pws']/df2['freq in web'].sum()*100\n",
    "df2.insert(4, 'percent in web', percentweb)"
   ]
  },
  {
   "cell_type": "code",
   "execution_count": 24,
   "metadata": {},
   "outputs": [
    {
     "data": {
      "text/plain": [
       "(0.022552141068783796, 100.0)"
      ]
     },
     "execution_count": 24,
     "metadata": {},
     "output_type": "execute_result"
    }
   ],
   "source": [
    "df2['percent in web'].sum(), df2['percent in pws'].sum()"
   ]
  },
  {
   "cell_type": "code",
   "execution_count": 25,
   "metadata": {
    "collapsed": true
   },
   "outputs": [],
   "source": [
    "# can't get this working here, for some reason, takes place later\n",
    "#df2['percent in web'] = df2['percent in web'].map(lambda x: '{0:.3}'.format(x))\n",
    "# df2['percent in pws'] = df2['percent in pws'].map(lambda x: '{0:.2}'.format(x))"
   ]
  },
  {
   "cell_type": "code",
   "execution_count": 26,
   "metadata": {},
   "outputs": [
    {
     "data": {
      "text/html": [
       "<div>\n",
       "<style scoped>\n",
       "    .dataframe tbody tr th:only-of-type {\n",
       "        vertical-align: middle;\n",
       "    }\n",
       "\n",
       "    .dataframe tbody tr th {\n",
       "        vertical-align: top;\n",
       "    }\n",
       "\n",
       "    .dataframe thead th {\n",
       "        text-align: right;\n",
       "    }\n",
       "</style>\n",
       "<table border=\"1\" class=\"dataframe\">\n",
       "  <thead>\n",
       "    <tr style=\"text-align: right;\">\n",
       "      <th></th>\n",
       "      <th>label</th>\n",
       "      <th>freq in pws</th>\n",
       "      <th>percent in pws</th>\n",
       "      <th>freq in web</th>\n",
       "      <th>percent in web</th>\n",
       "    </tr>\n",
       "  </thead>\n",
       "  <tbody>\n",
       "    <tr>\n",
       "      <th>0</th>\n",
       "      <td>NOUN Case=Nom|Number=Sing</td>\n",
       "      <td>224</td>\n",
       "      <td>0.594843</td>\n",
       "      <td>16553</td>\n",
       "      <td>0.000134</td>\n",
       "    </tr>\n",
       "    <tr>\n",
       "      <th>1</th>\n",
       "      <td>NOUN Case=Nom|Number=Sing</td>\n",
       "      <td>167</td>\n",
       "      <td>0.443477</td>\n",
       "      <td>13111</td>\n",
       "      <td>0.000100</td>\n",
       "    </tr>\n",
       "    <tr>\n",
       "      <th>2</th>\n",
       "      <td>NOUN Case=Nom|Number=Sing</td>\n",
       "      <td>121</td>\n",
       "      <td>0.321321</td>\n",
       "      <td>21359</td>\n",
       "      <td>0.000072</td>\n",
       "    </tr>\n",
       "    <tr>\n",
       "      <th>3</th>\n",
       "      <td>NOUN Case=Nom|Number=Sing</td>\n",
       "      <td>110</td>\n",
       "      <td>0.292110</td>\n",
       "      <td>2820</td>\n",
       "      <td>0.000066</td>\n",
       "    </tr>\n",
       "    <tr>\n",
       "      <th>4</th>\n",
       "      <td>NOUN Case=Nom|Number=Sing</td>\n",
       "      <td>109</td>\n",
       "      <td>0.289455</td>\n",
       "      <td>774</td>\n",
       "      <td>0.000065</td>\n",
       "    </tr>\n",
       "  </tbody>\n",
       "</table>\n",
       "</div>"
      ],
      "text/plain": [
       "                       label  freq in pws  percent in pws  freq in web  \\\n",
       "0  NOUN Case=Nom|Number=Sing          224        0.594843        16553   \n",
       "1  NOUN Case=Nom|Number=Sing          167        0.443477        13111   \n",
       "2  NOUN Case=Nom|Number=Sing          121        0.321321        21359   \n",
       "3  NOUN Case=Nom|Number=Sing          110        0.292110         2820   \n",
       "4  NOUN Case=Nom|Number=Sing          109        0.289455          774   \n",
       "\n",
       "   percent in web  \n",
       "0        0.000134  \n",
       "1        0.000100  \n",
       "2        0.000072  \n",
       "3        0.000066  \n",
       "4        0.000065  "
      ]
     },
     "execution_count": 26,
     "metadata": {},
     "output_type": "execute_result"
    }
   ],
   "source": [
    "df2.head()"
   ]
  },
  {
   "cell_type": "code",
   "execution_count": 27,
   "metadata": {
    "collapsed": true
   },
   "outputs": [],
   "source": [
    "# sort the data\n",
    "# dfa by word frequency in passwords\n",
    "# dfw by word frequency in web\n",
    "dfa = df2.groupby(['label']).sum().sort_values(['freq in pws'],ascending=False)\n",
    "dfw = df2.groupby(['label']).sum().sort_values(['freq in web'],ascending=False)"
   ]
  },
  {
   "cell_type": "markdown",
   "metadata": {},
   "source": [
    "### By word frequency in pw data"
   ]
  },
  {
   "cell_type": "code",
   "execution_count": 28,
   "metadata": {},
   "outputs": [
    {
     "data": {
      "text/html": [
       "<div>\n",
       "<style scoped>\n",
       "    .dataframe tbody tr th:only-of-type {\n",
       "        vertical-align: middle;\n",
       "    }\n",
       "\n",
       "    .dataframe tbody tr th {\n",
       "        vertical-align: top;\n",
       "    }\n",
       "\n",
       "    .dataframe thead th {\n",
       "        text-align: right;\n",
       "    }\n",
       "</style>\n",
       "<table border=\"1\" class=\"dataframe\">\n",
       "  <thead>\n",
       "    <tr style=\"text-align: right;\">\n",
       "      <th></th>\n",
       "      <th>freq in pws</th>\n",
       "      <th>percent in pws</th>\n",
       "      <th>freq in web</th>\n",
       "      <th>percent in web</th>\n",
       "    </tr>\n",
       "    <tr>\n",
       "      <th>label</th>\n",
       "      <th></th>\n",
       "      <th></th>\n",
       "      <th></th>\n",
       "      <th></th>\n",
       "    </tr>\n",
       "  </thead>\n",
       "  <tbody>\n",
       "    <tr>\n",
       "      <th>PROPN Case=Nom|Number=Sing</th>\n",
       "      <td>18063</td>\n",
       "      <td>47.967177</td>\n",
       "      <td>18343344</td>\n",
       "      <td>0.010818</td>\n",
       "    </tr>\n",
       "    <tr>\n",
       "      <th>NOUN Case=Nom|Number=Sing</th>\n",
       "      <td>11544</td>\n",
       "      <td>30.655655</td>\n",
       "      <td>27855260</td>\n",
       "      <td>0.006914</td>\n",
       "    </tr>\n",
       "    <tr>\n",
       "      <th>PROPN _</th>\n",
       "      <td>2455</td>\n",
       "      <td>6.519372</td>\n",
       "      <td>4517828</td>\n",
       "      <td>0.001470</td>\n",
       "    </tr>\n",
       "    <tr>\n",
       "      <th>PROPN Case=Gen|Number=Sing</th>\n",
       "      <td>848</td>\n",
       "      <td>2.251905</td>\n",
       "      <td>3003067</td>\n",
       "      <td>0.000508</td>\n",
       "    </tr>\n",
       "    <tr>\n",
       "      <th>ADJ Case=Nom|Degree=Pos|Number=Sing</th>\n",
       "      <td>564</td>\n",
       "      <td>1.497730</td>\n",
       "      <td>7662995</td>\n",
       "      <td>0.000338</td>\n",
       "    </tr>\n",
       "  </tbody>\n",
       "</table>\n",
       "</div>"
      ],
      "text/plain": [
       "                                     freq in pws  percent in pws  freq in web  \\\n",
       "label                                                                           \n",
       "PROPN Case=Nom|Number=Sing                 18063       47.967177     18343344   \n",
       "NOUN Case=Nom|Number=Sing                  11544       30.655655     27855260   \n",
       "PROPN _                                     2455        6.519372      4517828   \n",
       "PROPN Case=Gen|Number=Sing                   848        2.251905      3003067   \n",
       "ADJ Case=Nom|Degree=Pos|Number=Sing          564        1.497730      7662995   \n",
       "\n",
       "                                     percent in web  \n",
       "label                                                \n",
       "PROPN Case=Nom|Number=Sing                 0.010818  \n",
       "NOUN Case=Nom|Number=Sing                  0.006914  \n",
       "PROPN _                                    0.001470  \n",
       "PROPN Case=Gen|Number=Sing                 0.000508  \n",
       "ADJ Case=Nom|Degree=Pos|Number=Sing        0.000338  "
      ]
     },
     "execution_count": 28,
     "metadata": {},
     "output_type": "execute_result"
    }
   ],
   "source": [
    "dfa.head()"
   ]
  },
  {
   "cell_type": "code",
   "execution_count": 29,
   "metadata": {
    "collapsed": true
   },
   "outputs": [],
   "source": [
    "# format the output into a cleaner precision\n",
    "dfa['percent in web'] = dfa['percent in web'].map(lambda x: '{0:.3}'.format(x))\n",
    "dfa['percent in pws'] = dfa['percent in pws'].map(lambda x: '{0:.3}'.format(x))"
   ]
  },
  {
   "cell_type": "code",
   "execution_count": 30,
   "metadata": {},
   "outputs": [
    {
     "data": {
      "text/html": [
       "<div>\n",
       "<style scoped>\n",
       "    .dataframe tbody tr th:only-of-type {\n",
       "        vertical-align: middle;\n",
       "    }\n",
       "\n",
       "    .dataframe tbody tr th {\n",
       "        vertical-align: top;\n",
       "    }\n",
       "\n",
       "    .dataframe thead th {\n",
       "        text-align: right;\n",
       "    }\n",
       "</style>\n",
       "<table border=\"1\" class=\"dataframe\">\n",
       "  <thead>\n",
       "    <tr style=\"text-align: right;\">\n",
       "      <th></th>\n",
       "      <th>freq in pws</th>\n",
       "      <th>percent in pws</th>\n",
       "      <th>freq in web</th>\n",
       "      <th>percent in web</th>\n",
       "    </tr>\n",
       "    <tr>\n",
       "      <th>label</th>\n",
       "      <th></th>\n",
       "      <th></th>\n",
       "      <th></th>\n",
       "      <th></th>\n",
       "    </tr>\n",
       "  </thead>\n",
       "  <tbody>\n",
       "    <tr>\n",
       "      <th>PROPN Case=Nom|Number=Sing</th>\n",
       "      <td>18063</td>\n",
       "      <td>48.0</td>\n",
       "      <td>18343344</td>\n",
       "      <td>0.0108</td>\n",
       "    </tr>\n",
       "    <tr>\n",
       "      <th>NOUN Case=Nom|Number=Sing</th>\n",
       "      <td>11544</td>\n",
       "      <td>30.7</td>\n",
       "      <td>27855260</td>\n",
       "      <td>0.00691</td>\n",
       "    </tr>\n",
       "    <tr>\n",
       "      <th>PROPN _</th>\n",
       "      <td>2455</td>\n",
       "      <td>6.52</td>\n",
       "      <td>4517828</td>\n",
       "      <td>0.00147</td>\n",
       "    </tr>\n",
       "    <tr>\n",
       "      <th>PROPN Case=Gen|Number=Sing</th>\n",
       "      <td>848</td>\n",
       "      <td>2.25</td>\n",
       "      <td>3003067</td>\n",
       "      <td>0.000508</td>\n",
       "    </tr>\n",
       "    <tr>\n",
       "      <th>ADJ Case=Nom|Degree=Pos|Number=Sing</th>\n",
       "      <td>564</td>\n",
       "      <td>1.5</td>\n",
       "      <td>7662995</td>\n",
       "      <td>0.000338</td>\n",
       "    </tr>\n",
       "  </tbody>\n",
       "</table>\n",
       "</div>"
      ],
      "text/plain": [
       "                                     freq in pws percent in pws  freq in web  \\\n",
       "label                                                                          \n",
       "PROPN Case=Nom|Number=Sing                 18063           48.0     18343344   \n",
       "NOUN Case=Nom|Number=Sing                  11544           30.7     27855260   \n",
       "PROPN _                                     2455           6.52      4517828   \n",
       "PROPN Case=Gen|Number=Sing                   848           2.25      3003067   \n",
       "ADJ Case=Nom|Degree=Pos|Number=Sing          564            1.5      7662995   \n",
       "\n",
       "                                    percent in web  \n",
       "label                                               \n",
       "PROPN Case=Nom|Number=Sing                  0.0108  \n",
       "NOUN Case=Nom|Number=Sing                  0.00691  \n",
       "PROPN _                                    0.00147  \n",
       "PROPN Case=Gen|Number=Sing                0.000508  \n",
       "ADJ Case=Nom|Degree=Pos|Number=Sing       0.000338  "
      ]
     },
     "execution_count": 30,
     "metadata": {},
     "output_type": "execute_result"
    }
   ],
   "source": [
    "dfa.head()"
   ]
  },
  {
   "cell_type": "code",
   "execution_count": 31,
   "metadata": {},
   "outputs": [
    {
     "data": {
      "text/plain": [
       "array([13, 10])"
      ]
     },
     "execution_count": 31,
     "metadata": {},
     "output_type": "execute_result"
    }
   ],
   "source": [
    "np.array([13, 10])"
   ]
  },
  {
   "cell_type": "code",
   "execution_count": 32,
   "metadata": {},
   "outputs": [
    {
     "data": {
      "image/png": "[encoded data removed]",
      "text/plain": [
       "<matplotlib.figure.Figure at 0xe2760b8>"
      ]
     },
     "metadata": {},
     "output_type": "display_data"
    },
    {
     "data": {
      "image/png": "[encoded data removed]",
      "text/plain": [
       "<matplotlib.figure.Figure at 0xeb4c940>"
      ]
     },
     "metadata": {},
     "output_type": "display_data"
    }
   ],
   "source": [
    "# dff = dfa.copy()\n",
    "# dff.reset_index(level=0, inplace=True)\n",
    "# dft = dff[['label','percent in pws','percent in web']].head()\n",
    "fign = 'posmorphtable_blue'\n",
    "pngfile = fign + '_' + addin + '.png'\n",
    "epsfile = fign + '_' + addin + '.eps'\n",
    "\n",
    "dft=dfa[['percent in pws','percent in web']].head()\n",
    "rows = [i for i in dft.index]\n",
    "\n",
    "ax = plt.subplot(111, frame_on=False) # no visible frame\n",
    "ax.xaxis.set_visible(False)  # hide the x axis\n",
    "ax.yaxis.set_visible(False)  # hide the y axis\n",
    "\n",
    "render_mpl_table(dft, header_columns=0, col_width=2.5, rows = rows)\n",
    "\n",
    "\n",
    "#plt.tight_layout()\n",
    "#plt.savefig('posmorphtable_blue.png')\n",
    "plt.savefig(pngfile, bbox_inches='tight')\n",
    "#plt.savefig('posmorphtable_blue.png', format='png', dpi=300, bbox_inches='tight')\n",
    "plt.savefig(epsfile, format='eps', dpi=300, bbox_inches='tight');"
   ]
  },
  {
   "cell_type": "code",
   "execution_count": 33,
   "metadata": {},
   "outputs": [
    {
     "data": {
      "image/png": "[encoded data removed]",
      "text/plain": [
       "<matplotlib.figure.Figure at 0xec27550>"
      ]
     },
     "metadata": {},
     "output_type": "display_data"
    },
    {
     "data": {
      "image/png": "[encoded data removed]",
      "text/plain": [
       "<matplotlib.figure.Figure at 0xeb4c978>"
      ]
     },
     "metadata": {},
     "output_type": "display_data"
    }
   ],
   "source": [
    "# dff = dfa.copy()\n",
    "# dff.reset_index(level=0, inplace=True)\n",
    "# dft = dff[['label','percent in pws','percent in web']].head()\n",
    "fign = 'posmorphtable_grey'\n",
    "pngfile = fign + '_' + addin + '.png'\n",
    "epsfile = fign + '_' + addin + '.eps'\n",
    "\n",
    "dft=dfa[['percent in pws','percent in web']].head()\n",
    "rows = [i for i in dft.index]\n",
    "\n",
    "ax = plt.subplot(111, frame_on=False) # no visible frame\n",
    "ax.xaxis.set_visible(False)  # hide the x axis\n",
    "ax.yaxis.set_visible(False)  # hide the y axis\n",
    "\n",
    "render_mpl_table(dft, header_columns=0, col_width=2.5, rows = rows, header_color='grey',  edge_color='w')\n",
    "\n",
    "#plt.tight_layout()\n",
    "#plt.savefig('posmorphtable_grey.png')\n",
    "plt.savefig(pngfile, format='png', dpi=300, bbox_inches='tight')\n",
    "plt.savefig(epsfile, format='eps', dpi=300, bbox_inches='tight');"
   ]
  },
  {
   "cell_type": "markdown",
   "metadata": {},
   "source": [
    "### Top 5 word examples from the top 5 pos+morph categories"
   ]
  },
  {
   "cell_type": "code",
   "execution_count": 34,
   "metadata": {},
   "outputs": [
    {
     "data": {
      "text/html": [
       "<div>\n",
       "<style scoped>\n",
       "    .dataframe tbody tr th:only-of-type {\n",
       "        vertical-align: middle;\n",
       "    }\n",
       "\n",
       "    .dataframe tbody tr th {\n",
       "        vertical-align: top;\n",
       "    }\n",
       "\n",
       "    .dataframe thead th {\n",
       "        text-align: right;\n",
       "    }\n",
       "</style>\n",
       "<table border=\"1\" class=\"dataframe\">\n",
       "  <thead>\n",
       "    <tr style=\"text-align: right;\">\n",
       "      <th></th>\n",
       "      <th>word</th>\n",
       "      <th>freq in pws</th>\n",
       "    </tr>\n",
       "  </thead>\n",
       "  <tbody>\n",
       "    <tr>\n",
       "      <th>0</th>\n",
       "      <td>salasana</td>\n",
       "      <td>224</td>\n",
       "    </tr>\n",
       "    <tr>\n",
       "      <th>1</th>\n",
       "      <td>perkele</td>\n",
       "      <td>167</td>\n",
       "    </tr>\n",
       "    <tr>\n",
       "      <th>2</th>\n",
       "      <td>paska</td>\n",
       "      <td>121</td>\n",
       "    </tr>\n",
       "    <tr>\n",
       "      <th>3</th>\n",
       "      <td>kakka</td>\n",
       "      <td>110</td>\n",
       "    </tr>\n",
       "    <tr>\n",
       "      <th>4</th>\n",
       "      <td>qwerty</td>\n",
       "      <td>109</td>\n",
       "    </tr>\n",
       "  </tbody>\n",
       "</table>\n",
       "</div>"
      ],
      "text/plain": [
       "       word  freq in pws\n",
       "0  salasana          224\n",
       "1   perkele          167\n",
       "2     paska          121\n",
       "3     kakka          110\n",
       "4    qwerty          109"
      ]
     },
     "execution_count": 34,
     "metadata": {},
     "output_type": "execute_result"
    }
   ],
   "source": [
    "df[['word','freq in pws']][df['label']=='NOUN Case=Nom|Number=Sing'].sort_values(['freq in pws'],ascending=False).head()"
   ]
  },
  {
   "cell_type": "code",
   "execution_count": 35,
   "metadata": {},
   "outputs": [
    {
     "data": {
      "text/html": [
       "<div>\n",
       "<style scoped>\n",
       "    .dataframe tbody tr th:only-of-type {\n",
       "        vertical-align: middle;\n",
       "    }\n",
       "\n",
       "    .dataframe tbody tr th {\n",
       "        vertical-align: top;\n",
       "    }\n",
       "\n",
       "    .dataframe thead th {\n",
       "        text-align: right;\n",
       "    }\n",
       "</style>\n",
       "<table border=\"1\" class=\"dataframe\">\n",
       "  <thead>\n",
       "    <tr style=\"text-align: right;\">\n",
       "      <th></th>\n",
       "      <th>word</th>\n",
       "      <th>freq in pws</th>\n",
       "    </tr>\n",
       "  </thead>\n",
       "  <tbody>\n",
       "    <tr>\n",
       "      <th>9</th>\n",
       "      <td>ville</td>\n",
       "      <td>76</td>\n",
       "    </tr>\n",
       "    <tr>\n",
       "      <th>12</th>\n",
       "      <td>antti</td>\n",
       "      <td>73</td>\n",
       "    </tr>\n",
       "    <tr>\n",
       "      <th>14</th>\n",
       "      <td>killer</td>\n",
       "      <td>69</td>\n",
       "    </tr>\n",
       "    <tr>\n",
       "      <th>15</th>\n",
       "      <td>sami</td>\n",
       "      <td>68</td>\n",
       "    </tr>\n",
       "    <tr>\n",
       "      <th>17</th>\n",
       "      <td>mikko</td>\n",
       "      <td>66</td>\n",
       "    </tr>\n",
       "  </tbody>\n",
       "</table>\n",
       "</div>"
      ],
      "text/plain": [
       "      word  freq in pws\n",
       "9    ville           76\n",
       "12   antti           73\n",
       "14  killer           69\n",
       "15    sami           68\n",
       "17   mikko           66"
      ]
     },
     "execution_count": 35,
     "metadata": {},
     "output_type": "execute_result"
    }
   ],
   "source": [
    "df[['word','freq in pws']][df['label']=='PROPN Case=Nom|Number=Sing'].sort_values(['freq in pws'],ascending=False).head()"
   ]
  },
  {
   "cell_type": "code",
   "execution_count": 36,
   "metadata": {},
   "outputs": [
    {
     "data": {
      "text/html": [
       "<div>\n",
       "<style scoped>\n",
       "    .dataframe tbody tr th:only-of-type {\n",
       "        vertical-align: middle;\n",
       "    }\n",
       "\n",
       "    .dataframe tbody tr th {\n",
       "        vertical-align: top;\n",
       "    }\n",
       "\n",
       "    .dataframe thead th {\n",
       "        text-align: right;\n",
       "    }\n",
       "</style>\n",
       "<table border=\"1\" class=\"dataframe\">\n",
       "  <thead>\n",
       "    <tr style=\"text-align: right;\">\n",
       "      <th></th>\n",
       "      <th>word</th>\n",
       "      <th>freq in pws</th>\n",
       "    </tr>\n",
       "  </thead>\n",
       "  <tbody>\n",
       "    <tr>\n",
       "      <th>18</th>\n",
       "      <td>love</td>\n",
       "      <td>65</td>\n",
       "    </tr>\n",
       "    <tr>\n",
       "      <th>24</th>\n",
       "      <td>master</td>\n",
       "      <td>58</td>\n",
       "    </tr>\n",
       "    <tr>\n",
       "      <th>29</th>\n",
       "      <td>dragon</td>\n",
       "      <td>56</td>\n",
       "    </tr>\n",
       "    <tr>\n",
       "      <th>45</th>\n",
       "      <td>the</td>\n",
       "      <td>48</td>\n",
       "    </tr>\n",
       "    <tr>\n",
       "      <th>70</th>\n",
       "      <td>dark</td>\n",
       "      <td>38</td>\n",
       "    </tr>\n",
       "  </tbody>\n",
       "</table>\n",
       "</div>"
      ],
      "text/plain": [
       "      word  freq in pws\n",
       "18    love           65\n",
       "24  master           58\n",
       "29  dragon           56\n",
       "45     the           48\n",
       "70    dark           38"
      ]
     },
     "execution_count": 36,
     "metadata": {},
     "output_type": "execute_result"
    }
   ],
   "source": [
    "df[['word','freq in pws']][df['label']=='PROPN _'].sort_values(['freq in pws'],ascending=False).head()"
   ]
  },
  {
   "cell_type": "code",
   "execution_count": 37,
   "metadata": {},
   "outputs": [
    {
     "data": {
      "text/html": [
       "<div>\n",
       "<style scoped>\n",
       "    .dataframe tbody tr th:only-of-type {\n",
       "        vertical-align: middle;\n",
       "    }\n",
       "\n",
       "    .dataframe tbody tr th {\n",
       "        vertical-align: top;\n",
       "    }\n",
       "\n",
       "    .dataframe thead th {\n",
       "        text-align: right;\n",
       "    }\n",
       "</style>\n",
       "<table border=\"1\" class=\"dataframe\">\n",
       "  <thead>\n",
       "    <tr style=\"text-align: right;\">\n",
       "      <th></th>\n",
       "      <th>word</th>\n",
       "      <th>freq in pws</th>\n",
       "    </tr>\n",
       "  </thead>\n",
       "  <tbody>\n",
       "    <tr>\n",
       "      <th>10</th>\n",
       "      <td>man</td>\n",
       "      <td>75</td>\n",
       "    </tr>\n",
       "    <tr>\n",
       "      <th>149</th>\n",
       "      <td>pokemon</td>\n",
       "      <td>27</td>\n",
       "    </tr>\n",
       "    <tr>\n",
       "      <th>332</th>\n",
       "      <td>iron</td>\n",
       "      <td>16</td>\n",
       "    </tr>\n",
       "    <tr>\n",
       "      <th>516</th>\n",
       "      <td>batman</td>\n",
       "      <td>12</td>\n",
       "    </tr>\n",
       "    <tr>\n",
       "      <th>745</th>\n",
       "      <td>plan</td>\n",
       "      <td>9</td>\n",
       "    </tr>\n",
       "  </tbody>\n",
       "</table>\n",
       "</div>"
      ],
      "text/plain": [
       "        word  freq in pws\n",
       "10       man           75\n",
       "149  pokemon           27\n",
       "332     iron           16\n",
       "516   batman           12\n",
       "745     plan            9"
      ]
     },
     "execution_count": 37,
     "metadata": {},
     "output_type": "execute_result"
    }
   ],
   "source": [
    "df[['word','freq in pws']][df['label']=='PROPN Case=Gen|Number=Sing'].sort_values(['freq in pws'],ascending=False).head()"
   ]
  },
  {
   "cell_type": "code",
   "execution_count": 38,
   "metadata": {},
   "outputs": [
    {
     "data": {
      "text/html": [
       "<div>\n",
       "<style scoped>\n",
       "    .dataframe tbody tr th:only-of-type {\n",
       "        vertical-align: middle;\n",
       "    }\n",
       "\n",
       "    .dataframe tbody tr th {\n",
       "        vertical-align: top;\n",
       "    }\n",
       "\n",
       "    .dataframe thead th {\n",
       "        text-align: right;\n",
       "    }\n",
       "</style>\n",
       "<table border=\"1\" class=\"dataframe\">\n",
       "  <thead>\n",
       "    <tr style=\"text-align: right;\">\n",
       "      <th></th>\n",
       "      <th>word</th>\n",
       "      <th>freq in pws</th>\n",
       "    </tr>\n",
       "  </thead>\n",
       "  <tbody>\n",
       "    <tr>\n",
       "      <th>1092</th>\n",
       "      <td>bean</td>\n",
       "      <td>7</td>\n",
       "    </tr>\n",
       "    <tr>\n",
       "      <th>2913</th>\n",
       "      <td>lapin</td>\n",
       "      <td>3</td>\n",
       "    </tr>\n",
       "    <tr>\n",
       "      <th>8577</th>\n",
       "      <td>moran</td>\n",
       "      <td>1</td>\n",
       "    </tr>\n",
       "    <tr>\n",
       "      <th>8026</th>\n",
       "      <td>haukion</td>\n",
       "      <td>1</td>\n",
       "    </tr>\n",
       "    <tr>\n",
       "      <th>7174</th>\n",
       "      <td>eestin</td>\n",
       "      <td>1</td>\n",
       "    </tr>\n",
       "    <tr>\n",
       "      <th>8030</th>\n",
       "      <td>niksun</td>\n",
       "      <td>1</td>\n",
       "    </tr>\n",
       "    <tr>\n",
       "      <th>7171</th>\n",
       "      <td>pasin</td>\n",
       "      <td>1</td>\n",
       "    </tr>\n",
       "    <tr>\n",
       "      <th>8440</th>\n",
       "      <td>gillian</td>\n",
       "      <td>1</td>\n",
       "    </tr>\n",
       "    <tr>\n",
       "      <th>6103</th>\n",
       "      <td>adan</td>\n",
       "      <td>1</td>\n",
       "    </tr>\n",
       "    <tr>\n",
       "      <th>11327</th>\n",
       "      <td>kathryn</td>\n",
       "      <td>1</td>\n",
       "    </tr>\n",
       "  </tbody>\n",
       "</table>\n",
       "</div>"
      ],
      "text/plain": [
       "          word  freq in pws\n",
       "1092      bean            7\n",
       "2913     lapin            3\n",
       "8577     moran            1\n",
       "8026   haukion            1\n",
       "7174    eestin            1\n",
       "8030    niksun            1\n",
       "7171     pasin            1\n",
       "8440   gillian            1\n",
       "6103      adan            1\n",
       "11327  kathryn            1"
      ]
     },
     "execution_count": 38,
     "metadata": {},
     "output_type": "execute_result"
    }
   ],
   "source": [
    "# For batman categorie, check a random sample of 10\n",
    "df[['word','freq in pws']][df['label']=='PROPN Case=Gen|Number=Sing'].sample(10)"
   ]
  },
  {
   "cell_type": "code",
   "execution_count": 39,
   "metadata": {},
   "outputs": [
    {
     "data": {
      "text/html": [
       "<div>\n",
       "<style scoped>\n",
       "    .dataframe tbody tr th:only-of-type {\n",
       "        vertical-align: middle;\n",
       "    }\n",
       "\n",
       "    .dataframe tbody tr th {\n",
       "        vertical-align: top;\n",
       "    }\n",
       "\n",
       "    .dataframe thead th {\n",
       "        text-align: right;\n",
       "    }\n",
       "</style>\n",
       "<table border=\"1\" class=\"dataframe\">\n",
       "  <thead>\n",
       "    <tr style=\"text-align: right;\">\n",
       "      <th></th>\n",
       "      <th>word</th>\n",
       "      <th>freq in pws</th>\n",
       "    </tr>\n",
       "  </thead>\n",
       "  <tbody>\n",
       "    <tr>\n",
       "      <th>39</th>\n",
       "      <td>rakas</td>\n",
       "      <td>51</td>\n",
       "    </tr>\n",
       "    <tr>\n",
       "      <th>53</th>\n",
       "      <td>hullu</td>\n",
       "      <td>45</td>\n",
       "    </tr>\n",
       "    <tr>\n",
       "      <th>192</th>\n",
       "      <td>oma</td>\n",
       "      <td>23</td>\n",
       "    </tr>\n",
       "    <tr>\n",
       "      <th>193</th>\n",
       "      <td>salainen</td>\n",
       "      <td>23</td>\n",
       "    </tr>\n",
       "    <tr>\n",
       "      <th>264</th>\n",
       "      <td>musta</td>\n",
       "      <td>19</td>\n",
       "    </tr>\n",
       "  </tbody>\n",
       "</table>\n",
       "</div>"
      ],
      "text/plain": [
       "         word  freq in pws\n",
       "39      rakas           51\n",
       "53      hullu           45\n",
       "192       oma           23\n",
       "193  salainen           23\n",
       "264     musta           19"
      ]
     },
     "execution_count": 39,
     "metadata": {},
     "output_type": "execute_result"
    }
   ],
   "source": [
    "df[['word','freq in pws']][df['label']=='ADJ Case=Nom|Degree=Pos|Number=Sing'].sort_values(['freq in pws'],ascending=False).head()"
   ]
  },
  {
   "cell_type": "markdown",
   "metadata": {},
   "source": [
    "### By word frequency in web data"
   ]
  },
  {
   "cell_type": "code",
   "execution_count": 40,
   "metadata": {},
   "outputs": [
    {
     "data": {
      "text/html": [
       "<div>\n",
       "<style scoped>\n",
       "    .dataframe tbody tr th:only-of-type {\n",
       "        vertical-align: middle;\n",
       "    }\n",
       "\n",
       "    .dataframe tbody tr th {\n",
       "        vertical-align: top;\n",
       "    }\n",
       "\n",
       "    .dataframe thead th {\n",
       "        text-align: right;\n",
       "    }\n",
       "</style>\n",
       "<table border=\"1\" class=\"dataframe\">\n",
       "  <thead>\n",
       "    <tr style=\"text-align: right;\">\n",
       "      <th></th>\n",
       "      <th>freq in pws</th>\n",
       "      <th>percent in pws</th>\n",
       "      <th>freq in web</th>\n",
       "      <th>percent in web</th>\n",
       "    </tr>\n",
       "    <tr>\n",
       "      <th>label</th>\n",
       "      <th></th>\n",
       "      <th></th>\n",
       "      <th></th>\n",
       "      <th></th>\n",
       "    </tr>\n",
       "  </thead>\n",
       "  <tbody>\n",
       "    <tr>\n",
       "      <th>ADV _</th>\n",
       "      <td>290</td>\n",
       "      <td>0.770109</td>\n",
       "      <td>37083012</td>\n",
       "      <td>0.000174</td>\n",
       "    </tr>\n",
       "    <tr>\n",
       "      <th>NOUN Case=Nom|Number=Sing</th>\n",
       "      <td>11544</td>\n",
       "      <td>30.655655</td>\n",
       "      <td>27855260</td>\n",
       "      <td>0.006914</td>\n",
       "    </tr>\n",
       "    <tr>\n",
       "      <th>PROPN Case=Nom|Number=Sing</th>\n",
       "      <td>18063</td>\n",
       "      <td>47.967177</td>\n",
       "      <td>18343344</td>\n",
       "      <td>0.010818</td>\n",
       "    </tr>\n",
       "    <tr>\n",
       "      <th>VERB Mood=Ind|Number=Sing|Person=3|Tense=Past|VerbForm=Fin|Voice=Act</th>\n",
       "      <td>151</td>\n",
       "      <td>0.400988</td>\n",
       "      <td>8783623</td>\n",
       "      <td>0.000090</td>\n",
       "    </tr>\n",
       "    <tr>\n",
       "      <th>ADJ Case=Nom|Degree=Pos|Number=Sing</th>\n",
       "      <td>564</td>\n",
       "      <td>1.497730</td>\n",
       "      <td>7662995</td>\n",
       "      <td>0.000338</td>\n",
       "    </tr>\n",
       "  </tbody>\n",
       "</table>\n",
       "</div>"
      ],
      "text/plain": [
       "                                                    freq in pws  \\\n",
       "label                                                             \n",
       "ADV _                                                       290   \n",
       "NOUN Case=Nom|Number=Sing                                 11544   \n",
       "PROPN Case=Nom|Number=Sing                                18063   \n",
       "VERB Mood=Ind|Number=Sing|Person=3|Tense=Past|V...          151   \n",
       "ADJ Case=Nom|Degree=Pos|Number=Sing                         564   \n",
       "\n",
       "                                                    percent in pws  \\\n",
       "label                                                                \n",
       "ADV _                                                     0.770109   \n",
       "NOUN Case=Nom|Number=Sing                                30.655655   \n",
       "PROPN Case=Nom|Number=Sing                               47.967177   \n",
       "VERB Mood=Ind|Number=Sing|Person=3|Tense=Past|V...        0.400988   \n",
       "ADJ Case=Nom|Degree=Pos|Number=Sing                       1.497730   \n",
       "\n",
       "                                                    freq in web  \\\n",
       "label                                                             \n",
       "ADV _                                                  37083012   \n",
       "NOUN Case=Nom|Number=Sing                              27855260   \n",
       "PROPN Case=Nom|Number=Sing                             18343344   \n",
       "VERB Mood=Ind|Number=Sing|Person=3|Tense=Past|V...      8783623   \n",
       "ADJ Case=Nom|Degree=Pos|Number=Sing                     7662995   \n",
       "\n",
       "                                                    percent in web  \n",
       "label                                                               \n",
       "ADV _                                                     0.000174  \n",
       "NOUN Case=Nom|Number=Sing                                 0.006914  \n",
       "PROPN Case=Nom|Number=Sing                                0.010818  \n",
       "VERB Mood=Ind|Number=Sing|Person=3|Tense=Past|V...        0.000090  \n",
       "ADJ Case=Nom|Degree=Pos|Number=Sing                       0.000338  "
      ]
     },
     "execution_count": 40,
     "metadata": {},
     "output_type": "execute_result"
    }
   ],
   "source": [
    "dfw.head()"
   ]
  },
  {
   "cell_type": "code",
   "execution_count": 41,
   "metadata": {
    "collapsed": true
   },
   "outputs": [],
   "source": [
    "dfw['percent in web'] = dfw['percent in web'].map(lambda x: '{0:.3}'.format(x))\n",
    "dfw['percent in pws'] = dfw['percent in pws'].map(lambda x: '{0:.3}'.format(x))"
   ]
  },
  {
   "cell_type": "code",
   "execution_count": 42,
   "metadata": {},
   "outputs": [
    {
     "data": {
      "text/html": [
       "<div>\n",
       "<style scoped>\n",
       "    .dataframe tbody tr th:only-of-type {\n",
       "        vertical-align: middle;\n",
       "    }\n",
       "\n",
       "    .dataframe tbody tr th {\n",
       "        vertical-align: top;\n",
       "    }\n",
       "\n",
       "    .dataframe thead th {\n",
       "        text-align: right;\n",
       "    }\n",
       "</style>\n",
       "<table border=\"1\" class=\"dataframe\">\n",
       "  <thead>\n",
       "    <tr style=\"text-align: right;\">\n",
       "      <th></th>\n",
       "      <th>freq in pws</th>\n",
       "      <th>percent in pws</th>\n",
       "      <th>freq in web</th>\n",
       "      <th>percent in web</th>\n",
       "    </tr>\n",
       "    <tr>\n",
       "      <th>label</th>\n",
       "      <th></th>\n",
       "      <th></th>\n",
       "      <th></th>\n",
       "      <th></th>\n",
       "    </tr>\n",
       "  </thead>\n",
       "  <tbody>\n",
       "    <tr>\n",
       "      <th>ADV _</th>\n",
       "      <td>290</td>\n",
       "      <td>0.77</td>\n",
       "      <td>37083012</td>\n",
       "      <td>0.000174</td>\n",
       "    </tr>\n",
       "    <tr>\n",
       "      <th>NOUN Case=Nom|Number=Sing</th>\n",
       "      <td>11544</td>\n",
       "      <td>30.7</td>\n",
       "      <td>27855260</td>\n",
       "      <td>0.00691</td>\n",
       "    </tr>\n",
       "    <tr>\n",
       "      <th>PROPN Case=Nom|Number=Sing</th>\n",
       "      <td>18063</td>\n",
       "      <td>48.0</td>\n",
       "      <td>18343344</td>\n",
       "      <td>0.0108</td>\n",
       "    </tr>\n",
       "    <tr>\n",
       "      <th>VERB Mood=Ind|Number=Sing|Person=3|Tense=Past|VerbForm=Fin|Voice=Act</th>\n",
       "      <td>151</td>\n",
       "      <td>0.401</td>\n",
       "      <td>8783623</td>\n",
       "      <td>9.04e-05</td>\n",
       "    </tr>\n",
       "    <tr>\n",
       "      <th>ADJ Case=Nom|Degree=Pos|Number=Sing</th>\n",
       "      <td>564</td>\n",
       "      <td>1.5</td>\n",
       "      <td>7662995</td>\n",
       "      <td>0.000338</td>\n",
       "    </tr>\n",
       "  </tbody>\n",
       "</table>\n",
       "</div>"
      ],
      "text/plain": [
       "                                                    freq in pws  \\\n",
       "label                                                             \n",
       "ADV _                                                       290   \n",
       "NOUN Case=Nom|Number=Sing                                 11544   \n",
       "PROPN Case=Nom|Number=Sing                                18063   \n",
       "VERB Mood=Ind|Number=Sing|Person=3|Tense=Past|V...          151   \n",
       "ADJ Case=Nom|Degree=Pos|Number=Sing                         564   \n",
       "\n",
       "                                                   percent in pws  \\\n",
       "label                                                               \n",
       "ADV _                                                        0.77   \n",
       "NOUN Case=Nom|Number=Sing                                    30.7   \n",
       "PROPN Case=Nom|Number=Sing                                   48.0   \n",
       "VERB Mood=Ind|Number=Sing|Person=3|Tense=Past|V...          0.401   \n",
       "ADJ Case=Nom|Degree=Pos|Number=Sing                           1.5   \n",
       "\n",
       "                                                    freq in web percent in web  \n",
       "label                                                                           \n",
       "ADV _                                                  37083012       0.000174  \n",
       "NOUN Case=Nom|Number=Sing                              27855260        0.00691  \n",
       "PROPN Case=Nom|Number=Sing                             18343344         0.0108  \n",
       "VERB Mood=Ind|Number=Sing|Person=3|Tense=Past|V...      8783623       9.04e-05  \n",
       "ADJ Case=Nom|Degree=Pos|Number=Sing                     7662995       0.000338  "
      ]
     },
     "execution_count": 42,
     "metadata": {},
     "output_type": "execute_result"
    }
   ],
   "source": [
    "dfw.head()"
   ]
  },
  {
   "cell_type": "markdown",
   "metadata": {},
   "source": [
    "## Plots"
   ]
  },
  {
   "cell_type": "code",
   "execution_count": 43,
   "metadata": {},
   "outputs": [
    {
     "data": {
      "image/png": "[encoded data removed]",
      "text/plain": [
       "<matplotlib.figure.Figure at 0xec279e8>"
      ]
     },
     "metadata": {},
     "output_type": "display_data"
    }
   ],
   "source": [
    "sample = 10\n",
    "title = 'Frequencies of top ' + str(sample) + ' morphological forms used in passwords'\n",
    "dfa['freq in pws'][:sample].plot(legend=True, title = title);\n",
    "dfa['freq in web'][:sample].plot(secondary_y=True, legend=True);"
   ]
  },
  {
   "cell_type": "code",
   "execution_count": 44,
   "metadata": {},
   "outputs": [
    {
     "data": {
      "image/png": "[encoded data removed]",
      "text/plain": [
       "<matplotlib.figure.Figure at 0xe408828>"
      ]
     },
     "metadata": {},
     "output_type": "display_data"
    }
   ],
   "source": [
    "dfb = dfa[:5]\n",
    "dfb.plot(y = 'freq in pws',x=dfb.index,legend=True, title = title);"
   ]
  },
  {
   "cell_type": "markdown",
   "metadata": {},
   "source": [
    "### Examples of the most used words"
   ]
  },
  {
   "cell_type": "code",
   "execution_count": 45,
   "metadata": {
    "collapsed": true
   },
   "outputs": [],
   "source": [
    "# Most used words, sort the original dataframe by frequency used in pws\n",
    "dfsort = df.sort_values(['freq in pws'],ascending=False).reset_index(drop=True)"
   ]
  },
  {
   "cell_type": "code",
   "execution_count": 46,
   "metadata": {},
   "outputs": [
    {
     "data": {
      "text/html": [
       "<div>\n",
       "<style scoped>\n",
       "    .dataframe tbody tr th:only-of-type {\n",
       "        vertical-align: middle;\n",
       "    }\n",
       "\n",
       "    .dataframe tbody tr th {\n",
       "        vertical-align: top;\n",
       "    }\n",
       "\n",
       "    .dataframe thead th {\n",
       "        text-align: right;\n",
       "    }\n",
       "</style>\n",
       "<table border=\"1\" class=\"dataframe\">\n",
       "  <thead>\n",
       "    <tr style=\"text-align: right;\">\n",
       "      <th></th>\n",
       "      <th>word</th>\n",
       "      <th>freq in pws</th>\n",
       "      <th>freq in web</th>\n",
       "      <th>individual freq</th>\n",
       "      <th>POS</th>\n",
       "      <th>analysis</th>\n",
       "      <th>Finnish word</th>\n",
       "      <th>Finnish name</th>\n",
       "      <th>label</th>\n",
       "    </tr>\n",
       "  </thead>\n",
       "  <tbody>\n",
       "    <tr>\n",
       "      <th>0</th>\n",
       "      <td>salasana</td>\n",
       "      <td>224</td>\n",
       "      <td>16553</td>\n",
       "      <td>16173</td>\n",
       "      <td>NOUN</td>\n",
       "      <td>Case=Nom|Number=Sing</td>\n",
       "      <td>True</td>\n",
       "      <td>False</td>\n",
       "      <td>NOUN Case=Nom|Number=Sing</td>\n",
       "    </tr>\n",
       "    <tr>\n",
       "      <th>1</th>\n",
       "      <td>perkele</td>\n",
       "      <td>167</td>\n",
       "      <td>13111</td>\n",
       "      <td>4304</td>\n",
       "      <td>NOUN</td>\n",
       "      <td>Case=Nom|Number=Sing</td>\n",
       "      <td>True</td>\n",
       "      <td>False</td>\n",
       "      <td>NOUN Case=Nom|Number=Sing</td>\n",
       "    </tr>\n",
       "    <tr>\n",
       "      <th>2</th>\n",
       "      <td>paska</td>\n",
       "      <td>121</td>\n",
       "      <td>21359</td>\n",
       "      <td>20343</td>\n",
       "      <td>NOUN</td>\n",
       "      <td>Case=Nom|Number=Sing</td>\n",
       "      <td>True</td>\n",
       "      <td>False</td>\n",
       "      <td>NOUN Case=Nom|Number=Sing</td>\n",
       "    </tr>\n",
       "    <tr>\n",
       "      <th>3</th>\n",
       "      <td>kakka</td>\n",
       "      <td>110</td>\n",
       "      <td>2820</td>\n",
       "      <td>2786</td>\n",
       "      <td>NOUN</td>\n",
       "      <td>Case=Nom|Number=Sing</td>\n",
       "      <td>True</td>\n",
       "      <td>False</td>\n",
       "      <td>NOUN Case=Nom|Number=Sing</td>\n",
       "    </tr>\n",
       "    <tr>\n",
       "      <th>4</th>\n",
       "      <td>qwerty</td>\n",
       "      <td>109</td>\n",
       "      <td>774</td>\n",
       "      <td>283</td>\n",
       "      <td>NOUN</td>\n",
       "      <td>Case=Nom|Number=Sing</td>\n",
       "      <td>False</td>\n",
       "      <td>False</td>\n",
       "      <td>NOUN Case=Nom|Number=Sing</td>\n",
       "    </tr>\n",
       "  </tbody>\n",
       "</table>\n",
       "</div>"
      ],
      "text/plain": [
       "       word  freq in pws  freq in web  individual freq   POS  \\\n",
       "0  salasana          224        16553            16173  NOUN   \n",
       "1   perkele          167        13111             4304  NOUN   \n",
       "2     paska          121        21359            20343  NOUN   \n",
       "3     kakka          110         2820             2786  NOUN   \n",
       "4    qwerty          109          774              283  NOUN   \n",
       "\n",
       "               analysis  Finnish word  Finnish name                      label  \n",
       "0  Case=Nom|Number=Sing          True         False  NOUN Case=Nom|Number=Sing  \n",
       "1  Case=Nom|Number=Sing          True         False  NOUN Case=Nom|Number=Sing  \n",
       "2  Case=Nom|Number=Sing          True         False  NOUN Case=Nom|Number=Sing  \n",
       "3  Case=Nom|Number=Sing          True         False  NOUN Case=Nom|Number=Sing  \n",
       "4  Case=Nom|Number=Sing         False         False  NOUN Case=Nom|Number=Sing  "
      ]
     },
     "execution_count": 46,
     "metadata": {},
     "output_type": "execute_result"
    }
   ],
   "source": [
    "dfsort.head()"
   ]
  },
  {
   "cell_type": "code",
   "execution_count": 47,
   "metadata": {},
   "outputs": [
    {
     "data": {
      "text/plain": [
       "array([u'salasana', u'perkele', u'paska', u'kakka', u'qwerty', u'koira',\n",
       "       u'kissa', u'enkeli', u'nalle', u'ville'], dtype=object)"
      ]
     },
     "execution_count": 47,
     "metadata": {},
     "output_type": "execute_result"
    }
   ],
   "source": [
    "dfsort['word'][:sample].values"
   ]
  },
  {
   "cell_type": "code",
   "execution_count": 48,
   "metadata": {},
   "outputs": [
    {
     "data": {
      "image/png": "[encoded data removed]",
      "text/plain": [
       "<matplotlib.figure.Figure at 0xdd872b0>"
      ]
     },
     "metadata": {},
     "output_type": "display_data"
    }
   ],
   "source": [
    "#https://stackoverflow.com/questions/11640243/pandas-plot-multiple-y-axes\n",
    "\n",
    "sample = 5\n",
    "title = 'Frequencies of top ' + str(sample) + ' words used in passwords'\n",
    "x = [str(i) for i in dfsort['word'][:sample]]\n",
    "dfsort['freq in pws'][:sample].plot(legend=True, title = title, x=x);\n",
    "dfsort['freq in web'][:sample].plot(secondary_y=True, legend=True, sharex = True);\n"
   ]
  },
  {
   "cell_type": "code",
   "execution_count": 49,
   "metadata": {},
   "outputs": [
    {
     "data": {
      "text/plain": [
       "['salasana', 'perkele', 'paska', 'kakka', 'qwerty']"
      ]
     },
     "execution_count": 49,
     "metadata": {},
     "output_type": "execute_result"
    }
   ],
   "source": [
    "x"
   ]
  },
  {
   "cell_type": "code",
   "execution_count": 50,
   "metadata": {},
   "outputs": [
    {
     "name": "stdout",
     "output_type": "stream",
     "text": [
      "15 15\n"
     ]
    },
    {
     "data": {
      "image/png": "[encoded data removed]",
      "text/plain": [
       "<matplotlib.figure.Figure at 0xf1606a0>"
      ]
     },
     "metadata": {},
     "output_type": "display_data"
    }
   ],
   "source": [
    "#https://matplotlib.org/gallery/api/two_scales.html\n",
    "\n",
    "fign = 'wordfreq15'\n",
    "pngfile = fign + '_' + addin + '.png'\n",
    "epsfile = fign + '_' + addin + '.eps'\n",
    "\n",
    "sample = 15\n",
    "\n",
    "fig, ax1 = plt.subplots(figsize=(10,4))\n",
    "x = [i for i in dfsort[:sample].index]\n",
    "x_ticks_labels = [str(i) for i in dfsort['word'][:sample]]\n",
    "y1 = dfsort['freq in pws'][:sample]\n",
    "print len(x), len(y1)\n",
    "ax1.plot(x, y1, 'b-')\n",
    "#ax1.set_xlabel('words')\n",
    "# Make the y-axis label, ticks and tick labels match the line color.\n",
    "ax1.set_ylabel('freq in pws', color='b')\n",
    "ax1.tick_params('y', colors='b')\n",
    "# Set number of ticks for x-axis\n",
    "ax1.set_xticks(x)\n",
    "# Set ticks labels for x-axis\n",
    "ax1.set_xticklabels(x_ticks_labels, rotation='vertical', fontsize=18)\n",
    "\n",
    "ax2 = ax1.twinx()\n",
    "y2 = dfsort['freq in web'][:sample]\n",
    "ax2.plot(x, y2, 'g--')\n",
    "ax2.set_ylabel('freq in web', color='g')\n",
    "ax2.tick_params('y', colors='g')\n",
    "\n",
    "fig.tight_layout()\n",
    "#plt.show()\n",
    "plt.savefig(pngfile, format='png', dpi=300)\n",
    "plt.savefig(epsfile, format='eps', dpi=300);"
   ]
  },
  {
   "cell_type": "code",
   "execution_count": 51,
   "metadata": {},
   "outputs": [
    {
     "name": "stdout",
     "output_type": "stream",
     "text": [
      "top_freqs_78k.csv\n"
     ]
    }
   ],
   "source": [
    "# Save smaller sample for combining figures in another notebook\n",
    "sample = 15\n",
    "filename = 'top_freqs' + addin + '.csv'\n",
    "print filename\n",
    "\n",
    "mydf=pd.DataFrame()\n",
    "mydf['word'] = [str(i).decode('utf-8') for i in dfsort['word'][:sample]]\n",
    "mydf['pwfreq'] = [str(i) for i in dfsort['freq in pws'][:sample]]\n",
    "mydf['webfreq'] = [str(i) for i in dfsort['freq in web'][:sample]]\n",
    "mydf.to_csv(filename, sep=',', encoding='utf-8', index=False)"
   ]
  },
  {
   "cell_type": "code",
   "execution_count": 52,
   "metadata": {},
   "outputs": [
    {
     "name": "stdout",
     "output_type": "stream",
     "text": [
      "10 10\n"
     ]
    },
    {
     "data": {
      "image/png": "[encoded data removed]",
      "text/plain": [
       "<matplotlib.figure.Figure at 0xdd87a58>"
      ]
     },
     "metadata": {},
     "output_type": "display_data"
    }
   ],
   "source": [
    "#https://matplotlib.org/gallery/api/two_scales.html\n",
    "\n",
    "fign = 'wordfreq10'\n",
    "pngfile = fign + '_' + addin + '.png'\n",
    "epsfile = fign + '_' + addin + '.eps'\n",
    "\n",
    "sample = 10\n",
    "\n",
    "fig, ax1 = plt.subplots(figsize=(10,4))\n",
    "x = [i for i in dfsort[:sample].index]\n",
    "x_ticks_labels = [str(i) for i in dfsort['word'][:sample]]\n",
    "y1 = dfsort['freq in pws'][:sample]\n",
    "print len(x), len(y1)\n",
    "ax1.plot(x, y1, 'b-')\n",
    "#ax1.set_xlabel('words')\n",
    "# Make the y-axis label, ticks and tick labels match the line color.\n",
    "ax1.set_ylabel('freq in pws', color='b')\n",
    "ax1.tick_params('y', colors='b')\n",
    "# Set number of ticks for x-axis\n",
    "ax1.set_xticks(x)\n",
    "# Set ticks labels for x-axis\n",
    "ax1.set_xticklabels(x_ticks_labels, rotation='vertical', fontsize=18)\n",
    "\n",
    "ax2 = ax1.twinx()\n",
    "y2 = dfsort['freq in web'][:sample]\n",
    "ax2.plot(x, y2, 'g--')\n",
    "ax2.set_ylabel('freq in web', color='g')\n",
    "ax2.tick_params('y', colors='g')\n",
    "\n",
    "fig.tight_layout()\n",
    "#plt.show()\n",
    "plt.savefig(pngfile, format='png', dpi=300)\n",
    "plt.savefig(epsfile, format='eps', dpi=300);"
   ]
  },
  {
   "cell_type": "code",
   "execution_count": 53,
   "metadata": {},
   "outputs": [
    {
     "name": "stdout",
     "output_type": "stream",
     "text": [
      "5 5\n"
     ]
    },
    {
     "data": {
      "image/png": "[encoded data removed]",
      "text/plain": [
       "<matplotlib.figure.Figure at 0x101c0ba8>"
      ]
     },
     "metadata": {},
     "output_type": "display_data"
    }
   ],
   "source": [
    "#https://matplotlib.org/gallery/api/two_scales.html\n",
    "\n",
    "fign = 'wordfreq5'\n",
    "pngfile = fign + '_' + addin + '.png'\n",
    "epsfile = fign + '_' + addin + '.eps'\n",
    "\n",
    "title = 'source: 78k'\n",
    "\n",
    "sample = 5\n",
    "\n",
    "fig, ax1 = plt.subplots(figsize=(5,4))\n",
    "x = [i for i in dfsort[:sample].index]\n",
    "x_ticks_labels = [str(i) for i in dfsort['word'][:sample]]\n",
    "y1 = dfsort['freq in pws'][:sample]\n",
    "print len(x), len(y1)\n",
    "ax1.plot(x, y1, 'b-')\n",
    "#ax1.set_xlabel('words')\n",
    "# Make the y-axis label, ticks and tick labels match the line color.\n",
    "ax1.set_ylabel('freq in pws', color='b')\n",
    "ax1.tick_params('y', colors='b')\n",
    "# Set number of ticks for x-axis\n",
    "ax1.set_xticks(x)\n",
    "# Set ticks labels for x-axis\n",
    "ax1.set_xticklabels(x_ticks_labels, rotation='vertical', fontsize=18)\n",
    "\n",
    "ax2 = ax1.twinx()\n",
    "y2 = dfsort['freq in web'][:sample]\n",
    "ax2.plot(x, y2, 'g--')\n",
    "ax2.set_ylabel('freq in web', color='g')\n",
    "ax2.tick_params('y', colors='g')\n",
    "\n",
    "fig.tight_layout()\n",
    "plt.title(title)\n",
    "#plt.show()\n",
    "plt.savefig(pngfile, format='png', dpi=300)\n",
    "plt.savefig(epsfile, format='eps', dpi=300);"
   ]
  },
  {
   "cell_type": "code",
   "execution_count": 54,
   "metadata": {},
   "outputs": [
    {
     "name": "stdout",
     "output_type": "stream",
     "text": [
      "8 8\n"
     ]
    },
    {
     "data": {
      "image/png": "[encoded data removed]",
      "text/plain": [
       "<matplotlib.figure.Figure at 0x101c0a20>"
      ]
     },
     "metadata": {},
     "output_type": "display_data"
    }
   ],
   "source": [
    "#https://matplotlib.org/gallery/api/two_scales.html\n",
    "\n",
    "sample = 8\n",
    "#title = 'Frequencies of top ' + str(sample) + ' words used in passwords'\n",
    "\n",
    "fig, ax1 = plt.subplots(figsize=(10,4))\n",
    "x = [i for i, val in enumerate(dfa[:sample].index)]\n",
    "x_ticks_labels = [str(i) for i in dfa[:sample].index]\n",
    "y1 = dfa['freq in pws'][:sample]\n",
    "print len(x), len(y1)\n",
    "ax1.plot(x, y1, 'b-')\n",
    "ax1.set_xlabel('')\n",
    "# Make the y-axis label, ticks and tick labels match the line color.\n",
    "ax1.set_ylabel('freq in pws', color='b')\n",
    "ax1.tick_params('y', colors='b')\n",
    "# Set number of ticks for x-axis\n",
    "ax1.set_xticks(x)\n",
    "# Set ticks labels for x-axis\n",
    "ax1.set_xticklabels(x_ticks_labels, rotation='vertical', fontsize=18)\n",
    "\n",
    "ax2 = ax1.twinx()\n",
    "y2 = dfa['freq in web'][:sample]\n",
    "ax2.plot(x, y2, 'g--')\n",
    "ax2.set_ylabel('freq in web', color='g')\n",
    "ax2.tick_params('y', colors='g')\n",
    "\n",
    "#fig.tight_layout()\n",
    "plt.show()"
   ]
  }
 ],
 "metadata": {
  "kernelspec": {
   "display_name": "Python 2",
   "language": "python",
   "name": "python2"
  },
  "language_info": {
   "codemirror_mode": {
    "name": "ipython",
    "version": 2
   },
   "file_extension": ".py",
   "mimetype": "text/x-python",
   "name": "python",
   "nbconvert_exporter": "python",
   "pygments_lexer": "ipython2",
   "version": "2.7.14"
  }
 },
 "nbformat": 4,
 "nbformat_minor": 2
}
