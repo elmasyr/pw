{
 "cells": [
  {
   "cell_type": "code",
   "execution_count": 1,
   "metadata": {},
   "outputs": [
    {
     "name": "stdout",
     "output_type": "stream",
     "text": [
      "<class 'pandas.core.frame.DataFrame'>\n",
      "RangeIndex: 29036 entries, 0 to 29035\n",
      "Data columns (total 8 columns):\n",
      "matched word    29035 non-null object\n",
      "freq in pws     29036 non-null int64\n",
      "freq in web     29036 non-null int64\n",
      "POS freq        29036 non-null int64\n",
      "POS             29036 non-null object\n",
      "analysis        29036 non-null object\n",
      "finnish word    29036 non-null bool\n",
      "finnish name    29036 non-null bool\n",
      "dtypes: bool(2), int64(3), object(3)\n",
      "memory usage: 1.4+ MB\n"
     ]
    }
   ],
   "source": [
    "import pandas as pd\n",
    "import numpy as np\n",
    "import matplotlib.pyplot as plt\n",
    "%matplotlib inline\n",
    "\n",
    "# give the datafile name\n",
    "datafile= 'all_words_pivot.csv'\n",
    "addin = '_all'\n",
    "\n",
    "df = pd.read_csv(datafile, header=0, sep=',', encoding='utf-8')\n",
    "df.info() # could also use df_final.dtypes"
   ]
  },
  {
   "cell_type": "code",
   "execution_count": 2,
   "metadata": {},
   "outputs": [
    {
     "data": {
      "text/html": [
       "<div>\n",
       "<style scoped>\n",
       "    .dataframe tbody tr th:only-of-type {\n",
       "        vertical-align: middle;\n",
       "    }\n",
       "\n",
       "    .dataframe tbody tr th {\n",
       "        vertical-align: top;\n",
       "    }\n",
       "\n",
       "    .dataframe thead th {\n",
       "        text-align: right;\n",
       "    }\n",
       "</style>\n",
       "<table border=\"1\" class=\"dataframe\">\n",
       "  <thead>\n",
       "    <tr style=\"text-align: right;\">\n",
       "      <th></th>\n",
       "      <th>matched word</th>\n",
       "      <th>freq in pws</th>\n",
       "      <th>freq in web</th>\n",
       "      <th>POS freq</th>\n",
       "      <th>POS</th>\n",
       "      <th>analysis</th>\n",
       "      <th>finnish word</th>\n",
       "      <th>finnish name</th>\n",
       "    </tr>\n",
       "  </thead>\n",
       "  <tbody>\n",
       "    <tr>\n",
       "      <th>0</th>\n",
       "      <td>salasana</td>\n",
       "      <td>1313</td>\n",
       "      <td>16553</td>\n",
       "      <td>16173</td>\n",
       "      <td>NOUN</td>\n",
       "      <td>Case=Nom|Number=Sing</td>\n",
       "      <td>True</td>\n",
       "      <td>False</td>\n",
       "    </tr>\n",
       "    <tr>\n",
       "      <th>1</th>\n",
       "      <td>kissa</td>\n",
       "      <td>954</td>\n",
       "      <td>54393</td>\n",
       "      <td>52191</td>\n",
       "      <td>NOUN</td>\n",
       "      <td>Case=Nom|Number=Sing</td>\n",
       "      <td>True</td>\n",
       "      <td>False</td>\n",
       "    </tr>\n",
       "    <tr>\n",
       "      <th>2</th>\n",
       "      <td>koira</td>\n",
       "      <td>835</td>\n",
       "      <td>138611</td>\n",
       "      <td>137680</td>\n",
       "      <td>NOUN</td>\n",
       "      <td>Case=Nom|Number=Sing</td>\n",
       "      <td>True</td>\n",
       "      <td>False</td>\n",
       "    </tr>\n",
       "    <tr>\n",
       "      <th>3</th>\n",
       "      <td>nalle</td>\n",
       "      <td>659</td>\n",
       "      <td>8667</td>\n",
       "      <td>5053</td>\n",
       "      <td>NOUN</td>\n",
       "      <td>Case=Nom|Number=Sing</td>\n",
       "      <td>True</td>\n",
       "      <td>True</td>\n",
       "    </tr>\n",
       "    <tr>\n",
       "      <th>4</th>\n",
       "      <td>johanna</td>\n",
       "      <td>567</td>\n",
       "      <td>39837</td>\n",
       "      <td>39280</td>\n",
       "      <td>PROPN</td>\n",
       "      <td>Case=Nom|Number=Sing</td>\n",
       "      <td>False</td>\n",
       "      <td>True</td>\n",
       "    </tr>\n",
       "  </tbody>\n",
       "</table>\n",
       "</div>"
      ],
      "text/plain": [
       "  matched word  freq in pws  freq in web  POS freq    POS  \\\n",
       "0     salasana         1313        16553     16173   NOUN   \n",
       "1        kissa          954        54393     52191   NOUN   \n",
       "2        koira          835       138611    137680   NOUN   \n",
       "3        nalle          659         8667      5053   NOUN   \n",
       "4      johanna          567        39837     39280  PROPN   \n",
       "\n",
       "               analysis  finnish word  finnish name  \n",
       "0  Case=Nom|Number=Sing          True         False  \n",
       "1  Case=Nom|Number=Sing          True         False  \n",
       "2  Case=Nom|Number=Sing          True         False  \n",
       "3  Case=Nom|Number=Sing          True          True  \n",
       "4  Case=Nom|Number=Sing         False          True  "
      ]
     },
     "execution_count": 2,
     "metadata": {},
     "output_type": "execute_result"
    }
   ],
   "source": [
    "df.head()"
   ]
  },
  {
   "cell_type": "markdown",
   "metadata": {},
   "source": [
    "### Rename columns due to printing"
   ]
  },
  {
   "cell_type": "code",
   "execution_count": 3,
   "metadata": {
    "collapsed": true
   },
   "outputs": [],
   "source": [
    "df = df.rename(columns={'matched word': 'word', 'finnish word': 'Finnish word', 'finnish name': 'Finnish name'})"
   ]
  },
  {
   "cell_type": "markdown",
   "metadata": {},
   "source": [
    "### Function for rendering dataframe table to figure"
   ]
  },
  {
   "cell_type": "code",
   "execution_count": 4,
   "metadata": {
    "collapsed": true
   },
   "outputs": [],
   "source": [
    "#https://stackoverflow.com/questions/19726663/how-to-save-the-pandas-dataframe-series-data-as-a-figure\n",
    "\n",
    "import pandas as pd\n",
    "import numpy as np\n",
    "import matplotlib.pyplot as plt\n",
    "import six\n",
    "\n",
    "\n",
    "def render_mpl_table(data, rows=None, col_width=3.0, row_height=0.625, font_size=14,\n",
    "                     header_color='#40466e', row_colors=['#f1f1f2', 'w'], edge_color='#40466e',\n",
    "                     bbox=[0, 0, 1, 1], header_columns=0,\n",
    "                     ax=None, **kwargs):\n",
    "    if ax is None:\n",
    "        size = (np.array(data.shape[::-1]) + np.array([0, 1])) * np.array([col_width, row_height])#+np.array([8, 0])\n",
    "        fig, ax = plt.subplots(figsize=size)\n",
    "        ax.axis('off')\n",
    "\n",
    "    mpl_table = ax.table(cellText=data.values, bbox=bbox, colLabels=data.columns, rowLabels=rows, **kwargs)\n",
    "\n",
    "    mpl_table.auto_set_font_size(False)\n",
    "    mpl_table.set_fontsize(font_size)\n",
    "\n",
    "    for k, cell in six.iteritems(mpl_table._cells):\n",
    "        cell.set_edgecolor(edge_color)\n",
    "        if k[0] == 0 or k[1] < header_columns:\n",
    "            cell.set_text_props(weight='bold', color='w')\n",
    "            cell.set_facecolor(header_color)\n",
    "        else:\n",
    "            cell.set_facecolor(row_colors[k[0]%len(row_colors) ])\n",
    "    return ax\n"
   ]
  },
  {
   "cell_type": "markdown",
   "metadata": {},
   "source": [
    "### Finnish names and words"
   ]
  },
  {
   "cell_type": "markdown",
   "metadata": {},
   "source": [
    "#### freq in pws"
   ]
  },
  {
   "cell_type": "code",
   "execution_count": 5,
   "metadata": {},
   "outputs": [
    {
     "data": {
      "text/plain": [
       "52.20114033229931"
      ]
     },
     "execution_count": 5,
     "metadata": {},
     "output_type": "execute_result"
    }
   ],
   "source": [
    "'''Finnish name, percentage of all words used in passwords'''\n",
    "(df[df['Finnish name']==True]['freq in pws'].sum()/float(df['freq in pws'].sum()))*100"
   ]
  },
  {
   "cell_type": "code",
   "execution_count": 6,
   "metadata": {},
   "outputs": [
    {
     "data": {
      "text/plain": [
       "33.634109381457499"
      ]
     },
     "execution_count": 6,
     "metadata": {},
     "output_type": "execute_result"
    }
   ],
   "source": [
    "'''Finnish name, percentage of unique words used in passwords'''\n",
    "(df[df['Finnish name']==True]['freq in pws'].count()/float(df['freq in pws'].count()))*100"
   ]
  },
  {
   "cell_type": "code",
   "execution_count": 7,
   "metadata": {},
   "outputs": [
    {
     "data": {
      "text/plain": [
       "45.990772693484821"
      ]
     },
     "execution_count": 7,
     "metadata": {},
     "output_type": "execute_result"
    }
   ],
   "source": [
    "'''Finnish word, percentage of all words used in passwords'''\n",
    "(df[df['Finnish word']==True]['freq in pws'].sum()/float(df['freq in pws'].sum()))*100"
   ]
  },
  {
   "cell_type": "code",
   "execution_count": 8,
   "metadata": {},
   "outputs": [
    {
     "data": {
      "text/plain": [
       "46.376911420305831"
      ]
     },
     "execution_count": 8,
     "metadata": {},
     "output_type": "execute_result"
    }
   ],
   "source": [
    "'''Finnish word, percentage of unique words used in passwords'''\n",
    "(df[df['Finnish word']==True]['freq in pws'].count()/float(df['freq in pws'].count()))*100"
   ]
  },
  {
   "cell_type": "code",
   "execution_count": 9,
   "metadata": {
    "collapsed": true
   },
   "outputs": [],
   "source": [
    "dff = pd.DataFrame()"
   ]
  },
  {
   "cell_type": "markdown",
   "metadata": {},
   "source": [
    "#### freq in web"
   ]
  },
  {
   "cell_type": "code",
   "execution_count": 10,
   "metadata": {},
   "outputs": [
    {
     "data": {
      "text/plain": [
       "17.242450703088011"
      ]
     },
     "execution_count": 10,
     "metadata": {},
     "output_type": "execute_result"
    }
   ],
   "source": [
    "'''Finnish name, percentage of all words used in web'''\n",
    "(df[df['Finnish name']==True]['freq in web'].sum()/float(df['freq in web'].sum()))*100"
   ]
  },
  {
   "cell_type": "code",
   "execution_count": 11,
   "metadata": {},
   "outputs": [
    {
     "data": {
      "text/plain": [
       "33.634109381457499"
      ]
     },
     "execution_count": 11,
     "metadata": {},
     "output_type": "execute_result"
    }
   ],
   "source": [
    "'''Finnish name, percentage of unique words used in web'''\n",
    "(df[df['Finnish name']==True]['freq in web'].count()/float(df['freq in web'].count()))*100"
   ]
  },
  {
   "cell_type": "code",
   "execution_count": 12,
   "metadata": {},
   "outputs": [
    {
     "data": {
      "text/plain": [
       "89.137309440220875"
      ]
     },
     "execution_count": 12,
     "metadata": {},
     "output_type": "execute_result"
    }
   ],
   "source": [
    "'''Finnish word, percentage of all words used in web'''\n",
    "(df[df['Finnish word']==True]['freq in web'].sum()/float(df['freq in web'].sum()))*100"
   ]
  },
  {
   "cell_type": "code",
   "execution_count": 13,
   "metadata": {},
   "outputs": [
    {
     "data": {
      "text/plain": [
       "46.376911420305831"
      ]
     },
     "execution_count": 13,
     "metadata": {},
     "output_type": "execute_result"
    }
   ],
   "source": [
    "'''Finnish word, percentage of unique words used in web'''\n",
    "(df[df['Finnish word']==True]['freq in web'].count()/float(df['freq in web'].count()))*100"
   ]
  },
  {
   "cell_type": "markdown",
   "metadata": {},
   "source": [
    "#### As a small dataframe"
   ]
  },
  {
   "cell_type": "code",
   "execution_count": 14,
   "metadata": {},
   "outputs": [
    {
     "data": {
      "text/html": [
       "<div>\n",
       "<style scoped>\n",
       "    .dataframe tbody tr th:only-of-type {\n",
       "        vertical-align: middle;\n",
       "    }\n",
       "\n",
       "    .dataframe tbody tr th {\n",
       "        vertical-align: top;\n",
       "    }\n",
       "\n",
       "    .dataframe thead th {\n",
       "        text-align: right;\n",
       "    }\n",
       "</style>\n",
       "<table border=\"1\" class=\"dataframe\">\n",
       "  <thead>\n",
       "    <tr style=\"text-align: right;\">\n",
       "      <th></th>\n",
       "      <th>percent in pws</th>\n",
       "      <th>percent in web</th>\n",
       "    </tr>\n",
       "  </thead>\n",
       "  <tbody>\n",
       "    <tr>\n",
       "      <th>Finnish word</th>\n",
       "      <td>46.0</td>\n",
       "      <td>89.1</td>\n",
       "    </tr>\n",
       "    <tr>\n",
       "      <th>Finnish name</th>\n",
       "      <td>52.2</td>\n",
       "      <td>17.2</td>\n",
       "    </tr>\n",
       "  </tbody>\n",
       "</table>\n",
       "</div>"
      ],
      "text/plain": [
       "             percent in pws percent in web\n",
       "Finnish word           46.0           89.1\n",
       "Finnish name           52.2           17.2"
      ]
     },
     "execution_count": 14,
     "metadata": {},
     "output_type": "execute_result"
    }
   ],
   "source": [
    "dff.loc['Finnish word','percent in pws'] = \\\n",
    "'{0:.3}'.format(float((df[df['Finnish word']==True]['freq in pws'].sum()/float(df['freq in pws'].sum()))*100))\n",
    "dff.loc['Finnish word','percent in web'] = \\\n",
    "'{0:.3}'.format(float((df[df['Finnish word']==True]['freq in web'].sum()/float(df['freq in web'].sum()))*100))\n",
    "dff.loc['Finnish name','percent in pws'] = \\\n",
    "'{0:.3}'.format(float((df[df['Finnish name']==True]['freq in pws'].sum()/float(df['freq in pws'].sum()))*100))\n",
    "dff.loc['Finnish name','percent in web'] = \\\n",
    "'{0:.3}'.format(float((df[df['Finnish name']==True]['freq in web'].sum()/float(df['freq in web'].sum()))*100))\n",
    "\n",
    "dff"
   ]
  },
  {
   "cell_type": "code",
   "execution_count": 15,
   "metadata": {},
   "outputs": [
    {
     "data": {
      "image/png": "[encoded data removed]",
      "text/plain": [
       "<matplotlib.figure.Figure at 0x4aba320>"
      ]
     },
     "metadata": {},
     "output_type": "display_data"
    },
    {
     "data": {
      "image/png": "[encoded data removed]",
      "text/plain": [
       "<matplotlib.figure.Figure at 0xceedc18>"
      ]
     },
     "metadata": {},
     "output_type": "display_data"
    }
   ],
   "source": [
    "dft=dff\n",
    "rows = [i for i in dft.index]\n",
    "fign = 'finnish_percent'\n",
    "pngfile = fign + '_' + addin + '.png'\n",
    "epsfile = fign + '_' + addin + '.eps'\n",
    "\n",
    "ax = plt.subplot(111, frame_on=False) # no visible frame\n",
    "ax.xaxis.set_visible(False)  # hide the x axis\n",
    "ax.yaxis.set_visible(False)  # hide the y axis\n",
    "\n",
    "render_mpl_table(dft, header_columns=0, col_width=2.5, rows = rows, header_color='grey',  edge_color='w')\n",
    "\n",
    "#plt.tight_layout()\n",
    "#plt.savefig('posmorphtable_grey.png')\n",
    "plt.savefig(pngfile, format='png', dpi=300, bbox_inches='tight')\n",
    "plt.savefig(epsfile, format='eps', dpi=300, bbox_inches='tight');"
   ]
  },
  {
   "cell_type": "code",
   "execution_count": 16,
   "metadata": {},
   "outputs": [
    {
     "data": {
      "text/html": [
       "<div>\n",
       "<style scoped>\n",
       "    .dataframe tbody tr th:only-of-type {\n",
       "        vertical-align: middle;\n",
       "    }\n",
       "\n",
       "    .dataframe tbody tr th {\n",
       "        vertical-align: top;\n",
       "    }\n",
       "\n",
       "    .dataframe thead th {\n",
       "        text-align: right;\n",
       "    }\n",
       "</style>\n",
       "<table border=\"1\" class=\"dataframe\">\n",
       "  <thead>\n",
       "    <tr style=\"text-align: right;\">\n",
       "      <th></th>\n",
       "      <th>word</th>\n",
       "      <th>freq in pws</th>\n",
       "      <th>freq in web</th>\n",
       "      <th>POS freq</th>\n",
       "      <th>POS</th>\n",
       "      <th>analysis</th>\n",
       "      <th>Finnish word</th>\n",
       "      <th>Finnish name</th>\n",
       "    </tr>\n",
       "  </thead>\n",
       "  <tbody>\n",
       "    <tr>\n",
       "      <th>5</th>\n",
       "      <td>aurinko</td>\n",
       "      <td>567</td>\n",
       "      <td>84299</td>\n",
       "      <td>71522</td>\n",
       "      <td>NOUN</td>\n",
       "      <td>Case=Nom|Number=Sing</td>\n",
       "      <td>True</td>\n",
       "      <td>True</td>\n",
       "    </tr>\n",
       "    <tr>\n",
       "      <th>804</th>\n",
       "      <td>batman</td>\n",
       "      <td>53</td>\n",
       "      <td>5080</td>\n",
       "      <td>3027</td>\n",
       "      <td>PROPN</td>\n",
       "      <td>Case=Gen|Number=Sing</td>\n",
       "      <td>False</td>\n",
       "      <td>False</td>\n",
       "    </tr>\n",
       "  </tbody>\n",
       "</table>\n",
       "</div>"
      ],
      "text/plain": [
       "        word  freq in pws  freq in web  POS freq    POS              analysis  \\\n",
       "5    aurinko          567        84299     71522   NOUN  Case=Nom|Number=Sing   \n",
       "804   batman           53         5080      3027  PROPN  Case=Gen|Number=Sing   \n",
       "\n",
       "     Finnish word  Finnish name  \n",
       "5            True          True  \n",
       "804         False         False  "
      ]
     },
     "execution_count": 16,
     "metadata": {},
     "output_type": "execute_result"
    }
   ],
   "source": [
    "df[df['word'].isin(['batman','aurinko'])]"
   ]
  },
  {
   "cell_type": "markdown",
   "metadata": {},
   "source": [
    "### POS and morph frequencies"
   ]
  },
  {
   "cell_type": "code",
   "execution_count": 17,
   "metadata": {
    "collapsed": true
   },
   "outputs": [],
   "source": [
    "mypos = pd.DataFrame([str(val) for i, val in enumerate(df.POS)])\n",
    "myanalysis = pd.DataFrame([str(val) for i, val in enumerate(df.analysis)])\n",
    "df['label'] = mypos + ' ' +  myanalysis"
   ]
  },
  {
   "cell_type": "code",
   "execution_count": 18,
   "metadata": {},
   "outputs": [
    {
     "data": {
      "text/html": [
       "<div>\n",
       "<style scoped>\n",
       "    .dataframe tbody tr th:only-of-type {\n",
       "        vertical-align: middle;\n",
       "    }\n",
       "\n",
       "    .dataframe tbody tr th {\n",
       "        vertical-align: top;\n",
       "    }\n",
       "\n",
       "    .dataframe thead th {\n",
       "        text-align: right;\n",
       "    }\n",
       "</style>\n",
       "<table border=\"1\" class=\"dataframe\">\n",
       "  <thead>\n",
       "    <tr style=\"text-align: right;\">\n",
       "      <th></th>\n",
       "      <th>word</th>\n",
       "      <th>freq in pws</th>\n",
       "      <th>freq in web</th>\n",
       "      <th>POS freq</th>\n",
       "      <th>POS</th>\n",
       "      <th>analysis</th>\n",
       "      <th>Finnish word</th>\n",
       "      <th>Finnish name</th>\n",
       "      <th>label</th>\n",
       "    </tr>\n",
       "  </thead>\n",
       "  <tbody>\n",
       "    <tr>\n",
       "      <th>0</th>\n",
       "      <td>salasana</td>\n",
       "      <td>1313</td>\n",
       "      <td>16553</td>\n",
       "      <td>16173</td>\n",
       "      <td>NOUN</td>\n",
       "      <td>Case=Nom|Number=Sing</td>\n",
       "      <td>True</td>\n",
       "      <td>False</td>\n",
       "      <td>NOUN Case=Nom|Number=Sing</td>\n",
       "    </tr>\n",
       "    <tr>\n",
       "      <th>1</th>\n",
       "      <td>kissa</td>\n",
       "      <td>954</td>\n",
       "      <td>54393</td>\n",
       "      <td>52191</td>\n",
       "      <td>NOUN</td>\n",
       "      <td>Case=Nom|Number=Sing</td>\n",
       "      <td>True</td>\n",
       "      <td>False</td>\n",
       "      <td>NOUN Case=Nom|Number=Sing</td>\n",
       "    </tr>\n",
       "    <tr>\n",
       "      <th>2</th>\n",
       "      <td>koira</td>\n",
       "      <td>835</td>\n",
       "      <td>138611</td>\n",
       "      <td>137680</td>\n",
       "      <td>NOUN</td>\n",
       "      <td>Case=Nom|Number=Sing</td>\n",
       "      <td>True</td>\n",
       "      <td>False</td>\n",
       "      <td>NOUN Case=Nom|Number=Sing</td>\n",
       "    </tr>\n",
       "    <tr>\n",
       "      <th>3</th>\n",
       "      <td>nalle</td>\n",
       "      <td>659</td>\n",
       "      <td>8667</td>\n",
       "      <td>5053</td>\n",
       "      <td>NOUN</td>\n",
       "      <td>Case=Nom|Number=Sing</td>\n",
       "      <td>True</td>\n",
       "      <td>True</td>\n",
       "      <td>NOUN Case=Nom|Number=Sing</td>\n",
       "    </tr>\n",
       "    <tr>\n",
       "      <th>4</th>\n",
       "      <td>johanna</td>\n",
       "      <td>567</td>\n",
       "      <td>39837</td>\n",
       "      <td>39280</td>\n",
       "      <td>PROPN</td>\n",
       "      <td>Case=Nom|Number=Sing</td>\n",
       "      <td>False</td>\n",
       "      <td>True</td>\n",
       "      <td>PROPN Case=Nom|Number=Sing</td>\n",
       "    </tr>\n",
       "  </tbody>\n",
       "</table>\n",
       "</div>"
      ],
      "text/plain": [
       "       word  freq in pws  freq in web  POS freq    POS              analysis  \\\n",
       "0  salasana         1313        16553     16173   NOUN  Case=Nom|Number=Sing   \n",
       "1     kissa          954        54393     52191   NOUN  Case=Nom|Number=Sing   \n",
       "2     koira          835       138611    137680   NOUN  Case=Nom|Number=Sing   \n",
       "3     nalle          659         8667      5053   NOUN  Case=Nom|Number=Sing   \n",
       "4   johanna          567        39837     39280  PROPN  Case=Nom|Number=Sing   \n",
       "\n",
       "   Finnish word  Finnish name                       label  \n",
       "0          True         False   NOUN Case=Nom|Number=Sing  \n",
       "1          True         False   NOUN Case=Nom|Number=Sing  \n",
       "2          True         False   NOUN Case=Nom|Number=Sing  \n",
       "3          True          True   NOUN Case=Nom|Number=Sing  \n",
       "4         False          True  PROPN Case=Nom|Number=Sing  "
      ]
     },
     "execution_count": 18,
     "metadata": {},
     "output_type": "execute_result"
    }
   ],
   "source": [
    "df.head()"
   ]
  },
  {
   "cell_type": "markdown",
   "metadata": {},
   "source": [
    "### Correction to PRON _label\n",
    "label 'PROPN _' --> 'PROPN Case=Nom|Number=Sing'"
   ]
  },
  {
   "cell_type": "code",
   "execution_count": 19,
   "metadata": {},
   "outputs": [
    {
     "data": {
      "text/html": [
       "<div>\n",
       "<style scoped>\n",
       "    .dataframe tbody tr th:only-of-type {\n",
       "        vertical-align: middle;\n",
       "    }\n",
       "\n",
       "    .dataframe tbody tr th {\n",
       "        vertical-align: top;\n",
       "    }\n",
       "\n",
       "    .dataframe thead th {\n",
       "        text-align: right;\n",
       "    }\n",
       "</style>\n",
       "<table border=\"1\" class=\"dataframe\">\n",
       "  <thead>\n",
       "    <tr style=\"text-align: right;\">\n",
       "      <th></th>\n",
       "      <th>word</th>\n",
       "      <th>freq in pws</th>\n",
       "      <th>freq in web</th>\n",
       "      <th>POS freq</th>\n",
       "      <th>POS</th>\n",
       "      <th>analysis</th>\n",
       "      <th>Finnish word</th>\n",
       "      <th>Finnish name</th>\n",
       "      <th>label</th>\n",
       "    </tr>\n",
       "  </thead>\n",
       "  <tbody>\n",
       "    <tr>\n",
       "      <th>24413</th>\n",
       "      <td>metabo</td>\n",
       "      <td>1</td>\n",
       "      <td>430</td>\n",
       "      <td>300</td>\n",
       "      <td>PROPN</td>\n",
       "      <td>_</td>\n",
       "      <td>False</td>\n",
       "      <td>False</td>\n",
       "      <td>PROPN _</td>\n",
       "    </tr>\n",
       "    <tr>\n",
       "      <th>23651</th>\n",
       "      <td>fatal</td>\n",
       "      <td>1</td>\n",
       "      <td>359</td>\n",
       "      <td>265</td>\n",
       "      <td>PROPN</td>\n",
       "      <td>_</td>\n",
       "      <td>False</td>\n",
       "      <td>False</td>\n",
       "      <td>PROPN _</td>\n",
       "    </tr>\n",
       "    <tr>\n",
       "      <th>23375</th>\n",
       "      <td>steveco</td>\n",
       "      <td>1</td>\n",
       "      <td>216</td>\n",
       "      <td>125</td>\n",
       "      <td>PROPN</td>\n",
       "      <td>_</td>\n",
       "      <td>False</td>\n",
       "      <td>False</td>\n",
       "      <td>PROPN _</td>\n",
       "    </tr>\n",
       "  </tbody>\n",
       "</table>\n",
       "</div>"
      ],
      "text/plain": [
       "          word  freq in pws  freq in web  POS freq    POS analysis  \\\n",
       "24413   metabo            1          430       300  PROPN        _   \n",
       "23651    fatal            1          359       265  PROPN        _   \n",
       "23375  steveco            1          216       125  PROPN        _   \n",
       "\n",
       "       Finnish word  Finnish name    label  \n",
       "24413         False         False  PROPN _  \n",
       "23651         False         False  PROPN _  \n",
       "23375         False         False  PROPN _  "
      ]
     },
     "execution_count": 19,
     "metadata": {},
     "output_type": "execute_result"
    }
   ],
   "source": [
    "df[(df['label']=='PROPN _')].sample(3)"
   ]
  },
  {
   "cell_type": "code",
   "execution_count": 20,
   "metadata": {},
   "outputs": [
    {
     "data": {
      "text/html": [
       "<div>\n",
       "<style scoped>\n",
       "    .dataframe tbody tr th:only-of-type {\n",
       "        vertical-align: middle;\n",
       "    }\n",
       "\n",
       "    .dataframe tbody tr th {\n",
       "        vertical-align: top;\n",
       "    }\n",
       "\n",
       "    .dataframe thead th {\n",
       "        text-align: right;\n",
       "    }\n",
       "</style>\n",
       "<table border=\"1\" class=\"dataframe\">\n",
       "  <thead>\n",
       "    <tr style=\"text-align: right;\">\n",
       "      <th></th>\n",
       "      <th>word</th>\n",
       "      <th>freq in pws</th>\n",
       "      <th>freq in web</th>\n",
       "      <th>POS freq</th>\n",
       "      <th>POS</th>\n",
       "      <th>analysis</th>\n",
       "      <th>Finnish word</th>\n",
       "      <th>Finnish name</th>\n",
       "      <th>label</th>\n",
       "    </tr>\n",
       "  </thead>\n",
       "  <tbody>\n",
       "    <tr>\n",
       "      <th>10815</th>\n",
       "      <td>catariina</td>\n",
       "      <td>3</td>\n",
       "      <td>8</td>\n",
       "      <td>5</td>\n",
       "      <td>PROPN</td>\n",
       "      <td>Case=Nom|Number=Sing</td>\n",
       "      <td>False</td>\n",
       "      <td>True</td>\n",
       "      <td>PROPN Case=Nom|Number=Sing</td>\n",
       "    </tr>\n",
       "    <tr>\n",
       "      <th>9504</th>\n",
       "      <td>jippu</td>\n",
       "      <td>4</td>\n",
       "      <td>555</td>\n",
       "      <td>453</td>\n",
       "      <td>PROPN</td>\n",
       "      <td>Case=Nom|Number=Sing</td>\n",
       "      <td>False</td>\n",
       "      <td>True</td>\n",
       "      <td>PROPN Case=Nom|Number=Sing</td>\n",
       "    </tr>\n",
       "    <tr>\n",
       "      <th>6722</th>\n",
       "      <td>duty</td>\n",
       "      <td>6</td>\n",
       "      <td>3630</td>\n",
       "      <td>2904</td>\n",
       "      <td>PROPN</td>\n",
       "      <td>Case=Nom|Number=Sing</td>\n",
       "      <td>False</td>\n",
       "      <td>False</td>\n",
       "      <td>PROPN Case=Nom|Number=Sing</td>\n",
       "    </tr>\n",
       "  </tbody>\n",
       "</table>\n",
       "</div>"
      ],
      "text/plain": [
       "            word  freq in pws  freq in web  POS freq    POS  \\\n",
       "10815  catariina            3            8         5  PROPN   \n",
       "9504       jippu            4          555       453  PROPN   \n",
       "6722        duty            6         3630      2904  PROPN   \n",
       "\n",
       "                   analysis  Finnish word  Finnish name  \\\n",
       "10815  Case=Nom|Number=Sing         False          True   \n",
       "9504   Case=Nom|Number=Sing         False          True   \n",
       "6722   Case=Nom|Number=Sing         False         False   \n",
       "\n",
       "                            label  \n",
       "10815  PROPN Case=Nom|Number=Sing  \n",
       "9504   PROPN Case=Nom|Number=Sing  \n",
       "6722   PROPN Case=Nom|Number=Sing  "
      ]
     },
     "execution_count": 20,
     "metadata": {},
     "output_type": "execute_result"
    }
   ],
   "source": [
    "df[(df['label']=='PROPN Case=Nom|Number=Sing')].sample(3)"
   ]
  },
  {
   "cell_type": "code",
   "execution_count": 21,
   "metadata": {},
   "outputs": [
    {
     "data": {
      "text/plain": [
       "(1458, 11969, 13427)"
      ]
     },
     "execution_count": 21,
     "metadata": {},
     "output_type": "execute_result"
    }
   ],
   "source": [
    "len(df[(df['label']=='PROPN _')]), len(df[(df['label']=='PROPN Case=Nom|Number=Sing')]), len(df[(df['label']=='PROPN _')])+ len(df[(df['label']=='PROPN Case=Nom|Number=Sing')])"
   ]
  },
  {
   "cell_type": "code",
   "execution_count": 22,
   "metadata": {
    "collapsed": true,
    "scrolled": true
   },
   "outputs": [],
   "source": [
    "df['label'] = np.where((df['label']=='PROPN _'), 'PROPN Case=Nom|Number=Sing', df['label'])"
   ]
  },
  {
   "cell_type": "code",
   "execution_count": 23,
   "metadata": {},
   "outputs": [
    {
     "data": {
      "text/plain": [
       "(0, 13427)"
      ]
     },
     "execution_count": 23,
     "metadata": {},
     "output_type": "execute_result"
    }
   ],
   "source": [
    "len(df[(df['label']=='PROPN _')]), len(df[(df['label']=='PROPN Case=Nom|Number=Sing')])"
   ]
  },
  {
   "cell_type": "code",
   "execution_count": 24,
   "metadata": {
    "collapsed": true
   },
   "outputs": [],
   "source": [
    "mycols = ['label','freq in pws','freq in web']\n",
    "df2 = df[mycols]"
   ]
  },
  {
   "cell_type": "code",
   "execution_count": 25,
   "metadata": {},
   "outputs": [
    {
     "data": {
      "text/html": [
       "<div>\n",
       "<style scoped>\n",
       "    .dataframe tbody tr th:only-of-type {\n",
       "        vertical-align: middle;\n",
       "    }\n",
       "\n",
       "    .dataframe tbody tr th {\n",
       "        vertical-align: top;\n",
       "    }\n",
       "\n",
       "    .dataframe thead th {\n",
       "        text-align: right;\n",
       "    }\n",
       "</style>\n",
       "<table border=\"1\" class=\"dataframe\">\n",
       "  <thead>\n",
       "    <tr style=\"text-align: right;\">\n",
       "      <th></th>\n",
       "      <th>label</th>\n",
       "      <th>freq in pws</th>\n",
       "      <th>freq in web</th>\n",
       "    </tr>\n",
       "  </thead>\n",
       "  <tbody>\n",
       "    <tr>\n",
       "      <th>0</th>\n",
       "      <td>NOUN Case=Nom|Number=Sing</td>\n",
       "      <td>1313</td>\n",
       "      <td>16553</td>\n",
       "    </tr>\n",
       "    <tr>\n",
       "      <th>1</th>\n",
       "      <td>NOUN Case=Nom|Number=Sing</td>\n",
       "      <td>954</td>\n",
       "      <td>54393</td>\n",
       "    </tr>\n",
       "    <tr>\n",
       "      <th>2</th>\n",
       "      <td>NOUN Case=Nom|Number=Sing</td>\n",
       "      <td>835</td>\n",
       "      <td>138611</td>\n",
       "    </tr>\n",
       "    <tr>\n",
       "      <th>3</th>\n",
       "      <td>NOUN Case=Nom|Number=Sing</td>\n",
       "      <td>659</td>\n",
       "      <td>8667</td>\n",
       "    </tr>\n",
       "    <tr>\n",
       "      <th>4</th>\n",
       "      <td>PROPN Case=Nom|Number=Sing</td>\n",
       "      <td>567</td>\n",
       "      <td>39837</td>\n",
       "    </tr>\n",
       "  </tbody>\n",
       "</table>\n",
       "</div>"
      ],
      "text/plain": [
       "                        label  freq in pws  freq in web\n",
       "0   NOUN Case=Nom|Number=Sing         1313        16553\n",
       "1   NOUN Case=Nom|Number=Sing          954        54393\n",
       "2   NOUN Case=Nom|Number=Sing          835       138611\n",
       "3   NOUN Case=Nom|Number=Sing          659         8667\n",
       "4  PROPN Case=Nom|Number=Sing          567        39837"
      ]
     },
     "execution_count": 25,
     "metadata": {},
     "output_type": "execute_result"
    }
   ],
   "source": [
    "df2.head()"
   ]
  },
  {
   "cell_type": "code",
   "execution_count": 26,
   "metadata": {
    "collapsed": true
   },
   "outputs": [],
   "source": [
    "percentpws = (df2['freq in pws']/df2['freq in pws'].sum())*100\n",
    "df2.insert(2, 'percent in pws', percentpws)"
   ]
  },
  {
   "cell_type": "code",
   "execution_count": 27,
   "metadata": {},
   "outputs": [
    {
     "data": {
      "text/html": [
       "<div>\n",
       "<style scoped>\n",
       "    .dataframe tbody tr th:only-of-type {\n",
       "        vertical-align: middle;\n",
       "    }\n",
       "\n",
       "    .dataframe tbody tr th {\n",
       "        vertical-align: top;\n",
       "    }\n",
       "\n",
       "    .dataframe thead th {\n",
       "        text-align: right;\n",
       "    }\n",
       "</style>\n",
       "<table border=\"1\" class=\"dataframe\">\n",
       "  <thead>\n",
       "    <tr style=\"text-align: right;\">\n",
       "      <th></th>\n",
       "      <th>label</th>\n",
       "      <th>freq in pws</th>\n",
       "      <th>percent in pws</th>\n",
       "      <th>freq in web</th>\n",
       "    </tr>\n",
       "  </thead>\n",
       "  <tbody>\n",
       "    <tr>\n",
       "      <th>0</th>\n",
       "      <td>NOUN Case=Nom|Number=Sing</td>\n",
       "      <td>1313</td>\n",
       "      <td>0.545250</td>\n",
       "      <td>16553</td>\n",
       "    </tr>\n",
       "    <tr>\n",
       "      <th>1</th>\n",
       "      <td>NOUN Case=Nom|Number=Sing</td>\n",
       "      <td>954</td>\n",
       "      <td>0.396168</td>\n",
       "      <td>54393</td>\n",
       "    </tr>\n",
       "    <tr>\n",
       "      <th>2</th>\n",
       "      <td>NOUN Case=Nom|Number=Sing</td>\n",
       "      <td>835</td>\n",
       "      <td>0.346751</td>\n",
       "      <td>138611</td>\n",
       "    </tr>\n",
       "  </tbody>\n",
       "</table>\n",
       "</div>"
      ],
      "text/plain": [
       "                       label  freq in pws  percent in pws  freq in web\n",
       "0  NOUN Case=Nom|Number=Sing         1313        0.545250        16553\n",
       "1  NOUN Case=Nom|Number=Sing          954        0.396168        54393\n",
       "2  NOUN Case=Nom|Number=Sing          835        0.346751       138611"
      ]
     },
     "execution_count": 27,
     "metadata": {},
     "output_type": "execute_result"
    }
   ],
   "source": [
    "df2.head(3)"
   ]
  },
  {
   "cell_type": "code",
   "execution_count": 28,
   "metadata": {
    "collapsed": true
   },
   "outputs": [],
   "source": [
    "percentweb = df2['freq in pws']/df2['freq in web'].sum()*100\n",
    "df2.insert(4, 'percent in web', percentweb)"
   ]
  },
  {
   "cell_type": "code",
   "execution_count": 29,
   "metadata": {},
   "outputs": [
    {
     "data": {
      "text/plain": [
       "(0.081847957040398239, 99.999999999999986)"
      ]
     },
     "execution_count": 29,
     "metadata": {},
     "output_type": "execute_result"
    }
   ],
   "source": [
    "df2['percent in web'].sum(), df2['percent in pws'].sum()"
   ]
  },
  {
   "cell_type": "code",
   "execution_count": 30,
   "metadata": {
    "collapsed": true
   },
   "outputs": [],
   "source": [
    "# can't get this working here, for some reason, takes place later\n",
    "#df2['percent in web'] = df2['percent in web'].map(lambda x: '{0:.3}'.format(x))\n",
    "# df2['percent in pws'] = df2['percent in pws'].map(lambda x: '{0:.2}'.format(x))"
   ]
  },
  {
   "cell_type": "code",
   "execution_count": 31,
   "metadata": {},
   "outputs": [
    {
     "data": {
      "text/html": [
       "<div>\n",
       "<style scoped>\n",
       "    .dataframe tbody tr th:only-of-type {\n",
       "        vertical-align: middle;\n",
       "    }\n",
       "\n",
       "    .dataframe tbody tr th {\n",
       "        vertical-align: top;\n",
       "    }\n",
       "\n",
       "    .dataframe thead th {\n",
       "        text-align: right;\n",
       "    }\n",
       "</style>\n",
       "<table border=\"1\" class=\"dataframe\">\n",
       "  <thead>\n",
       "    <tr style=\"text-align: right;\">\n",
       "      <th></th>\n",
       "      <th>label</th>\n",
       "      <th>freq in pws</th>\n",
       "      <th>percent in pws</th>\n",
       "      <th>freq in web</th>\n",
       "      <th>percent in web</th>\n",
       "    </tr>\n",
       "  </thead>\n",
       "  <tbody>\n",
       "    <tr>\n",
       "      <th>0</th>\n",
       "      <td>NOUN Case=Nom|Number=Sing</td>\n",
       "      <td>1313</td>\n",
       "      <td>0.545250</td>\n",
       "      <td>16553</td>\n",
       "      <td>0.000446</td>\n",
       "    </tr>\n",
       "    <tr>\n",
       "      <th>1</th>\n",
       "      <td>NOUN Case=Nom|Number=Sing</td>\n",
       "      <td>954</td>\n",
       "      <td>0.396168</td>\n",
       "      <td>54393</td>\n",
       "      <td>0.000324</td>\n",
       "    </tr>\n",
       "    <tr>\n",
       "      <th>2</th>\n",
       "      <td>NOUN Case=Nom|Number=Sing</td>\n",
       "      <td>835</td>\n",
       "      <td>0.346751</td>\n",
       "      <td>138611</td>\n",
       "      <td>0.000284</td>\n",
       "    </tr>\n",
       "    <tr>\n",
       "      <th>3</th>\n",
       "      <td>NOUN Case=Nom|Number=Sing</td>\n",
       "      <td>659</td>\n",
       "      <td>0.273663</td>\n",
       "      <td>8667</td>\n",
       "      <td>0.000224</td>\n",
       "    </tr>\n",
       "    <tr>\n",
       "      <th>4</th>\n",
       "      <td>PROPN Case=Nom|Number=Sing</td>\n",
       "      <td>567</td>\n",
       "      <td>0.235458</td>\n",
       "      <td>39837</td>\n",
       "      <td>0.000193</td>\n",
       "    </tr>\n",
       "  </tbody>\n",
       "</table>\n",
       "</div>"
      ],
      "text/plain": [
       "                        label  freq in pws  percent in pws  freq in web  \\\n",
       "0   NOUN Case=Nom|Number=Sing         1313        0.545250        16553   \n",
       "1   NOUN Case=Nom|Number=Sing          954        0.396168        54393   \n",
       "2   NOUN Case=Nom|Number=Sing          835        0.346751       138611   \n",
       "3   NOUN Case=Nom|Number=Sing          659        0.273663         8667   \n",
       "4  PROPN Case=Nom|Number=Sing          567        0.235458        39837   \n",
       "\n",
       "   percent in web  \n",
       "0        0.000446  \n",
       "1        0.000324  \n",
       "2        0.000284  \n",
       "3        0.000224  \n",
       "4        0.000193  "
      ]
     },
     "execution_count": 31,
     "metadata": {},
     "output_type": "execute_result"
    }
   ],
   "source": [
    "df2.head()"
   ]
  },
  {
   "cell_type": "code",
   "execution_count": 32,
   "metadata": {
    "collapsed": true
   },
   "outputs": [],
   "source": [
    "# sort the data\n",
    "# dfa by word frequency in passwords\n",
    "# dfw by word frequency in web\n",
    "dfa = df2.groupby(['label']).sum().sort_values(['freq in pws'],ascending=False)\n",
    "dfw = df2.groupby(['label']).sum().sort_values(['freq in web'],ascending=False)"
   ]
  },
  {
   "cell_type": "markdown",
   "metadata": {},
   "source": [
    "### By word frequency in pw data"
   ]
  },
  {
   "cell_type": "code",
   "execution_count": 33,
   "metadata": {},
   "outputs": [
    {
     "data": {
      "text/html": [
       "<div>\n",
       "<style scoped>\n",
       "    .dataframe tbody tr th:only-of-type {\n",
       "        vertical-align: middle;\n",
       "    }\n",
       "\n",
       "    .dataframe tbody tr th {\n",
       "        vertical-align: top;\n",
       "    }\n",
       "\n",
       "    .dataframe thead th {\n",
       "        text-align: right;\n",
       "    }\n",
       "</style>\n",
       "<table border=\"1\" class=\"dataframe\">\n",
       "  <thead>\n",
       "    <tr style=\"text-align: right;\">\n",
       "      <th></th>\n",
       "      <th>freq in pws</th>\n",
       "      <th>percent in pws</th>\n",
       "      <th>freq in web</th>\n",
       "      <th>percent in web</th>\n",
       "    </tr>\n",
       "    <tr>\n",
       "      <th>label</th>\n",
       "      <th></th>\n",
       "      <th></th>\n",
       "      <th></th>\n",
       "      <th></th>\n",
       "    </tr>\n",
       "  </thead>\n",
       "  <tbody>\n",
       "    <tr>\n",
       "      <th>PROPN Case=Nom|Number=Sing</th>\n",
       "      <td>133327</td>\n",
       "      <td>55.366746</td>\n",
       "      <td>29579349</td>\n",
       "      <td>0.045317</td>\n",
       "    </tr>\n",
       "    <tr>\n",
       "      <th>NOUN Case=Nom|Number=Sing</th>\n",
       "      <td>73821</td>\n",
       "      <td>30.655670</td>\n",
       "      <td>47737381</td>\n",
       "      <td>0.025091</td>\n",
       "    </tr>\n",
       "    <tr>\n",
       "      <th>PROPN Case=Gen|Number=Sing</th>\n",
       "      <td>4492</td>\n",
       "      <td>1.865394</td>\n",
       "      <td>5710400</td>\n",
       "      <td>0.001527</td>\n",
       "    </tr>\n",
       "    <tr>\n",
       "      <th>ADJ Case=Nom|Degree=Pos|Number=Sing</th>\n",
       "      <td>4054</td>\n",
       "      <td>1.683506</td>\n",
       "      <td>14385913</td>\n",
       "      <td>0.001378</td>\n",
       "    </tr>\n",
       "    <tr>\n",
       "      <th>NOUN Case=Nom|Number=Plur</th>\n",
       "      <td>3486</td>\n",
       "      <td>1.447632</td>\n",
       "      <td>7228301</td>\n",
       "      <td>0.001185</td>\n",
       "    </tr>\n",
       "  </tbody>\n",
       "</table>\n",
       "</div>"
      ],
      "text/plain": [
       "                                     freq in pws  percent in pws  freq in web  \\\n",
       "label                                                                           \n",
       "PROPN Case=Nom|Number=Sing                133327       55.366746     29579349   \n",
       "NOUN Case=Nom|Number=Sing                  73821       30.655670     47737381   \n",
       "PROPN Case=Gen|Number=Sing                  4492        1.865394      5710400   \n",
       "ADJ Case=Nom|Degree=Pos|Number=Sing         4054        1.683506     14385913   \n",
       "NOUN Case=Nom|Number=Plur                   3486        1.447632      7228301   \n",
       "\n",
       "                                     percent in web  \n",
       "label                                                \n",
       "PROPN Case=Nom|Number=Sing                 0.045317  \n",
       "NOUN Case=Nom|Number=Sing                  0.025091  \n",
       "PROPN Case=Gen|Number=Sing                 0.001527  \n",
       "ADJ Case=Nom|Degree=Pos|Number=Sing        0.001378  \n",
       "NOUN Case=Nom|Number=Plur                  0.001185  "
      ]
     },
     "execution_count": 33,
     "metadata": {},
     "output_type": "execute_result"
    }
   ],
   "source": [
    "dfa.head()"
   ]
  },
  {
   "cell_type": "code",
   "execution_count": 34,
   "metadata": {
    "collapsed": true
   },
   "outputs": [],
   "source": [
    "# format the output into a cleaner precision\n",
    "dfa['percent in web'] = dfa['percent in web'].map(lambda x: '{0:.3}'.format(x))\n",
    "dfa['percent in pws'] = dfa['percent in pws'].map(lambda x: '{0:.3}'.format(x))"
   ]
  },
  {
   "cell_type": "code",
   "execution_count": 35,
   "metadata": {},
   "outputs": [
    {
     "data": {
      "text/html": [
       "<div>\n",
       "<style scoped>\n",
       "    .dataframe tbody tr th:only-of-type {\n",
       "        vertical-align: middle;\n",
       "    }\n",
       "\n",
       "    .dataframe tbody tr th {\n",
       "        vertical-align: top;\n",
       "    }\n",
       "\n",
       "    .dataframe thead th {\n",
       "        text-align: right;\n",
       "    }\n",
       "</style>\n",
       "<table border=\"1\" class=\"dataframe\">\n",
       "  <thead>\n",
       "    <tr style=\"text-align: right;\">\n",
       "      <th></th>\n",
       "      <th>freq in pws</th>\n",
       "      <th>percent in pws</th>\n",
       "      <th>freq in web</th>\n",
       "      <th>percent in web</th>\n",
       "    </tr>\n",
       "    <tr>\n",
       "      <th>label</th>\n",
       "      <th></th>\n",
       "      <th></th>\n",
       "      <th></th>\n",
       "      <th></th>\n",
       "    </tr>\n",
       "  </thead>\n",
       "  <tbody>\n",
       "    <tr>\n",
       "      <th>PROPN Case=Nom|Number=Sing</th>\n",
       "      <td>133327</td>\n",
       "      <td>55.4</td>\n",
       "      <td>29579349</td>\n",
       "      <td>0.0453</td>\n",
       "    </tr>\n",
       "    <tr>\n",
       "      <th>NOUN Case=Nom|Number=Sing</th>\n",
       "      <td>73821</td>\n",
       "      <td>30.7</td>\n",
       "      <td>47737381</td>\n",
       "      <td>0.0251</td>\n",
       "    </tr>\n",
       "    <tr>\n",
       "      <th>PROPN Case=Gen|Number=Sing</th>\n",
       "      <td>4492</td>\n",
       "      <td>1.87</td>\n",
       "      <td>5710400</td>\n",
       "      <td>0.00153</td>\n",
       "    </tr>\n",
       "    <tr>\n",
       "      <th>ADJ Case=Nom|Degree=Pos|Number=Sing</th>\n",
       "      <td>4054</td>\n",
       "      <td>1.68</td>\n",
       "      <td>14385913</td>\n",
       "      <td>0.00138</td>\n",
       "    </tr>\n",
       "    <tr>\n",
       "      <th>NOUN Case=Nom|Number=Plur</th>\n",
       "      <td>3486</td>\n",
       "      <td>1.45</td>\n",
       "      <td>7228301</td>\n",
       "      <td>0.00118</td>\n",
       "    </tr>\n",
       "  </tbody>\n",
       "</table>\n",
       "</div>"
      ],
      "text/plain": [
       "                                     freq in pws percent in pws  freq in web  \\\n",
       "label                                                                          \n",
       "PROPN Case=Nom|Number=Sing                133327           55.4     29579349   \n",
       "NOUN Case=Nom|Number=Sing                  73821           30.7     47737381   \n",
       "PROPN Case=Gen|Number=Sing                  4492           1.87      5710400   \n",
       "ADJ Case=Nom|Degree=Pos|Number=Sing         4054           1.68     14385913   \n",
       "NOUN Case=Nom|Number=Plur                   3486           1.45      7228301   \n",
       "\n",
       "                                    percent in web  \n",
       "label                                               \n",
       "PROPN Case=Nom|Number=Sing                  0.0453  \n",
       "NOUN Case=Nom|Number=Sing                   0.0251  \n",
       "PROPN Case=Gen|Number=Sing                 0.00153  \n",
       "ADJ Case=Nom|Degree=Pos|Number=Sing        0.00138  \n",
       "NOUN Case=Nom|Number=Plur                  0.00118  "
      ]
     },
     "execution_count": 35,
     "metadata": {},
     "output_type": "execute_result"
    }
   ],
   "source": [
    "dfa.head()"
   ]
  },
  {
   "cell_type": "code",
   "execution_count": 36,
   "metadata": {},
   "outputs": [
    {
     "data": {
      "text/plain": [
       "array([13, 10])"
      ]
     },
     "execution_count": 36,
     "metadata": {},
     "output_type": "execute_result"
    }
   ],
   "source": [
    "np.array([13, 10])"
   ]
  },
  {
   "cell_type": "code",
   "execution_count": 37,
   "metadata": {},
   "outputs": [
    {
     "data": {
      "image/png": "[encoded data removed]",
      "text/plain": [
       "<matplotlib.figure.Figure at 0xc6b0940>"
      ]
     },
     "metadata": {},
     "output_type": "display_data"
    },
    {
     "data": {
      "image/png": "[encoded data removed]",
      "text/plain": [
       "<matplotlib.figure.Figure at 0xe7dd438>"
      ]
     },
     "metadata": {},
     "output_type": "display_data"
    }
   ],
   "source": [
    "# dff = dfa.copy()\n",
    "# dff.reset_index(level=0, inplace=True)\n",
    "# dft = dff[['label','percent in pws','percent in web']].head()\n",
    "fign = 'posmorphtable_blue'\n",
    "pngfile = fign + '_' + addin + '.png'\n",
    "epsfile = fign + '_' + addin + '.eps'\n",
    "\n",
    "dft=dfa[['percent in pws','percent in web']].head()\n",
    "rows = [i for i in dft.index]\n",
    "\n",
    "ax = plt.subplot(111, frame_on=False) # no visible frame\n",
    "ax.xaxis.set_visible(False)  # hide the x axis\n",
    "ax.yaxis.set_visible(False)  # hide the y axis\n",
    "\n",
    "render_mpl_table(dft, header_columns=0, col_width=2.5, rows = rows)\n",
    "\n",
    "\n",
    "#plt.tight_layout()\n",
    "#plt.savefig('posmorphtable_blue.png')\n",
    "plt.savefig(pngfile, bbox_inches='tight')\n",
    "#plt.savefig('posmorphtable_blue.png', format='png', dpi=300, bbox_inches='tight')\n",
    "plt.savefig(epsfile, format='eps', dpi=300, bbox_inches='tight');"
   ]
  },
  {
   "cell_type": "code",
   "execution_count": 38,
   "metadata": {},
   "outputs": [
    {
     "data": {
      "image/png": "[encoded data removed]",
      "text/plain": [
       "<matplotlib.figure.Figure at 0xe7c6b38>"
      ]
     },
     "metadata": {},
     "output_type": "display_data"
    },
    {
     "data": {
      "image/png": "[encoded data removed]",
      "text/plain": [
       "<matplotlib.figure.Figure at 0xeb500b8>"
      ]
     },
     "metadata": {},
     "output_type": "display_data"
    }
   ],
   "source": [
    "# dff = dfa.copy()\n",
    "# dff.reset_index(level=0, inplace=True)\n",
    "# dft = dff[['label','percent in pws','percent in web']].head()\n",
    "fign = 'posmorphtable_grey'\n",
    "pngfile = fign + '_' + addin + '.png'\n",
    "epsfile = fign + '_' + addin + '.eps'\n",
    "\n",
    "dft=dfa[['percent in pws','percent in web']].head()\n",
    "rows = [i for i in dft.index]\n",
    "\n",
    "ax = plt.subplot(111, frame_on=False) # no visible frame\n",
    "ax.xaxis.set_visible(False)  # hide the x axis\n",
    "ax.yaxis.set_visible(False)  # hide the y axis\n",
    "\n",
    "render_mpl_table(dft, header_columns=0, col_width=2.5, rows = rows, header_color='grey',  edge_color='w')\n",
    "\n",
    "#plt.tight_layout()\n",
    "#plt.savefig('posmorphtable_grey.png')\n",
    "plt.savefig(pngfile, format='png', dpi=300, bbox_inches='tight')\n",
    "plt.savefig(epsfile, format='eps', dpi=300, bbox_inches='tight');"
   ]
  },
  {
   "cell_type": "markdown",
   "metadata": {},
   "source": [
    "### Top 5 word examples from the top 5 pos+morph categories"
   ]
  },
  {
   "cell_type": "code",
   "execution_count": 39,
   "metadata": {},
   "outputs": [
    {
     "data": {
      "text/html": [
       "<div>\n",
       "<style scoped>\n",
       "    .dataframe tbody tr th:only-of-type {\n",
       "        vertical-align: middle;\n",
       "    }\n",
       "\n",
       "    .dataframe tbody tr th {\n",
       "        vertical-align: top;\n",
       "    }\n",
       "\n",
       "    .dataframe thead th {\n",
       "        text-align: right;\n",
       "    }\n",
       "</style>\n",
       "<table border=\"1\" class=\"dataframe\">\n",
       "  <thead>\n",
       "    <tr style=\"text-align: right;\">\n",
       "      <th></th>\n",
       "      <th>word</th>\n",
       "      <th>freq in pws</th>\n",
       "    </tr>\n",
       "  </thead>\n",
       "  <tbody>\n",
       "    <tr>\n",
       "      <th>0</th>\n",
       "      <td>salasana</td>\n",
       "      <td>1313</td>\n",
       "    </tr>\n",
       "    <tr>\n",
       "      <th>1</th>\n",
       "      <td>kissa</td>\n",
       "      <td>954</td>\n",
       "    </tr>\n",
       "    <tr>\n",
       "      <th>2</th>\n",
       "      <td>koira</td>\n",
       "      <td>835</td>\n",
       "    </tr>\n",
       "    <tr>\n",
       "      <th>3</th>\n",
       "      <td>nalle</td>\n",
       "      <td>659</td>\n",
       "    </tr>\n",
       "    <tr>\n",
       "      <th>5</th>\n",
       "      <td>aurinko</td>\n",
       "      <td>567</td>\n",
       "    </tr>\n",
       "  </tbody>\n",
       "</table>\n",
       "</div>"
      ],
      "text/plain": [
       "       word  freq in pws\n",
       "0  salasana         1313\n",
       "1     kissa          954\n",
       "2     koira          835\n",
       "3     nalle          659\n",
       "5   aurinko          567"
      ]
     },
     "execution_count": 39,
     "metadata": {},
     "output_type": "execute_result"
    }
   ],
   "source": [
    "df[['word','freq in pws']][df['label']=='NOUN Case=Nom|Number=Sing'].sort_values(['freq in pws'],ascending=False).head()"
   ]
  },
  {
   "cell_type": "code",
   "execution_count": 40,
   "metadata": {},
   "outputs": [
    {
     "data": {
      "text/html": [
       "<div>\n",
       "<style scoped>\n",
       "    .dataframe tbody tr th:only-of-type {\n",
       "        vertical-align: middle;\n",
       "    }\n",
       "\n",
       "    .dataframe tbody tr th {\n",
       "        vertical-align: top;\n",
       "    }\n",
       "\n",
       "    .dataframe thead th {\n",
       "        text-align: right;\n",
       "    }\n",
       "</style>\n",
       "<table border=\"1\" class=\"dataframe\">\n",
       "  <thead>\n",
       "    <tr style=\"text-align: right;\">\n",
       "      <th></th>\n",
       "      <th>word</th>\n",
       "      <th>freq in pws</th>\n",
       "    </tr>\n",
       "  </thead>\n",
       "  <tbody>\n",
       "    <tr>\n",
       "      <th>4</th>\n",
       "      <td>johanna</td>\n",
       "      <td>567</td>\n",
       "    </tr>\n",
       "    <tr>\n",
       "      <th>7</th>\n",
       "      <td>antti</td>\n",
       "      <td>493</td>\n",
       "    </tr>\n",
       "    <tr>\n",
       "      <th>10</th>\n",
       "      <td>ville</td>\n",
       "      <td>426</td>\n",
       "    </tr>\n",
       "    <tr>\n",
       "      <th>11</th>\n",
       "      <td>emilia</td>\n",
       "      <td>425</td>\n",
       "    </tr>\n",
       "    <tr>\n",
       "      <th>18</th>\n",
       "      <td>mikko</td>\n",
       "      <td>382</td>\n",
       "    </tr>\n",
       "  </tbody>\n",
       "</table>\n",
       "</div>"
      ],
      "text/plain": [
       "       word  freq in pws\n",
       "4   johanna          567\n",
       "7     antti          493\n",
       "10    ville          426\n",
       "11   emilia          425\n",
       "18    mikko          382"
      ]
     },
     "execution_count": 40,
     "metadata": {},
     "output_type": "execute_result"
    }
   ],
   "source": [
    "df[['word','freq in pws']][df['label']=='PROPN Case=Nom|Number=Sing'].sort_values(['freq in pws'],ascending=False).head()"
   ]
  },
  {
   "cell_type": "code",
   "execution_count": 41,
   "metadata": {},
   "outputs": [
    {
     "data": {
      "text/html": [
       "<div>\n",
       "<style scoped>\n",
       "    .dataframe tbody tr th:only-of-type {\n",
       "        vertical-align: middle;\n",
       "    }\n",
       "\n",
       "    .dataframe tbody tr th {\n",
       "        vertical-align: top;\n",
       "    }\n",
       "\n",
       "    .dataframe thead th {\n",
       "        text-align: right;\n",
       "    }\n",
       "</style>\n",
       "<table border=\"1\" class=\"dataframe\">\n",
       "  <thead>\n",
       "    <tr style=\"text-align: right;\">\n",
       "      <th></th>\n",
       "      <th>word</th>\n",
       "      <th>freq in pws</th>\n",
       "    </tr>\n",
       "  </thead>\n",
       "  <tbody>\n",
       "  </tbody>\n",
       "</table>\n",
       "</div>"
      ],
      "text/plain": [
       "Empty DataFrame\n",
       "Columns: [word, freq in pws]\n",
       "Index: []"
      ]
     },
     "execution_count": 41,
     "metadata": {},
     "output_type": "execute_result"
    }
   ],
   "source": [
    "df[['word','freq in pws']][df['label']=='PROPN _'].sort_values(['freq in pws'],ascending=False).head()"
   ]
  },
  {
   "cell_type": "code",
   "execution_count": 42,
   "metadata": {},
   "outputs": [
    {
     "data": {
      "text/html": [
       "<div>\n",
       "<style scoped>\n",
       "    .dataframe tbody tr th:only-of-type {\n",
       "        vertical-align: middle;\n",
       "    }\n",
       "\n",
       "    .dataframe tbody tr th {\n",
       "        vertical-align: top;\n",
       "    }\n",
       "\n",
       "    .dataframe thead th {\n",
       "        text-align: right;\n",
       "    }\n",
       "</style>\n",
       "<table border=\"1\" class=\"dataframe\">\n",
       "  <thead>\n",
       "    <tr style=\"text-align: right;\">\n",
       "      <th></th>\n",
       "      <th>word</th>\n",
       "      <th>freq in pws</th>\n",
       "    </tr>\n",
       "  </thead>\n",
       "  <tbody>\n",
       "    <tr>\n",
       "      <th>82</th>\n",
       "      <td>man</td>\n",
       "      <td>249</td>\n",
       "    </tr>\n",
       "    <tr>\n",
       "      <th>516</th>\n",
       "      <td>pokemon</td>\n",
       "      <td>79</td>\n",
       "    </tr>\n",
       "    <tr>\n",
       "      <th>804</th>\n",
       "      <td>batman</td>\n",
       "      <td>53</td>\n",
       "    </tr>\n",
       "    <tr>\n",
       "      <th>829</th>\n",
       "      <td>sebastian</td>\n",
       "      <td>52</td>\n",
       "    </tr>\n",
       "    <tr>\n",
       "      <th>979</th>\n",
       "      <td>iron</td>\n",
       "      <td>45</td>\n",
       "    </tr>\n",
       "  </tbody>\n",
       "</table>\n",
       "</div>"
      ],
      "text/plain": [
       "          word  freq in pws\n",
       "82         man          249\n",
       "516    pokemon           79\n",
       "804     batman           53\n",
       "829  sebastian           52\n",
       "979       iron           45"
      ]
     },
     "execution_count": 42,
     "metadata": {},
     "output_type": "execute_result"
    }
   ],
   "source": [
    "df[['word','freq in pws']][df['label']=='PROPN Case=Gen|Number=Sing'].sort_values(['freq in pws'],ascending=False).head()"
   ]
  },
  {
   "cell_type": "code",
   "execution_count": 43,
   "metadata": {},
   "outputs": [
    {
     "data": {
      "text/html": [
       "<div>\n",
       "<style scoped>\n",
       "    .dataframe tbody tr th:only-of-type {\n",
       "        vertical-align: middle;\n",
       "    }\n",
       "\n",
       "    .dataframe tbody tr th {\n",
       "        vertical-align: top;\n",
       "    }\n",
       "\n",
       "    .dataframe thead th {\n",
       "        text-align: right;\n",
       "    }\n",
       "</style>\n",
       "<table border=\"1\" class=\"dataframe\">\n",
       "  <thead>\n",
       "    <tr style=\"text-align: right;\">\n",
       "      <th></th>\n",
       "      <th>word</th>\n",
       "      <th>freq in pws</th>\n",
       "    </tr>\n",
       "  </thead>\n",
       "  <tbody>\n",
       "    <tr>\n",
       "      <th>9426</th>\n",
       "      <td>erkin</td>\n",
       "      <td>4</td>\n",
       "    </tr>\n",
       "    <tr>\n",
       "      <th>5158</th>\n",
       "      <td>horn</td>\n",
       "      <td>8</td>\n",
       "    </tr>\n",
       "    <tr>\n",
       "      <th>19186</th>\n",
       "      <td>hellgren</td>\n",
       "      <td>1</td>\n",
       "    </tr>\n",
       "    <tr>\n",
       "      <th>16587</th>\n",
       "      <td>niken</td>\n",
       "      <td>2</td>\n",
       "    </tr>\n",
       "    <tr>\n",
       "      <th>8655</th>\n",
       "      <td>minjan</td>\n",
       "      <td>4</td>\n",
       "    </tr>\n",
       "    <tr>\n",
       "      <th>27961</th>\n",
       "      <td>alden</td>\n",
       "      <td>1</td>\n",
       "    </tr>\n",
       "    <tr>\n",
       "      <th>1759</th>\n",
       "      <td>merlin</td>\n",
       "      <td>25</td>\n",
       "    </tr>\n",
       "    <tr>\n",
       "      <th>23664</th>\n",
       "      <td>distortion</td>\n",
       "      <td>1</td>\n",
       "    </tr>\n",
       "    <tr>\n",
       "      <th>3399</th>\n",
       "      <td>villen</td>\n",
       "      <td>13</td>\n",
       "    </tr>\n",
       "    <tr>\n",
       "      <th>14683</th>\n",
       "      <td>ulvilan</td>\n",
       "      <td>2</td>\n",
       "    </tr>\n",
       "  </tbody>\n",
       "</table>\n",
       "</div>"
      ],
      "text/plain": [
       "             word  freq in pws\n",
       "9426        erkin            4\n",
       "5158         horn            8\n",
       "19186    hellgren            1\n",
       "16587       niken            2\n",
       "8655       minjan            4\n",
       "27961       alden            1\n",
       "1759       merlin           25\n",
       "23664  distortion            1\n",
       "3399       villen           13\n",
       "14683     ulvilan            2"
      ]
     },
     "execution_count": 43,
     "metadata": {},
     "output_type": "execute_result"
    }
   ],
   "source": [
    "# For batman categorie, check a random sample of 10\n",
    "df[['word','freq in pws']][df['label']=='PROPN Case=Gen|Number=Sing'].sample(10)"
   ]
  },
  {
   "cell_type": "code",
   "execution_count": 44,
   "metadata": {},
   "outputs": [
    {
     "data": {
      "text/html": [
       "<div>\n",
       "<style scoped>\n",
       "    .dataframe tbody tr th:only-of-type {\n",
       "        vertical-align: middle;\n",
       "    }\n",
       "\n",
       "    .dataframe tbody tr th {\n",
       "        vertical-align: top;\n",
       "    }\n",
       "\n",
       "    .dataframe thead th {\n",
       "        text-align: right;\n",
       "    }\n",
       "</style>\n",
       "<table border=\"1\" class=\"dataframe\">\n",
       "  <thead>\n",
       "    <tr style=\"text-align: right;\">\n",
       "      <th></th>\n",
       "      <th>word</th>\n",
       "      <th>freq in pws</th>\n",
       "    </tr>\n",
       "  </thead>\n",
       "  <tbody>\n",
       "    <tr>\n",
       "      <th>13</th>\n",
       "      <td>rakas</td>\n",
       "      <td>405</td>\n",
       "    </tr>\n",
       "    <tr>\n",
       "      <th>97</th>\n",
       "      <td>oma</td>\n",
       "      <td>223</td>\n",
       "    </tr>\n",
       "    <tr>\n",
       "      <th>106</th>\n",
       "      <td>hullu</td>\n",
       "      <td>218</td>\n",
       "    </tr>\n",
       "    <tr>\n",
       "      <th>234</th>\n",
       "      <td>terve</td>\n",
       "      <td>140</td>\n",
       "    </tr>\n",
       "    <tr>\n",
       "      <th>263</th>\n",
       "      <td>salainen</td>\n",
       "      <td>131</td>\n",
       "    </tr>\n",
       "  </tbody>\n",
       "</table>\n",
       "</div>"
      ],
      "text/plain": [
       "         word  freq in pws\n",
       "13      rakas          405\n",
       "97        oma          223\n",
       "106     hullu          218\n",
       "234     terve          140\n",
       "263  salainen          131"
      ]
     },
     "execution_count": 44,
     "metadata": {},
     "output_type": "execute_result"
    }
   ],
   "source": [
    "df[['word','freq in pws']][df['label']=='ADJ Case=Nom|Degree=Pos|Number=Sing'].sort_values(['freq in pws'],ascending=False).head()"
   ]
  },
  {
   "cell_type": "markdown",
   "metadata": {},
   "source": [
    "### By word frequency in web data"
   ]
  },
  {
   "cell_type": "code",
   "execution_count": 45,
   "metadata": {},
   "outputs": [
    {
     "data": {
      "text/html": [
       "<div>\n",
       "<style scoped>\n",
       "    .dataframe tbody tr th:only-of-type {\n",
       "        vertical-align: middle;\n",
       "    }\n",
       "\n",
       "    .dataframe tbody tr th {\n",
       "        vertical-align: top;\n",
       "    }\n",
       "\n",
       "    .dataframe thead th {\n",
       "        text-align: right;\n",
       "    }\n",
       "</style>\n",
       "<table border=\"1\" class=\"dataframe\">\n",
       "  <thead>\n",
       "    <tr style=\"text-align: right;\">\n",
       "      <th></th>\n",
       "      <th>freq in pws</th>\n",
       "      <th>percent in pws</th>\n",
       "      <th>freq in web</th>\n",
       "      <th>percent in web</th>\n",
       "    </tr>\n",
       "    <tr>\n",
       "      <th>label</th>\n",
       "      <th></th>\n",
       "      <th></th>\n",
       "      <th></th>\n",
       "      <th></th>\n",
       "    </tr>\n",
       "  </thead>\n",
       "  <tbody>\n",
       "    <tr>\n",
       "      <th>ADV _</th>\n",
       "      <td>2021</td>\n",
       "      <td>0.839261</td>\n",
       "      <td>61336613</td>\n",
       "      <td>0.000687</td>\n",
       "    </tr>\n",
       "    <tr>\n",
       "      <th>NOUN Case=Nom|Number=Sing</th>\n",
       "      <td>73821</td>\n",
       "      <td>30.655670</td>\n",
       "      <td>47737381</td>\n",
       "      <td>0.025091</td>\n",
       "    </tr>\n",
       "    <tr>\n",
       "      <th>PROPN Case=Nom|Number=Sing</th>\n",
       "      <td>133327</td>\n",
       "      <td>55.366746</td>\n",
       "      <td>29579349</td>\n",
       "      <td>0.045317</td>\n",
       "    </tr>\n",
       "    <tr>\n",
       "      <th>ADJ Case=Nom|Degree=Pos|Number=Sing</th>\n",
       "      <td>4054</td>\n",
       "      <td>1.683506</td>\n",
       "      <td>14385913</td>\n",
       "      <td>0.001378</td>\n",
       "    </tr>\n",
       "    <tr>\n",
       "      <th>VERB Mood=Ind|Number=Sing|Person=3|Tense=Past|VerbForm=Fin|Voice=Act</th>\n",
       "      <td>974</td>\n",
       "      <td>0.404473</td>\n",
       "      <td>11718459</td>\n",
       "      <td>0.000331</td>\n",
       "    </tr>\n",
       "  </tbody>\n",
       "</table>\n",
       "</div>"
      ],
      "text/plain": [
       "                                                    freq in pws  \\\n",
       "label                                                             \n",
       "ADV _                                                      2021   \n",
       "NOUN Case=Nom|Number=Sing                                 73821   \n",
       "PROPN Case=Nom|Number=Sing                               133327   \n",
       "ADJ Case=Nom|Degree=Pos|Number=Sing                        4054   \n",
       "VERB Mood=Ind|Number=Sing|Person=3|Tense=Past|V...          974   \n",
       "\n",
       "                                                    percent in pws  \\\n",
       "label                                                                \n",
       "ADV _                                                     0.839261   \n",
       "NOUN Case=Nom|Number=Sing                                30.655670   \n",
       "PROPN Case=Nom|Number=Sing                               55.366746   \n",
       "ADJ Case=Nom|Degree=Pos|Number=Sing                       1.683506   \n",
       "VERB Mood=Ind|Number=Sing|Person=3|Tense=Past|V...        0.404473   \n",
       "\n",
       "                                                    freq in web  \\\n",
       "label                                                             \n",
       "ADV _                                                  61336613   \n",
       "NOUN Case=Nom|Number=Sing                              47737381   \n",
       "PROPN Case=Nom|Number=Sing                             29579349   \n",
       "ADJ Case=Nom|Degree=Pos|Number=Sing                    14385913   \n",
       "VERB Mood=Ind|Number=Sing|Person=3|Tense=Past|V...     11718459   \n",
       "\n",
       "                                                    percent in web  \n",
       "label                                                               \n",
       "ADV _                                                     0.000687  \n",
       "NOUN Case=Nom|Number=Sing                                 0.025091  \n",
       "PROPN Case=Nom|Number=Sing                                0.045317  \n",
       "ADJ Case=Nom|Degree=Pos|Number=Sing                       0.001378  \n",
       "VERB Mood=Ind|Number=Sing|Person=3|Tense=Past|V...        0.000331  "
      ]
     },
     "execution_count": 45,
     "metadata": {},
     "output_type": "execute_result"
    }
   ],
   "source": [
    "dfw.head()"
   ]
  },
  {
   "cell_type": "code",
   "execution_count": 46,
   "metadata": {
    "collapsed": true
   },
   "outputs": [],
   "source": [
    "dfw['percent in web'] = dfw['percent in web'].map(lambda x: '{0:.3}'.format(x))\n",
    "dfw['percent in pws'] = dfw['percent in pws'].map(lambda x: '{0:.3}'.format(x))"
   ]
  },
  {
   "cell_type": "code",
   "execution_count": 47,
   "metadata": {},
   "outputs": [
    {
     "data": {
      "text/html": [
       "<div>\n",
       "<style scoped>\n",
       "    .dataframe tbody tr th:only-of-type {\n",
       "        vertical-align: middle;\n",
       "    }\n",
       "\n",
       "    .dataframe tbody tr th {\n",
       "        vertical-align: top;\n",
       "    }\n",
       "\n",
       "    .dataframe thead th {\n",
       "        text-align: right;\n",
       "    }\n",
       "</style>\n",
       "<table border=\"1\" class=\"dataframe\">\n",
       "  <thead>\n",
       "    <tr style=\"text-align: right;\">\n",
       "      <th></th>\n",
       "      <th>freq in pws</th>\n",
       "      <th>percent in pws</th>\n",
       "      <th>freq in web</th>\n",
       "      <th>percent in web</th>\n",
       "    </tr>\n",
       "    <tr>\n",
       "      <th>label</th>\n",
       "      <th></th>\n",
       "      <th></th>\n",
       "      <th></th>\n",
       "      <th></th>\n",
       "    </tr>\n",
       "  </thead>\n",
       "  <tbody>\n",
       "    <tr>\n",
       "      <th>ADV _</th>\n",
       "      <td>2021</td>\n",
       "      <td>0.839</td>\n",
       "      <td>61336613</td>\n",
       "      <td>0.000687</td>\n",
       "    </tr>\n",
       "    <tr>\n",
       "      <th>NOUN Case=Nom|Number=Sing</th>\n",
       "      <td>73821</td>\n",
       "      <td>30.7</td>\n",
       "      <td>47737381</td>\n",
       "      <td>0.0251</td>\n",
       "    </tr>\n",
       "    <tr>\n",
       "      <th>PROPN Case=Nom|Number=Sing</th>\n",
       "      <td>133327</td>\n",
       "      <td>55.4</td>\n",
       "      <td>29579349</td>\n",
       "      <td>0.0453</td>\n",
       "    </tr>\n",
       "    <tr>\n",
       "      <th>ADJ Case=Nom|Degree=Pos|Number=Sing</th>\n",
       "      <td>4054</td>\n",
       "      <td>1.68</td>\n",
       "      <td>14385913</td>\n",
       "      <td>0.00138</td>\n",
       "    </tr>\n",
       "    <tr>\n",
       "      <th>VERB Mood=Ind|Number=Sing|Person=3|Tense=Past|VerbForm=Fin|Voice=Act</th>\n",
       "      <td>974</td>\n",
       "      <td>0.404</td>\n",
       "      <td>11718459</td>\n",
       "      <td>0.000331</td>\n",
       "    </tr>\n",
       "  </tbody>\n",
       "</table>\n",
       "</div>"
      ],
      "text/plain": [
       "                                                    freq in pws  \\\n",
       "label                                                             \n",
       "ADV _                                                      2021   \n",
       "NOUN Case=Nom|Number=Sing                                 73821   \n",
       "PROPN Case=Nom|Number=Sing                               133327   \n",
       "ADJ Case=Nom|Degree=Pos|Number=Sing                        4054   \n",
       "VERB Mood=Ind|Number=Sing|Person=3|Tense=Past|V...          974   \n",
       "\n",
       "                                                   percent in pws  \\\n",
       "label                                                               \n",
       "ADV _                                                       0.839   \n",
       "NOUN Case=Nom|Number=Sing                                    30.7   \n",
       "PROPN Case=Nom|Number=Sing                                   55.4   \n",
       "ADJ Case=Nom|Degree=Pos|Number=Sing                          1.68   \n",
       "VERB Mood=Ind|Number=Sing|Person=3|Tense=Past|V...          0.404   \n",
       "\n",
       "                                                    freq in web percent in web  \n",
       "label                                                                           \n",
       "ADV _                                                  61336613       0.000687  \n",
       "NOUN Case=Nom|Number=Sing                              47737381         0.0251  \n",
       "PROPN Case=Nom|Number=Sing                             29579349         0.0453  \n",
       "ADJ Case=Nom|Degree=Pos|Number=Sing                    14385913        0.00138  \n",
       "VERB Mood=Ind|Number=Sing|Person=3|Tense=Past|V...     11718459       0.000331  "
      ]
     },
     "execution_count": 47,
     "metadata": {},
     "output_type": "execute_result"
    }
   ],
   "source": [
    "dfw.head()"
   ]
  },
  {
   "cell_type": "markdown",
   "metadata": {},
   "source": [
    "## Plots"
   ]
  },
  {
   "cell_type": "code",
   "execution_count": 48,
   "metadata": {},
   "outputs": [
    {
     "data": {
      "image/png": "[encoded data removed]",
      "text/plain": [
       "<matplotlib.figure.Figure at 0xef14630>"
      ]
     },
     "metadata": {},
     "output_type": "display_data"
    }
   ],
   "source": [
    "sample = 10\n",
    "title = 'Frequencies of top ' + str(sample) + ' morphological forms used in passwords'\n",
    "dfa['freq in pws'][:sample].plot(legend=True, title = title);\n",
    "dfa['freq in web'][:sample].plot(secondary_y=True, legend=True);"
   ]
  },
  {
   "cell_type": "code",
   "execution_count": 49,
   "metadata": {},
   "outputs": [
    {
     "data": {
      "image/png": "[encoded data removed]",
      "text/plain": [
       "<matplotlib.figure.Figure at 0x3a04160>"
      ]
     },
     "metadata": {},
     "output_type": "display_data"
    }
   ],
   "source": [
    "dfb = dfa[:5]\n",
    "dfb.plot(y = 'freq in pws',x=dfb.index,legend=True, title = title);"
   ]
  },
  {
   "cell_type": "markdown",
   "metadata": {},
   "source": [
    "### Examples of the most used words"
   ]
  },
  {
   "cell_type": "code",
   "execution_count": 50,
   "metadata": {
    "collapsed": true
   },
   "outputs": [],
   "source": [
    "# Most used words, sort the original dataframe by frequency used in pws\n",
    "dfsort = df.sort_values(['freq in pws'],ascending=False).reset_index(drop=True)"
   ]
  },
  {
   "cell_type": "code",
   "execution_count": 51,
   "metadata": {},
   "outputs": [
    {
     "data": {
      "text/html": [
       "<div>\n",
       "<style scoped>\n",
       "    .dataframe tbody tr th:only-of-type {\n",
       "        vertical-align: middle;\n",
       "    }\n",
       "\n",
       "    .dataframe tbody tr th {\n",
       "        vertical-align: top;\n",
       "    }\n",
       "\n",
       "    .dataframe thead th {\n",
       "        text-align: right;\n",
       "    }\n",
       "</style>\n",
       "<table border=\"1\" class=\"dataframe\">\n",
       "  <thead>\n",
       "    <tr style=\"text-align: right;\">\n",
       "      <th></th>\n",
       "      <th>word</th>\n",
       "      <th>freq in pws</th>\n",
       "      <th>freq in web</th>\n",
       "      <th>POS freq</th>\n",
       "      <th>POS</th>\n",
       "      <th>analysis</th>\n",
       "      <th>Finnish word</th>\n",
       "      <th>Finnish name</th>\n",
       "      <th>label</th>\n",
       "    </tr>\n",
       "  </thead>\n",
       "  <tbody>\n",
       "    <tr>\n",
       "      <th>0</th>\n",
       "      <td>salasana</td>\n",
       "      <td>1313</td>\n",
       "      <td>16553</td>\n",
       "      <td>16173</td>\n",
       "      <td>NOUN</td>\n",
       "      <td>Case=Nom|Number=Sing</td>\n",
       "      <td>True</td>\n",
       "      <td>False</td>\n",
       "      <td>NOUN Case=Nom|Number=Sing</td>\n",
       "    </tr>\n",
       "    <tr>\n",
       "      <th>1</th>\n",
       "      <td>kissa</td>\n",
       "      <td>954</td>\n",
       "      <td>54393</td>\n",
       "      <td>52191</td>\n",
       "      <td>NOUN</td>\n",
       "      <td>Case=Nom|Number=Sing</td>\n",
       "      <td>True</td>\n",
       "      <td>False</td>\n",
       "      <td>NOUN Case=Nom|Number=Sing</td>\n",
       "    </tr>\n",
       "    <tr>\n",
       "      <th>2</th>\n",
       "      <td>koira</td>\n",
       "      <td>835</td>\n",
       "      <td>138611</td>\n",
       "      <td>137680</td>\n",
       "      <td>NOUN</td>\n",
       "      <td>Case=Nom|Number=Sing</td>\n",
       "      <td>True</td>\n",
       "      <td>False</td>\n",
       "      <td>NOUN Case=Nom|Number=Sing</td>\n",
       "    </tr>\n",
       "    <tr>\n",
       "      <th>3</th>\n",
       "      <td>nalle</td>\n",
       "      <td>659</td>\n",
       "      <td>8667</td>\n",
       "      <td>5053</td>\n",
       "      <td>NOUN</td>\n",
       "      <td>Case=Nom|Number=Sing</td>\n",
       "      <td>True</td>\n",
       "      <td>True</td>\n",
       "      <td>NOUN Case=Nom|Number=Sing</td>\n",
       "    </tr>\n",
       "    <tr>\n",
       "      <th>4</th>\n",
       "      <td>johanna</td>\n",
       "      <td>567</td>\n",
       "      <td>39837</td>\n",
       "      <td>39280</td>\n",
       "      <td>PROPN</td>\n",
       "      <td>Case=Nom|Number=Sing</td>\n",
       "      <td>False</td>\n",
       "      <td>True</td>\n",
       "      <td>PROPN Case=Nom|Number=Sing</td>\n",
       "    </tr>\n",
       "  </tbody>\n",
       "</table>\n",
       "</div>"
      ],
      "text/plain": [
       "       word  freq in pws  freq in web  POS freq    POS              analysis  \\\n",
       "0  salasana         1313        16553     16173   NOUN  Case=Nom|Number=Sing   \n",
       "1     kissa          954        54393     52191   NOUN  Case=Nom|Number=Sing   \n",
       "2     koira          835       138611    137680   NOUN  Case=Nom|Number=Sing   \n",
       "3     nalle          659         8667      5053   NOUN  Case=Nom|Number=Sing   \n",
       "4   johanna          567        39837     39280  PROPN  Case=Nom|Number=Sing   \n",
       "\n",
       "   Finnish word  Finnish name                       label  \n",
       "0          True         False   NOUN Case=Nom|Number=Sing  \n",
       "1          True         False   NOUN Case=Nom|Number=Sing  \n",
       "2          True         False   NOUN Case=Nom|Number=Sing  \n",
       "3          True          True   NOUN Case=Nom|Number=Sing  \n",
       "4         False          True  PROPN Case=Nom|Number=Sing  "
      ]
     },
     "execution_count": 51,
     "metadata": {},
     "output_type": "execute_result"
    }
   ],
   "source": [
    "dfsort.head()"
   ]
  },
  {
   "cell_type": "code",
   "execution_count": 52,
   "metadata": {},
   "outputs": [
    {
     "data": {
      "text/plain": [
       "array([u'salasana', u'kissa', u'koira', u'nalle', u'johanna', u'aurinko',\n",
       "       u'perkele', u'antti', u'qwerty', u'paska'], dtype=object)"
      ]
     },
     "execution_count": 52,
     "metadata": {},
     "output_type": "execute_result"
    }
   ],
   "source": [
    "dfsort['word'][:sample].values"
   ]
  },
  {
   "cell_type": "code",
   "execution_count": 53,
   "metadata": {},
   "outputs": [
    {
     "data": {
      "image/png": "[encoded data removed]",
      "text/plain": [
       "<matplotlib.figure.Figure at 0xf546240>"
      ]
     },
     "metadata": {},
     "output_type": "display_data"
    }
   ],
   "source": [
    "#https://stackoverflow.com/questions/11640243/pandas-plot-multiple-y-axes\n",
    "\n",
    "sample = 5\n",
    "title = 'Frequencies of top ' + str(sample) + ' words used in passwords'\n",
    "x = [str(i) for i in dfsort['word'][:sample]]\n",
    "dfsort['freq in pws'][:sample].plot(legend=True, title = title, x=x);\n",
    "dfsort['freq in web'][:sample].plot(secondary_y=True, legend=True, sharex = True);\n"
   ]
  },
  {
   "cell_type": "code",
   "execution_count": 54,
   "metadata": {},
   "outputs": [
    {
     "data": {
      "text/plain": [
       "['salasana', 'kissa', 'koira', 'nalle', 'johanna']"
      ]
     },
     "execution_count": 54,
     "metadata": {},
     "output_type": "execute_result"
    }
   ],
   "source": [
    "x"
   ]
  },
  {
   "cell_type": "code",
   "execution_count": 55,
   "metadata": {},
   "outputs": [
    {
     "data": {
      "image/png": "[encoded data removed]",
      "text/plain": [
       "<matplotlib.figure.Figure at 0xf65a080>"
      ]
     },
     "metadata": {},
     "output_type": "display_data"
    }
   ],
   "source": [
    "#https://matplotlib.org/gallery/api/two_scales.html\n",
    "\n",
    "fign = 'wordfreq'\n",
    "pngfile = fign + '_' + addin + '.png'\n",
    "epsfile = fign + '_' + addin + '.eps'\n",
    "\n",
    "title = 'all sources combined'\n",
    "\n",
    "sample = 15\n",
    "\n",
    "fig, ax1 = plt.subplots(figsize=(10,4))\n",
    "x = [i for i in dfsort[:sample].index]\n",
    "x_ticks_labels = [str(i) for i in dfsort['word'][:sample]]\n",
    "y1 = dfsort['freq in pws'][:sample]\n",
    "# print len(x), len(y1)\n",
    "ax1.plot(x, y1, 'b-')\n",
    "#ax1.set_xlabel('words')\n",
    "# Make the y-axis label, ticks and tick labels match the line color.\n",
    "ax1.set_ylabel('freq in pws', color='b')\n",
    "ax1.tick_params('y', colors='b')\n",
    "# Set number of ticks for x-axis\n",
    "ax1.set_xticks(x)\n",
    "# Set ticks labels for x-axis\n",
    "ax1.set_xticklabels(x_ticks_labels, rotation='vertical', fontsize=18)\n",
    "\n",
    "ax2 = ax1.twinx()\n",
    "y2 = dfsort['freq in web'][:sample]\n",
    "ax2.plot(x, y2, 'g--')\n",
    "ax2.set_ylabel('freq in web', color='g')\n",
    "ax2.tick_params('y', colors='g')\n",
    "\n",
    "fig.tight_layout()\n",
    "plt.title(title)\n",
    "#plt.show()\n",
    "plt.savefig(pngfile, format='png', dpi=300)\n",
    "plt.savefig(epsfile, format='eps', dpi=300);"
   ]
  },
  {
   "cell_type": "code",
   "execution_count": 56,
   "metadata": {},
   "outputs": [
    {
     "name": "stdout",
     "output_type": "stream",
     "text": [
      "top_freqs_all.csv\n"
     ]
    }
   ],
   "source": [
    "# Save smaller sample for combining figures in another notebook\n",
    "sample = 15\n",
    "filename = 'top_freqs' + addin + '.csv'\n",
    "print filename\n",
    "\n",
    "mydf=pd.DataFrame()\n",
    "mydf['word'] = [str(i) for i in dfsort['word'][:sample]]\n",
    "mydf['pwfreq'] = [str(i) for i in dfsort['freq in pws'][:sample]]\n",
    "mydf['webfreq'] = [str(i) for i in dfsort['freq in web'][:sample]]\n",
    "#mydf['fn'] = [str(i) for i in dfsort['Finnish name'][:sample]]\n",
    "mydf.to_csv(filename, sep=',', encoding='utf-8', index=False)"
   ]
  },
  {
   "cell_type": "code",
   "execution_count": 57,
   "metadata": {},
   "outputs": [
    {
     "name": "stdout",
     "output_type": "stream",
     "text": [
      "8 8\n"
     ]
    },
    {
     "data": {
      "image/png": "[encoded data removed]",
      "text/plain": [
       "<matplotlib.figure.Figure at 0xf66c748>"
      ]
     },
     "metadata": {},
     "output_type": "display_data"
    }
   ],
   "source": [
    "#https://matplotlib.org/gallery/api/two_scales.html\n",
    "\n",
    "sample = 8\n",
    "#title = 'Frequencies of top ' + str(sample) + ' words used in passwords'\n",
    "\n",
    "fig, ax1 = plt.subplots(figsize=(10,4))\n",
    "x = [i for i, val in enumerate(dfa[:sample].index)]\n",
    "x_ticks_labels = [str(i) for i in dfa[:sample].index]\n",
    "y1 = dfa['freq in pws'][:sample]\n",
    "print len(x), len(y1)\n",
    "ax1.plot(x, y1, 'b-')\n",
    "ax1.set_xlabel('')\n",
    "# Make the y-axis label, ticks and tick labels match the line color.\n",
    "ax1.set_ylabel('freq in pws', color='b')\n",
    "ax1.tick_params('y', colors='b')\n",
    "# Set number of ticks for x-axis\n",
    "ax1.set_xticks(x)\n",
    "# Set ticks labels for x-axis\n",
    "ax1.set_xticklabels(x_ticks_labels, rotation='vertical', fontsize=18)\n",
    "\n",
    "ax2 = ax1.twinx()\n",
    "y2 = dfa['freq in web'][:sample]\n",
    "ax2.plot(x, y2, 'g--')\n",
    "ax2.set_ylabel('freq in web', color='g')\n",
    "ax2.tick_params('y', colors='g')\n",
    "\n",
    "#fig.tight_layout()\n",
    "plt.show()"
   ]
  },
  {
   "cell_type": "code",
   "execution_count": null,
   "metadata": {
    "collapsed": true
   },
   "outputs": [],
   "source": []
  }
 ],
 "metadata": {
  "kernelspec": {
   "display_name": "Python 2",
   "language": "python",
   "name": "python2"
  },
  "language_info": {
   "codemirror_mode": {
    "name": "ipython",
    "version": 2
   },
   "file_extension": ".py",
   "mimetype": "text/x-python",
   "name": "python",
   "nbconvert_exporter": "python",
   "pygments_lexer": "ipython2",
   "version": "2.7.14"
  }
 },
 "nbformat": 4,
 "nbformat_minor": 2
}
